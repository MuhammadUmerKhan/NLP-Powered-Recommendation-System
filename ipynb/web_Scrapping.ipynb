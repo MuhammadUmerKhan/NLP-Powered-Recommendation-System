{
 "cells": [
  {
   "cell_type": "markdown",
   "metadata": {},
   "source": [
    "# Import Libraries:"
   ]
  },
  {
   "cell_type": "code",
   "execution_count": 1,
   "metadata": {},
   "outputs": [],
   "source": [
    "import pandas as pd\n",
    "import numpy as np\n",
    "\n",
    "from selenium import webdriver\n",
    "from selenium.webdriver.common.by import By\n",
    "from selenium.webdriver.chrome.service import Service\n",
    "from selenium.webdriver.common.keys import Keys\n",
    "from selenium.webdriver.support.ui import WebDriverWait\n",
    "from selenium.webdriver.support import expected_conditions as EC\n",
    "from bs4 import BeautifulSoup\n",
    "import requests"
   ]
  },
  {
   "cell_type": "markdown",
   "metadata": {},
   "source": [
    "### <center><b> Web Scraping the Data (Environment & Sustainability: Earth Systems and Climate Science)"
   ]
  },
  {
   "cell_type": "markdown",
   "metadata": {},
   "source": [
    "## Extracting Course Title, Course Level, Course Description"
   ]
  },
  {
   "cell_type": "code",
   "execution_count": 2,
   "metadata": {},
   "outputs": [
    {
     "name": "stdout",
     "output_type": "stream",
     "text": [
      "Error scraping data for: https://ocw.mit.edu/courses/1-72-groundwater-hydrology-fall-2005/\n",
      "Error scraping data for: https://ocw.mit.edu/courses/12-009j-theoretical-environmental-analysis-spring-2015/\n",
      "Error scraping data for: https://ocw.mit.edu/courses/12-842-climate-physics-and-chemistry-fall-2008/\n"
     ]
    }
   ],
   "source": [
    "driver = webdriver.Chrome()  # Replace with your preferred browser\n",
    "\n",
    "# Load the webpage\n",
    "url = \"https://ocw.mit.edu/course-lists/environment-earth-systems-and-climate-science-5/\"  # Replace with the actual URL\n",
    "driver.get(url)\n",
    "\n",
    "# Find all course cards\n",
    "course_cards = driver.find_elements(By.CSS_SELECTOR, \".card.course-collection-row.mb-1\")\n",
    "courses_data = []\n",
    "for card in course_cards:\n",
    "    # Extract information from each card\n",
    "    course_title = card.find_element(By.CSS_SELECTOR, \".course-title h4\").text\n",
    "    course_number = card.find_element(By.CSS_SELECTOR, \".coursenum\").text\n",
    "    course_level = card.find_element(By.CSS_SELECTOR, \".level\").text\n",
    "    course_link = card.find_element(By.CSS_SELECTOR, \"a\").get_attribute(\"href\")\n",
    "    \n",
    "    # Open the course link in a new tab\n",
    "    driver.execute_script(f\"window.open('{course_link}', '_blank');\")\n",
    "    driver.switch_to.window(driver.window_handles[-1])\n",
    "\n",
    "    # Handle collapsible description (modify selectors if needed)\n",
    "    try:\n",
    "        # Check for \"expand-description\" button (for collapsible descriptions)\n",
    "        show_more_button = driver.find_element(By.ID, \"expand-description\")\n",
    "        if show_more_button:\n",
    "            show_more_button.click()\n",
    "            WebDriverWait(driver, 10).until(\n",
    "                EC.presence_of_element_located((By.CSS_SELECTOR, \"#expanded-description\"))\n",
    "            )\n",
    "            course_description = driver.find_element(By.CSS_SELECTOR, \"#expanded-description\").text\n",
    "            courses_data.append({\n",
    "                'Title':course_title, \n",
    "                'Difficult':course_level, \n",
    "                'Description':course_description,\n",
    "                'Link': course_link\n",
    "            })\n",
    "        else:\n",
    "            course_description = driver.find_element(By.ID, \"full-description\").text\n",
    "            \n",
    "            courses_data.append({'Description': np.nan})\n",
    "        \n",
    "        # print(f\"Course Title: {course_title}\")\n",
    "        # print(f\"Course Description: {course_description}\")\n",
    "    except:\n",
    "        print(f\"Error scraping data for: {course_link}\")\n",
    "\n",
    "    \n",
    "    # Close the current tab\n",
    "    driver.close()\n",
    "    driver.switch_to.window(driver.window_handles[0])\n",
    "\n",
    "# Close the main browser window\n",
    "driver.quit()"
   ]
  },
  {
   "cell_type": "code",
   "execution_count": 3,
   "metadata": {},
   "outputs": [],
   "source": [
    "courses_data_df = pd.DataFrame(courses_data)"
   ]
  },
  {
   "cell_type": "code",
   "execution_count": 4,
   "metadata": {},
   "outputs": [
    {
     "data": {
      "text/html": [
       "<div>\n",
       "<style scoped>\n",
       "    .dataframe tbody tr th:only-of-type {\n",
       "        vertical-align: middle;\n",
       "    }\n",
       "\n",
       "    .dataframe tbody tr th {\n",
       "        vertical-align: top;\n",
       "    }\n",
       "\n",
       "    .dataframe thead th {\n",
       "        text-align: right;\n",
       "    }\n",
       "</style>\n",
       "<table border=\"1\" class=\"dataframe\">\n",
       "  <thead>\n",
       "    <tr style=\"text-align: right;\">\n",
       "      <th></th>\n",
       "      <th>Title</th>\n",
       "      <th>Difficult</th>\n",
       "      <th>Description</th>\n",
       "      <th>Link</th>\n",
       "    </tr>\n",
       "  </thead>\n",
       "  <tbody>\n",
       "    <tr>\n",
       "      <th>0</th>\n",
       "      <td>Ecology I: The Earth System</td>\n",
       "      <td>Undergraduate</td>\n",
       "      <td>We will cover fundamentals of ecology, conside...</td>\n",
       "      <td>https://ocw.mit.edu/courses/1-018j-ecology-i-t...</td>\n",
       "    </tr>\n",
       "    <tr>\n",
       "      <th>1</th>\n",
       "      <td>Ecology II: Engineering for Sustainability</td>\n",
       "      <td>Undergraduate</td>\n",
       "      <td>This course provides a review of physical, che...</td>\n",
       "      <td>https://ocw.mit.edu/courses/1-020-ecology-ii-e...</td>\n",
       "    </tr>\n",
       "    <tr>\n",
       "      <th>2</th>\n",
       "      <td>Transport Processes in the Environment</td>\n",
       "      <td>Undergraduate</td>\n",
       "      <td>This class serves as an introduction to mass t...</td>\n",
       "      <td>https://ocw.mit.edu/courses/1-061-transport-pr...</td>\n",
       "    </tr>\n",
       "    <tr>\n",
       "      <th>3</th>\n",
       "      <td>Advanced Fluid Dynamics of the Environment</td>\n",
       "      <td>Graduate</td>\n",
       "      <td>Designed to familiarize students with theories...</td>\n",
       "      <td>https://ocw.mit.edu/courses/1-63-advanced-flui...</td>\n",
       "    </tr>\n",
       "    <tr>\n",
       "      <th>4</th>\n",
       "      <td>Land, Water, Food, and Climate</td>\n",
       "      <td>Graduate</td>\n",
       "      <td>This reading seminar examines land, water, foo...</td>\n",
       "      <td>https://ocw.mit.edu/courses/1-74-land-water-fo...</td>\n",
       "    </tr>\n",
       "  </tbody>\n",
       "</table>\n",
       "</div>"
      ],
      "text/plain": [
       "                                        Title      Difficult  \\\n",
       "0                 Ecology I: The Earth System  Undergraduate   \n",
       "1  Ecology II: Engineering for Sustainability  Undergraduate   \n",
       "2      Transport Processes in the Environment  Undergraduate   \n",
       "3  Advanced Fluid Dynamics of the Environment       Graduate   \n",
       "4              Land, Water, Food, and Climate       Graduate   \n",
       "\n",
       "                                         Description  \\\n",
       "0  We will cover fundamentals of ecology, conside...   \n",
       "1  This course provides a review of physical, che...   \n",
       "2  This class serves as an introduction to mass t...   \n",
       "3  Designed to familiarize students with theories...   \n",
       "4  This reading seminar examines land, water, foo...   \n",
       "\n",
       "                                                Link  \n",
       "0  https://ocw.mit.edu/courses/1-018j-ecology-i-t...  \n",
       "1  https://ocw.mit.edu/courses/1-020-ecology-ii-e...  \n",
       "2  https://ocw.mit.edu/courses/1-061-transport-pr...  \n",
       "3  https://ocw.mit.edu/courses/1-63-advanced-flui...  \n",
       "4  https://ocw.mit.edu/courses/1-74-land-water-fo...  "
      ]
     },
     "execution_count": 4,
     "metadata": {},
     "output_type": "execute_result"
    }
   ],
   "source": [
    "courses_data_df.head()"
   ]
  },
  {
   "cell_type": "markdown",
   "metadata": {},
   "source": [
    "## Extracting Course Title, Course Level, Course Description For Links facing Error"
   ]
  },
  {
   "cell_type": "code",
   "execution_count": 5,
   "metadata": {},
   "outputs": [
    {
     "name": "stdout",
     "output_type": "stream",
     "text": [
      "Error scraping data for: https://ocw.mit.edu/courses/1-018j-ecology-i-the-earth-system-fall-2009/\n",
      "Error scraping data for: https://ocw.mit.edu/courses/1-020-ecology-ii-engineering-for-sustainability-spring-2008/\n",
      "Error scraping data for: https://ocw.mit.edu/courses/1-061-transport-processes-in-the-environment-fall-2008/\n",
      "Error scraping data for: https://ocw.mit.edu/courses/1-63-advanced-fluid-dynamics-of-the-environment-fall-2002/\n",
      "Error scraping data for: https://ocw.mit.edu/courses/1-74-land-water-food-and-climate-fall-2020/\n",
      "Error scraping data for: https://ocw.mit.edu/courses/1-84j-atmospheric-chemistry-fall-2013/\n",
      "Error scraping data for: https://ocw.mit.edu/courses/5-60-thermodynamics-kinetics-spring-2008/\n",
      "Error scraping data for: https://ocw.mit.edu/courses/8-21-the-physics-of-energy-fall-2009/\n",
      "Error scraping data for: https://ocw.mit.edu/courses/12-000-solving-complex-problems-fall-2009/\n",
      "Error scraping data for: https://ocw.mit.edu/courses/12-001-introduction-to-geology-fall-2013/\n",
      "Error scraping data for: https://ocw.mit.edu/courses/12-002-physics-and-chemistry-of-the-terrestrial-planets-fall-2008/\n",
      "Error scraping data for: https://ocw.mit.edu/courses/12-003-atmosphere-ocean-and-climate-dynamics-fall-2008/\n",
      "Error scraping data for: https://ocw.mit.edu/courses/12-007-geobiology-spring-2013/\n",
      "Error scraping data for: https://ocw.mit.edu/courses/12-086-modeling-environmental-complexity-fall-2014/\n",
      "Error scraping data for: https://ocw.mit.edu/courses/12-090-the-environment-of-the-earths-surface-spring-2007/\n",
      "Error scraping data for: https://ocw.mit.edu/courses/12-103-science-and-policy-of-natural-hazards-spring-2010/\n",
      "Error scraping data for: https://ocw.mit.edu/courses/12-307-weather-and-climate-laboratory-spring-2009/\n",
      "Error scraping data for: https://ocw.mit.edu/courses/12-333-atmospheric-and-ocean-circulations-spring-2004/\n",
      "Error scraping data for: https://ocw.mit.edu/courses/12-335-experimental-atmospheric-chemistry-fall-2014/\n",
      "Error scraping data for: https://ocw.mit.edu/courses/12-340-global-warming-science-spring-2012/\n",
      "Error scraping data for: https://ocw.mit.edu/courses/12-740-paleoceanography-spring-2008/\n",
      "Error scraping data for: https://ocw.mit.edu/courses/ec-719-d-lab-water-climate-change-and-health-spring-2019/\n",
      "Error scraping data for: https://ocw.mit.edu/courses/20-104j-chemicals-in-the-environment-toxicology-and-public-health-be-104j-spring-2005/\n",
      "Error scraping data for: https://ocw.mit.edu/courses/res-env-003-earthdnas-climate-101-fall-2019/\n",
      "Error scraping data for: https://ocw.mit.edu/courses/res-env-005-climate-science-risk-solutions-a-climate-primer-fall-2020/\n"
     ]
    }
   ],
   "source": [
    "driver = webdriver.Chrome()  # Replace with your preferred browser\n",
    "\n",
    "# Load the webpage\n",
    "url = \"https://ocw.mit.edu/course-lists/environment-earth-systems-and-climate-science-5/\"  # Replace with the actual URL\n",
    "driver.get(url)\n",
    "\n",
    "# Find all course cards\n",
    "course_cards = driver.find_elements(By.CSS_SELECTOR, \".card.course-collection-row.mb-1\")\n",
    "courses_data_1 = []\n",
    "for card in course_cards:\n",
    "    # Extract information from each card\n",
    "    \n",
    "    course_title = card.find_element(By.CSS_SELECTOR, \".course-title h4\").text\n",
    "    course_number = card.find_element(By.CSS_SELECTOR, \".coursenum\").text\n",
    "    course_level = card.find_element(By.CSS_SELECTOR, \".level\").text\n",
    "    course_link = card.find_element(By.CSS_SELECTOR, \"a\").get_attribute(\"href\")\n",
    "\n",
    "    # Open the course link in a new tab\n",
    "    driver.execute_script(f\"window.open('{course_link}', '_blank');\")\n",
    "    driver.switch_to.window(driver.window_handles[-1])\n",
    "\n",
    "    try:\n",
    "        # Find the description element by its ID\n",
    "        course_description = driver.find_element(By.ID, \"full-description\").text\n",
    "        courses_data_1.append({\n",
    "                'Title':course_title, \n",
    "                'Difficult':course_level, \n",
    "                'Description':course_description,\n",
    "                'Link':course_link\n",
    "            })\n",
    "        # print(f\"Course Title: {course_title}\")\n",
    "        # print(f\"Course Description: {course_description}\")\n",
    "    except:\n",
    "        print(f\"Error scraping data for: {course_link}\")\n",
    "\n",
    "    # Close the current tab\n",
    "    \n",
    "    \n",
    "    \n",
    "    driver.close()\n",
    "    driver.switch_to.window(driver.window_handles[0])\n",
    "\n",
    "# Close the main browser window\n",
    "driver.quit()"
   ]
  },
  {
   "cell_type": "code",
   "execution_count": 6,
   "metadata": {},
   "outputs": [],
   "source": [
    "courses_data_df_1 = pd.DataFrame(courses_data_1)"
   ]
  },
  {
   "cell_type": "code",
   "execution_count": 7,
   "metadata": {},
   "outputs": [
    {
     "data": {
      "text/html": [
       "<div>\n",
       "<style scoped>\n",
       "    .dataframe tbody tr th:only-of-type {\n",
       "        vertical-align: middle;\n",
       "    }\n",
       "\n",
       "    .dataframe tbody tr th {\n",
       "        vertical-align: top;\n",
       "    }\n",
       "\n",
       "    .dataframe thead th {\n",
       "        text-align: right;\n",
       "    }\n",
       "</style>\n",
       "<table border=\"1\" class=\"dataframe\">\n",
       "  <thead>\n",
       "    <tr style=\"text-align: right;\">\n",
       "      <th></th>\n",
       "      <th>Title</th>\n",
       "      <th>Difficult</th>\n",
       "      <th>Description</th>\n",
       "      <th>Link</th>\n",
       "    </tr>\n",
       "  </thead>\n",
       "  <tbody>\n",
       "    <tr>\n",
       "      <th>0</th>\n",
       "      <td>Groundwater Hydrology</td>\n",
       "      <td>Graduate</td>\n",
       "      <td>This course covers fundamentals of subsurface ...</td>\n",
       "      <td>https://ocw.mit.edu/courses/1-72-groundwater-h...</td>\n",
       "    </tr>\n",
       "    <tr>\n",
       "      <th>1</th>\n",
       "      <td>Theoretical Environmental Analysis</td>\n",
       "      <td>Undergraduate</td>\n",
       "      <td>This course analyzes cooperative processes tha...</td>\n",
       "      <td>https://ocw.mit.edu/courses/12-009j-theoretica...</td>\n",
       "    </tr>\n",
       "    <tr>\n",
       "      <th>2</th>\n",
       "      <td>Climate Physics and Chemistry</td>\n",
       "      <td>Graduate</td>\n",
       "      <td>This course introduces students to climate stu...</td>\n",
       "      <td>https://ocw.mit.edu/courses/12-842-climate-phy...</td>\n",
       "    </tr>\n",
       "  </tbody>\n",
       "</table>\n",
       "</div>"
      ],
      "text/plain": [
       "                                Title      Difficult  \\\n",
       "0               Groundwater Hydrology       Graduate   \n",
       "1  Theoretical Environmental Analysis  Undergraduate   \n",
       "2       Climate Physics and Chemistry       Graduate   \n",
       "\n",
       "                                         Description  \\\n",
       "0  This course covers fundamentals of subsurface ...   \n",
       "1  This course analyzes cooperative processes tha...   \n",
       "2  This course introduces students to climate stu...   \n",
       "\n",
       "                                                Link  \n",
       "0  https://ocw.mit.edu/courses/1-72-groundwater-h...  \n",
       "1  https://ocw.mit.edu/courses/12-009j-theoretica...  \n",
       "2  https://ocw.mit.edu/courses/12-842-climate-phy...  "
      ]
     },
     "execution_count": 7,
     "metadata": {},
     "output_type": "execute_result"
    }
   ],
   "source": [
    "courses_data_df_1"
   ]
  },
  {
   "cell_type": "markdown",
   "metadata": {},
   "source": [
    "## Concatinating both DataFrame consist of Title, Difficult, Description, Link"
   ]
  },
  {
   "cell_type": "code",
   "execution_count": 8,
   "metadata": {},
   "outputs": [
    {
     "data": {
      "text/html": [
       "<div>\n",
       "<style scoped>\n",
       "    .dataframe tbody tr th:only-of-type {\n",
       "        vertical-align: middle;\n",
       "    }\n",
       "\n",
       "    .dataframe tbody tr th {\n",
       "        vertical-align: top;\n",
       "    }\n",
       "\n",
       "    .dataframe thead th {\n",
       "        text-align: right;\n",
       "    }\n",
       "</style>\n",
       "<table border=\"1\" class=\"dataframe\">\n",
       "  <thead>\n",
       "    <tr style=\"text-align: right;\">\n",
       "      <th></th>\n",
       "      <th>Title</th>\n",
       "      <th>Difficult</th>\n",
       "      <th>Description</th>\n",
       "      <th>Link</th>\n",
       "    </tr>\n",
       "  </thead>\n",
       "  <tbody>\n",
       "    <tr>\n",
       "      <th>0</th>\n",
       "      <td>Ecology I: The Earth System</td>\n",
       "      <td>Undergraduate</td>\n",
       "      <td>We will cover fundamentals of ecology, conside...</td>\n",
       "      <td>https://ocw.mit.edu/courses/1-018j-ecology-i-t...</td>\n",
       "    </tr>\n",
       "    <tr>\n",
       "      <th>1</th>\n",
       "      <td>Ecology II: Engineering for Sustainability</td>\n",
       "      <td>Undergraduate</td>\n",
       "      <td>This course provides a review of physical, che...</td>\n",
       "      <td>https://ocw.mit.edu/courses/1-020-ecology-ii-e...</td>\n",
       "    </tr>\n",
       "    <tr>\n",
       "      <th>2</th>\n",
       "      <td>Transport Processes in the Environment</td>\n",
       "      <td>Undergraduate</td>\n",
       "      <td>This class serves as an introduction to mass t...</td>\n",
       "      <td>https://ocw.mit.edu/courses/1-061-transport-pr...</td>\n",
       "    </tr>\n",
       "    <tr>\n",
       "      <th>3</th>\n",
       "      <td>Advanced Fluid Dynamics of the Environment</td>\n",
       "      <td>Graduate</td>\n",
       "      <td>Designed to familiarize students with theories...</td>\n",
       "      <td>https://ocw.mit.edu/courses/1-63-advanced-flui...</td>\n",
       "    </tr>\n",
       "    <tr>\n",
       "      <th>4</th>\n",
       "      <td>Land, Water, Food, and Climate</td>\n",
       "      <td>Graduate</td>\n",
       "      <td>This reading seminar examines land, water, foo...</td>\n",
       "      <td>https://ocw.mit.edu/courses/1-74-land-water-fo...</td>\n",
       "    </tr>\n",
       "  </tbody>\n",
       "</table>\n",
       "</div>"
      ],
      "text/plain": [
       "                                        Title      Difficult  \\\n",
       "0                 Ecology I: The Earth System  Undergraduate   \n",
       "1  Ecology II: Engineering for Sustainability  Undergraduate   \n",
       "2      Transport Processes in the Environment  Undergraduate   \n",
       "3  Advanced Fluid Dynamics of the Environment       Graduate   \n",
       "4              Land, Water, Food, and Climate       Graduate   \n",
       "\n",
       "                                         Description  \\\n",
       "0  We will cover fundamentals of ecology, conside...   \n",
       "1  This course provides a review of physical, che...   \n",
       "2  This class serves as an introduction to mass t...   \n",
       "3  Designed to familiarize students with theories...   \n",
       "4  This reading seminar examines land, water, foo...   \n",
       "\n",
       "                                                Link  \n",
       "0  https://ocw.mit.edu/courses/1-018j-ecology-i-t...  \n",
       "1  https://ocw.mit.edu/courses/1-020-ecology-ii-e...  \n",
       "2  https://ocw.mit.edu/courses/1-061-transport-pr...  \n",
       "3  https://ocw.mit.edu/courses/1-63-advanced-flui...  \n",
       "4  https://ocw.mit.edu/courses/1-74-land-water-fo...  "
      ]
     },
     "execution_count": 8,
     "metadata": {},
     "output_type": "execute_result"
    }
   ],
   "source": [
    "compelte_df = pd.concat([courses_data_df, courses_data_df_1])\n",
    "compelte_df.head()"
   ]
  },
  {
   "cell_type": "markdown",
   "metadata": {},
   "source": [
    "## Extracting Course Department"
   ]
  },
  {
   "cell_type": "code",
   "execution_count": 9,
   "metadata": {},
   "outputs": [
    {
     "name": "stdout",
     "output_type": "stream",
     "text": [
      "Department for https://ocw.mit.edu/courses/1-018j-ecology-i-the-earth-system-fall-2009/: ['Civil and Environmental Engineering']\n",
      "Department for https://ocw.mit.edu/courses/1-020-ecology-ii-engineering-for-sustainability-spring-2008/: ['Civil and Environmental Engineering', 'Civil and Environmental Engineering']\n",
      "Department for https://ocw.mit.edu/courses/1-061-transport-processes-in-the-environment-fall-2008/: ['Civil and Environmental Engineering', 'Civil and Environmental Engineering', 'Civil and Environmental Engineering']\n",
      "Department for https://ocw.mit.edu/courses/1-63-advanced-fluid-dynamics-of-the-environment-fall-2002/: ['Civil and Environmental Engineering', 'Civil and Environmental Engineering', 'Civil and Environmental Engineering', 'Civil and Environmental Engineering']\n",
      "Department for https://ocw.mit.edu/courses/1-74-land-water-food-and-climate-fall-2020/: ['Civil and Environmental Engineering', 'Civil and Environmental Engineering', 'Civil and Environmental Engineering', 'Civil and Environmental Engineering', 'Civil and Environmental Engineering']\n",
      "Department for https://ocw.mit.edu/courses/1-84j-atmospheric-chemistry-fall-2013/: ['Civil and Environmental Engineering', 'Civil and Environmental Engineering', 'Civil and Environmental Engineering', 'Civil and Environmental Engineering', 'Civil and Environmental Engineering', 'Civil and Environmental Engineering']\n",
      "Department for https://ocw.mit.edu/courses/5-60-thermodynamics-kinetics-spring-2008/: ['Civil and Environmental Engineering', 'Civil and Environmental Engineering', 'Civil and Environmental Engineering', 'Civil and Environmental Engineering', 'Civil and Environmental Engineering', 'Civil and Environmental Engineering', 'Chemistry']\n",
      "Department for https://ocw.mit.edu/courses/8-21-the-physics-of-energy-fall-2009/: ['Civil and Environmental Engineering', 'Civil and Environmental Engineering', 'Civil and Environmental Engineering', 'Civil and Environmental Engineering', 'Civil and Environmental Engineering', 'Civil and Environmental Engineering', 'Chemistry', 'Physics']\n",
      "Department for https://ocw.mit.edu/courses/12-000-solving-complex-problems-fall-2009/: ['Civil and Environmental Engineering', 'Civil and Environmental Engineering', 'Civil and Environmental Engineering', 'Civil and Environmental Engineering', 'Civil and Environmental Engineering', 'Civil and Environmental Engineering', 'Chemistry', 'Physics', 'Earth, Atmospheric, and Planetary Sciences']\n",
      "Department for https://ocw.mit.edu/courses/12-001-introduction-to-geology-fall-2013/: ['Civil and Environmental Engineering', 'Civil and Environmental Engineering', 'Civil and Environmental Engineering', 'Civil and Environmental Engineering', 'Civil and Environmental Engineering', 'Civil and Environmental Engineering', 'Chemistry', 'Physics', 'Earth, Atmospheric, and Planetary Sciences', 'Earth, Atmospheric, and Planetary Sciences']\n",
      "Department for https://ocw.mit.edu/courses/12-002-physics-and-chemistry-of-the-terrestrial-planets-fall-2008/: ['Civil and Environmental Engineering', 'Civil and Environmental Engineering', 'Civil and Environmental Engineering', 'Civil and Environmental Engineering', 'Civil and Environmental Engineering', 'Civil and Environmental Engineering', 'Chemistry', 'Physics', 'Earth, Atmospheric, and Planetary Sciences', 'Earth, Atmospheric, and Planetary Sciences', 'Earth, Atmospheric, and Planetary Sciences']\n",
      "Department for https://ocw.mit.edu/courses/12-003-atmosphere-ocean-and-climate-dynamics-fall-2008/: ['Civil and Environmental Engineering', 'Civil and Environmental Engineering', 'Civil and Environmental Engineering', 'Civil and Environmental Engineering', 'Civil and Environmental Engineering', 'Civil and Environmental Engineering', 'Chemistry', 'Physics', 'Earth, Atmospheric, and Planetary Sciences', 'Earth, Atmospheric, and Planetary Sciences', 'Earth, Atmospheric, and Planetary Sciences', 'Earth, Atmospheric, and Planetary Sciences']\n",
      "Department for https://ocw.mit.edu/courses/12-007-geobiology-spring-2013/: ['Civil and Environmental Engineering', 'Civil and Environmental Engineering', 'Civil and Environmental Engineering', 'Civil and Environmental Engineering', 'Civil and Environmental Engineering', 'Civil and Environmental Engineering', 'Chemistry', 'Physics', 'Earth, Atmospheric, and Planetary Sciences', 'Earth, Atmospheric, and Planetary Sciences', 'Earth, Atmospheric, and Planetary Sciences', 'Earth, Atmospheric, and Planetary Sciences', 'Earth, Atmospheric, and Planetary Sciences']\n",
      "Department for https://ocw.mit.edu/courses/12-086-modeling-environmental-complexity-fall-2014/: ['Civil and Environmental Engineering', 'Civil and Environmental Engineering', 'Civil and Environmental Engineering', 'Civil and Environmental Engineering', 'Civil and Environmental Engineering', 'Civil and Environmental Engineering', 'Chemistry', 'Physics', 'Earth, Atmospheric, and Planetary Sciences', 'Earth, Atmospheric, and Planetary Sciences', 'Earth, Atmospheric, and Planetary Sciences', 'Earth, Atmospheric, and Planetary Sciences', 'Earth, Atmospheric, and Planetary Sciences', 'Earth, Atmospheric, and Planetary Sciences']\n",
      "Department for https://ocw.mit.edu/courses/12-090-the-environment-of-the-earths-surface-spring-2007/: ['Civil and Environmental Engineering', 'Civil and Environmental Engineering', 'Civil and Environmental Engineering', 'Civil and Environmental Engineering', 'Civil and Environmental Engineering', 'Civil and Environmental Engineering', 'Chemistry', 'Physics', 'Earth, Atmospheric, and Planetary Sciences', 'Earth, Atmospheric, and Planetary Sciences', 'Earth, Atmospheric, and Planetary Sciences', 'Earth, Atmospheric, and Planetary Sciences', 'Earth, Atmospheric, and Planetary Sciences', 'Earth, Atmospheric, and Planetary Sciences', 'Earth, Atmospheric, and Planetary Sciences']\n",
      "Department for https://ocw.mit.edu/courses/12-103-science-and-policy-of-natural-hazards-spring-2010/: ['Civil and Environmental Engineering', 'Civil and Environmental Engineering', 'Civil and Environmental Engineering', 'Civil and Environmental Engineering', 'Civil and Environmental Engineering', 'Civil and Environmental Engineering', 'Chemistry', 'Physics', 'Earth, Atmospheric, and Planetary Sciences', 'Earth, Atmospheric, and Planetary Sciences', 'Earth, Atmospheric, and Planetary Sciences', 'Earth, Atmospheric, and Planetary Sciences', 'Earth, Atmospheric, and Planetary Sciences', 'Earth, Atmospheric, and Planetary Sciences', 'Earth, Atmospheric, and Planetary Sciences', 'Earth, Atmospheric, and Planetary Sciences']\n",
      "Department for https://ocw.mit.edu/courses/12-307-weather-and-climate-laboratory-spring-2009/: ['Civil and Environmental Engineering', 'Civil and Environmental Engineering', 'Civil and Environmental Engineering', 'Civil and Environmental Engineering', 'Civil and Environmental Engineering', 'Civil and Environmental Engineering', 'Chemistry', 'Physics', 'Earth, Atmospheric, and Planetary Sciences', 'Earth, Atmospheric, and Planetary Sciences', 'Earth, Atmospheric, and Planetary Sciences', 'Earth, Atmospheric, and Planetary Sciences', 'Earth, Atmospheric, and Planetary Sciences', 'Earth, Atmospheric, and Planetary Sciences', 'Earth, Atmospheric, and Planetary Sciences', 'Earth, Atmospheric, and Planetary Sciences', 'Earth, Atmospheric, and Planetary Sciences']\n",
      "Department for https://ocw.mit.edu/courses/12-333-atmospheric-and-ocean-circulations-spring-2004/: ['Civil and Environmental Engineering', 'Civil and Environmental Engineering', 'Civil and Environmental Engineering', 'Civil and Environmental Engineering', 'Civil and Environmental Engineering', 'Civil and Environmental Engineering', 'Chemistry', 'Physics', 'Earth, Atmospheric, and Planetary Sciences', 'Earth, Atmospheric, and Planetary Sciences', 'Earth, Atmospheric, and Planetary Sciences', 'Earth, Atmospheric, and Planetary Sciences', 'Earth, Atmospheric, and Planetary Sciences', 'Earth, Atmospheric, and Planetary Sciences', 'Earth, Atmospheric, and Planetary Sciences', 'Earth, Atmospheric, and Planetary Sciences', 'Earth, Atmospheric, and Planetary Sciences', 'Earth, Atmospheric, and Planetary Sciences']\n",
      "Department for https://ocw.mit.edu/courses/12-335-experimental-atmospheric-chemistry-fall-2014/: ['Civil and Environmental Engineering', 'Civil and Environmental Engineering', 'Civil and Environmental Engineering', 'Civil and Environmental Engineering', 'Civil and Environmental Engineering', 'Civil and Environmental Engineering', 'Chemistry', 'Physics', 'Earth, Atmospheric, and Planetary Sciences', 'Earth, Atmospheric, and Planetary Sciences', 'Earth, Atmospheric, and Planetary Sciences', 'Earth, Atmospheric, and Planetary Sciences', 'Earth, Atmospheric, and Planetary Sciences', 'Earth, Atmospheric, and Planetary Sciences', 'Earth, Atmospheric, and Planetary Sciences', 'Earth, Atmospheric, and Planetary Sciences', 'Earth, Atmospheric, and Planetary Sciences', 'Earth, Atmospheric, and Planetary Sciences', 'Earth, Atmospheric, and Planetary Sciences']\n",
      "Department for https://ocw.mit.edu/courses/12-340-global-warming-science-spring-2012/: ['Civil and Environmental Engineering', 'Civil and Environmental Engineering', 'Civil and Environmental Engineering', 'Civil and Environmental Engineering', 'Civil and Environmental Engineering', 'Civil and Environmental Engineering', 'Chemistry', 'Physics', 'Earth, Atmospheric, and Planetary Sciences', 'Earth, Atmospheric, and Planetary Sciences', 'Earth, Atmospheric, and Planetary Sciences', 'Earth, Atmospheric, and Planetary Sciences', 'Earth, Atmospheric, and Planetary Sciences', 'Earth, Atmospheric, and Planetary Sciences', 'Earth, Atmospheric, and Planetary Sciences', 'Earth, Atmospheric, and Planetary Sciences', 'Earth, Atmospheric, and Planetary Sciences', 'Earth, Atmospheric, and Planetary Sciences', 'Earth, Atmospheric, and Planetary Sciences', 'Earth, Atmospheric, and Planetary Sciences']\n",
      "Department for https://ocw.mit.edu/courses/12-740-paleoceanography-spring-2008/: ['Civil and Environmental Engineering', 'Civil and Environmental Engineering', 'Civil and Environmental Engineering', 'Civil and Environmental Engineering', 'Civil and Environmental Engineering', 'Civil and Environmental Engineering', 'Chemistry', 'Physics', 'Earth, Atmospheric, and Planetary Sciences', 'Earth, Atmospheric, and Planetary Sciences', 'Earth, Atmospheric, and Planetary Sciences', 'Earth, Atmospheric, and Planetary Sciences', 'Earth, Atmospheric, and Planetary Sciences', 'Earth, Atmospheric, and Planetary Sciences', 'Earth, Atmospheric, and Planetary Sciences', 'Earth, Atmospheric, and Planetary Sciences', 'Earth, Atmospheric, and Planetary Sciences', 'Earth, Atmospheric, and Planetary Sciences', 'Earth, Atmospheric, and Planetary Sciences', 'Earth, Atmospheric, and Planetary Sciences', 'Earth, Atmospheric, and Planetary Sciences']\n",
      "Department for https://ocw.mit.edu/courses/ec-719-d-lab-water-climate-change-and-health-spring-2019/: ['Civil and Environmental Engineering', 'Civil and Environmental Engineering', 'Civil and Environmental Engineering', 'Civil and Environmental Engineering', 'Civil and Environmental Engineering', 'Civil and Environmental Engineering', 'Chemistry', 'Physics', 'Earth, Atmospheric, and Planetary Sciences', 'Earth, Atmospheric, and Planetary Sciences', 'Earth, Atmospheric, and Planetary Sciences', 'Earth, Atmospheric, and Planetary Sciences', 'Earth, Atmospheric, and Planetary Sciences', 'Earth, Atmospheric, and Planetary Sciences', 'Earth, Atmospheric, and Planetary Sciences', 'Earth, Atmospheric, and Planetary Sciences', 'Earth, Atmospheric, and Planetary Sciences', 'Earth, Atmospheric, and Planetary Sciences', 'Earth, Atmospheric, and Planetary Sciences', 'Earth, Atmospheric, and Planetary Sciences', 'Earth, Atmospheric, and Planetary Sciences', 'Edgerton Center']\n",
      "Department for https://ocw.mit.edu/courses/20-104j-chemicals-in-the-environment-toxicology-and-public-health-be-104j-spring-2005/: ['Civil and Environmental Engineering', 'Civil and Environmental Engineering', 'Civil and Environmental Engineering', 'Civil and Environmental Engineering', 'Civil and Environmental Engineering', 'Civil and Environmental Engineering', 'Chemistry', 'Physics', 'Earth, Atmospheric, and Planetary Sciences', 'Earth, Atmospheric, and Planetary Sciences', 'Earth, Atmospheric, and Planetary Sciences', 'Earth, Atmospheric, and Planetary Sciences', 'Earth, Atmospheric, and Planetary Sciences', 'Earth, Atmospheric, and Planetary Sciences', 'Earth, Atmospheric, and Planetary Sciences', 'Earth, Atmospheric, and Planetary Sciences', 'Earth, Atmospheric, and Planetary Sciences', 'Earth, Atmospheric, and Planetary Sciences', 'Earth, Atmospheric, and Planetary Sciences', 'Earth, Atmospheric, and Planetary Sciences', 'Earth, Atmospheric, and Planetary Sciences', 'Edgerton Center', 'Biological Engineering']\n",
      "Department for https://ocw.mit.edu/courses/res-env-003-earthdnas-climate-101-fall-2019/: ['Civil and Environmental Engineering', 'Civil and Environmental Engineering', 'Civil and Environmental Engineering', 'Civil and Environmental Engineering', 'Civil and Environmental Engineering', 'Civil and Environmental Engineering', 'Chemistry', 'Physics', 'Earth, Atmospheric, and Planetary Sciences', 'Earth, Atmospheric, and Planetary Sciences', 'Earth, Atmospheric, and Planetary Sciences', 'Earth, Atmospheric, and Planetary Sciences', 'Earth, Atmospheric, and Planetary Sciences', 'Earth, Atmospheric, and Planetary Sciences', 'Earth, Atmospheric, and Planetary Sciences', 'Earth, Atmospheric, and Planetary Sciences', 'Earth, Atmospheric, and Planetary Sciences', 'Earth, Atmospheric, and Planetary Sciences', 'Earth, Atmospheric, and Planetary Sciences', 'Earth, Atmospheric, and Planetary Sciences', 'Earth, Atmospheric, and Planetary Sciences', 'Edgerton Center', 'Biological Engineering', nan]\n",
      "Department for https://ocw.mit.edu/courses/res-env-005-climate-science-risk-solutions-a-climate-primer-fall-2020/: ['Civil and Environmental Engineering', 'Civil and Environmental Engineering', 'Civil and Environmental Engineering', 'Civil and Environmental Engineering', 'Civil and Environmental Engineering', 'Civil and Environmental Engineering', 'Chemistry', 'Physics', 'Earth, Atmospheric, and Planetary Sciences', 'Earth, Atmospheric, and Planetary Sciences', 'Earth, Atmospheric, and Planetary Sciences', 'Earth, Atmospheric, and Planetary Sciences', 'Earth, Atmospheric, and Planetary Sciences', 'Earth, Atmospheric, and Planetary Sciences', 'Earth, Atmospheric, and Planetary Sciences', 'Earth, Atmospheric, and Planetary Sciences', 'Earth, Atmospheric, and Planetary Sciences', 'Earth, Atmospheric, and Planetary Sciences', 'Earth, Atmospheric, and Planetary Sciences', 'Earth, Atmospheric, and Planetary Sciences', 'Earth, Atmospheric, and Planetary Sciences', 'Edgerton Center', 'Biological Engineering', nan, nan]\n",
      "Department for https://ocw.mit.edu/courses/1-72-groundwater-hydrology-fall-2005/: ['Civil and Environmental Engineering', 'Civil and Environmental Engineering', 'Civil and Environmental Engineering', 'Civil and Environmental Engineering', 'Civil and Environmental Engineering', 'Civil and Environmental Engineering', 'Chemistry', 'Physics', 'Earth, Atmospheric, and Planetary Sciences', 'Earth, Atmospheric, and Planetary Sciences', 'Earth, Atmospheric, and Planetary Sciences', 'Earth, Atmospheric, and Planetary Sciences', 'Earth, Atmospheric, and Planetary Sciences', 'Earth, Atmospheric, and Planetary Sciences', 'Earth, Atmospheric, and Planetary Sciences', 'Earth, Atmospheric, and Planetary Sciences', 'Earth, Atmospheric, and Planetary Sciences', 'Earth, Atmospheric, and Planetary Sciences', 'Earth, Atmospheric, and Planetary Sciences', 'Earth, Atmospheric, and Planetary Sciences', 'Earth, Atmospheric, and Planetary Sciences', 'Edgerton Center', 'Biological Engineering', nan, nan, 'Civil and Environmental Engineering']\n",
      "Department for https://ocw.mit.edu/courses/12-009j-theoretical-environmental-analysis-spring-2015/: ['Civil and Environmental Engineering', 'Civil and Environmental Engineering', 'Civil and Environmental Engineering', 'Civil and Environmental Engineering', 'Civil and Environmental Engineering', 'Civil and Environmental Engineering', 'Chemistry', 'Physics', 'Earth, Atmospheric, and Planetary Sciences', 'Earth, Atmospheric, and Planetary Sciences', 'Earth, Atmospheric, and Planetary Sciences', 'Earth, Atmospheric, and Planetary Sciences', 'Earth, Atmospheric, and Planetary Sciences', 'Earth, Atmospheric, and Planetary Sciences', 'Earth, Atmospheric, and Planetary Sciences', 'Earth, Atmospheric, and Planetary Sciences', 'Earth, Atmospheric, and Planetary Sciences', 'Earth, Atmospheric, and Planetary Sciences', 'Earth, Atmospheric, and Planetary Sciences', 'Earth, Atmospheric, and Planetary Sciences', 'Earth, Atmospheric, and Planetary Sciences', 'Edgerton Center', 'Biological Engineering', nan, nan, 'Civil and Environmental Engineering', 'Earth, Atmospheric, and Planetary Sciences']\n",
      "Department for https://ocw.mit.edu/courses/12-842-climate-physics-and-chemistry-fall-2008/: ['Civil and Environmental Engineering', 'Civil and Environmental Engineering', 'Civil and Environmental Engineering', 'Civil and Environmental Engineering', 'Civil and Environmental Engineering', 'Civil and Environmental Engineering', 'Chemistry', 'Physics', 'Earth, Atmospheric, and Planetary Sciences', 'Earth, Atmospheric, and Planetary Sciences', 'Earth, Atmospheric, and Planetary Sciences', 'Earth, Atmospheric, and Planetary Sciences', 'Earth, Atmospheric, and Planetary Sciences', 'Earth, Atmospheric, and Planetary Sciences', 'Earth, Atmospheric, and Planetary Sciences', 'Earth, Atmospheric, and Planetary Sciences', 'Earth, Atmospheric, and Planetary Sciences', 'Earth, Atmospheric, and Planetary Sciences', 'Earth, Atmospheric, and Planetary Sciences', 'Earth, Atmospheric, and Planetary Sciences', 'Earth, Atmospheric, and Planetary Sciences', 'Edgerton Center', 'Biological Engineering', nan, nan, 'Civil and Environmental Engineering', 'Earth, Atmospheric, and Planetary Sciences', 'Earth, Atmospheric, and Planetary Sciences']\n"
     ]
    }
   ],
   "source": [
    "def extract_department_name(url):\n",
    "    \n",
    "    response = requests.get(url)\n",
    "    soup = BeautifulSoup(response.content, 'html.parser')\n",
    "\n",
    "    try:\n",
    "        department_element = soup.find('a', class_='course-info-department')\n",
    "        department_name = department_element.text.strip()\n",
    "        dep_names.append(department_name)\n",
    "    except AttributeError:\n",
    "        dep_names.append(np.nan)\n",
    "\n",
    "    return dep_names\n",
    "\n",
    "# List of course URLs\n",
    "course_urls = compelte_df['Link'].values\n",
    "dep_names = []\n",
    "for url in course_urls:\n",
    "    department_names = extract_department_name(url)\n",
    "    print(f\"Department for {url}: {department_names}\")"
   ]
  },
  {
   "cell_type": "code",
   "execution_count": 10,
   "metadata": {},
   "outputs": [],
   "source": [
    "compelte_df['Departments'] = dep_names"
   ]
  },
  {
   "cell_type": "code",
   "execution_count": 11,
   "metadata": {},
   "outputs": [
    {
     "data": {
      "text/html": [
       "<div>\n",
       "<style scoped>\n",
       "    .dataframe tbody tr th:only-of-type {\n",
       "        vertical-align: middle;\n",
       "    }\n",
       "\n",
       "    .dataframe tbody tr th {\n",
       "        vertical-align: top;\n",
       "    }\n",
       "\n",
       "    .dataframe thead th {\n",
       "        text-align: right;\n",
       "    }\n",
       "</style>\n",
       "<table border=\"1\" class=\"dataframe\">\n",
       "  <thead>\n",
       "    <tr style=\"text-align: right;\">\n",
       "      <th></th>\n",
       "      <th>Title</th>\n",
       "      <th>Difficult</th>\n",
       "      <th>Description</th>\n",
       "      <th>Link</th>\n",
       "      <th>Departments</th>\n",
       "    </tr>\n",
       "  </thead>\n",
       "  <tbody>\n",
       "    <tr>\n",
       "      <th>0</th>\n",
       "      <td>Ecology I: The Earth System</td>\n",
       "      <td>Undergraduate</td>\n",
       "      <td>We will cover fundamentals of ecology, conside...</td>\n",
       "      <td>https://ocw.mit.edu/courses/1-018j-ecology-i-t...</td>\n",
       "      <td>Civil and Environmental Engineering</td>\n",
       "    </tr>\n",
       "    <tr>\n",
       "      <th>1</th>\n",
       "      <td>Ecology II: Engineering for Sustainability</td>\n",
       "      <td>Undergraduate</td>\n",
       "      <td>This course provides a review of physical, che...</td>\n",
       "      <td>https://ocw.mit.edu/courses/1-020-ecology-ii-e...</td>\n",
       "      <td>Civil and Environmental Engineering</td>\n",
       "    </tr>\n",
       "    <tr>\n",
       "      <th>2</th>\n",
       "      <td>Transport Processes in the Environment</td>\n",
       "      <td>Undergraduate</td>\n",
       "      <td>This class serves as an introduction to mass t...</td>\n",
       "      <td>https://ocw.mit.edu/courses/1-061-transport-pr...</td>\n",
       "      <td>Civil and Environmental Engineering</td>\n",
       "    </tr>\n",
       "  </tbody>\n",
       "</table>\n",
       "</div>"
      ],
      "text/plain": [
       "                                        Title      Difficult  \\\n",
       "0                 Ecology I: The Earth System  Undergraduate   \n",
       "1  Ecology II: Engineering for Sustainability  Undergraduate   \n",
       "2      Transport Processes in the Environment  Undergraduate   \n",
       "\n",
       "                                         Description  \\\n",
       "0  We will cover fundamentals of ecology, conside...   \n",
       "1  This course provides a review of physical, che...   \n",
       "2  This class serves as an introduction to mass t...   \n",
       "\n",
       "                                                Link  \\\n",
       "0  https://ocw.mit.edu/courses/1-018j-ecology-i-t...   \n",
       "1  https://ocw.mit.edu/courses/1-020-ecology-ii-e...   \n",
       "2  https://ocw.mit.edu/courses/1-061-transport-pr...   \n",
       "\n",
       "                           Departments  \n",
       "0  Civil and Environmental Engineering  \n",
       "1  Civil and Environmental Engineering  \n",
       "2  Civil and Environmental Engineering  "
      ]
     },
     "execution_count": 11,
     "metadata": {},
     "output_type": "execute_result"
    }
   ],
   "source": [
    "compelte_df.head(3)"
   ]
  },
  {
   "cell_type": "markdown",
   "metadata": {},
   "source": [
    "## Extracting Course Topics"
   ]
  },
  {
   "cell_type": "code",
   "execution_count": 108,
   "metadata": {},
   "outputs": [],
   "source": [
    "def extract_course_topics(url):\n",
    "    response = requests.get(url=url)\n",
    "    soup = BeautifulSoup(response.content, 'html.parser')\n",
    "\n",
    "    topics = []\n",
    "    \n",
    "    try:\n",
    "        topic_element = soup.find_all('span', class_ = \"topic-text-wrapper\")\n",
    "        for topic in topic_element:\n",
    "\n",
    "            course_topic = topic.find('a', class_ = \"text-black course-info-topic strip-link-offline\").text.strip()\n",
    "            topics.append(course_topic)\n",
    "    except:\n",
    "        topics.append(np.nan)\n",
    "        print(f\"No course topic elements found for URL: {url}\")\n",
    "        \n",
    "    return topics\n",
    "\n",
    "def extract_topic_from_multiple_links(urls):\n",
    "    all_course_topics = []\n",
    "    for url in urls:\n",
    "        course_topics = extract_course_topics(url)\n",
    "        all_course_topics.append(course_topics)\n",
    "    return all_course_topics"
   ]
  },
  {
   "cell_type": "code",
   "execution_count": 110,
   "metadata": {},
   "outputs": [
    {
     "name": "stdout",
     "output_type": "stream",
     "text": [
      "Topics for URL https://ocw.mit.edu/courses/1-018j-ecology-i-the-earth-system-fall-2009/: ['Science', 'Biology', 'Ecology', 'Earth Science', 'Science', 'Biology', 'Ecology', 'Earth Science']\n",
      "Topics for URL https://ocw.mit.edu/courses/1-020-ecology-ii-engineering-for-sustainability-spring-2008/: ['Engineering', 'Civil Engineering', 'Science', 'Biology', 'Ecology', 'Earth Science', 'Environmental Science', 'Sustainability', 'Engineering', 'Civil Engineering', 'Science', 'Biology', 'Ecology', 'Earth Science', 'Environmental Science', 'Sustainability']\n",
      "Topics for URL https://ocw.mit.edu/courses/1-061-transport-processes-in-the-environment-fall-2008/: ['Engineering', 'Chemical Engineering', 'Transport Processes', 'Environmental Engineering', 'Aquatic Sciences and Water Quality Control', 'Hydrology and Water Resource Systems', 'Engineering', 'Chemical Engineering', 'Transport Processes', 'Environmental Engineering', 'Aquatic Sciences and Water Quality Control', 'Hydrology and Water Resource Systems']\n",
      "Topics for URL https://ocw.mit.edu/courses/1-63-advanced-fluid-dynamics-of-the-environment-fall-2002/: ['Engineering', 'Environmental Engineering', 'Hydrodynamics and Coastal Engineering', 'Mechanical Engineering', 'Fluid Mechanics', 'Ocean Engineering', 'Hydrodynamics', 'Engineering', 'Environmental Engineering', 'Hydrodynamics and Coastal Engineering', 'Mechanical Engineering', 'Fluid Mechanics', 'Ocean Engineering', 'Hydrodynamics']\n",
      "Topics for URL https://ocw.mit.edu/courses/1-74-land-water-food-and-climate-fall-2020/: ['Energy', 'Climate', 'Renewables', 'Science', 'Earth Science', 'Climate Studies', 'Environmental Science', 'Sustainability', 'Energy', 'Climate', 'Renewables', 'Science', 'Earth Science', 'Climate Studies', 'Environmental Science', 'Sustainability']\n",
      "Topics for URL https://ocw.mit.edu/courses/1-84j-atmospheric-chemistry-fall-2013/: ['Energy', 'Climate', 'Science', 'Earth Science', 'Atmospheric Science', 'Energy', 'Climate', 'Science', 'Earth Science', 'Atmospheric Science']\n",
      "Topics for URL https://ocw.mit.edu/courses/5-60-thermodynamics-kinetics-spring-2008/: ['Science', 'Chemistry', 'Physical Chemistry', 'Physics', 'Classical Mechanics', 'Thermodynamics', 'Science', 'Chemistry', 'Physical Chemistry', 'Physics', 'Classical Mechanics', 'Thermodynamics']\n",
      "Topics for URL https://ocw.mit.edu/courses/8-21-the-physics-of-energy-fall-2009/: ['Energy', 'Buildings', 'Climate', 'Combustion', 'Electricity', 'Fossil Fuels', 'Fuel Cells', 'Hydrogen and Alternatives', 'Nuclear', 'Renewables', 'Technology', 'Science', 'Physics', 'Energy', 'Buildings', 'Climate', 'Combustion', 'Electricity', 'Fossil Fuels', 'Fuel Cells', 'Hydrogen and Alternatives', 'Nuclear', 'Renewables', 'Technology', 'Science', 'Physics']\n",
      "Topics for URL https://ocw.mit.edu/courses/12-000-solving-complex-problems-fall-2009/: ['Engineering', 'Environmental Engineering', 'Environmental Management', 'Science', 'Earth Science', 'Atmospheric Science', 'Environmental Science', 'Social Science', 'Public Administration', 'Environmental Policy', 'Engineering', 'Environmental Engineering', 'Environmental Management', 'Science', 'Earth Science', 'Atmospheric Science', 'Environmental Science', 'Social Science', 'Public Administration', 'Environmental Policy']\n",
      "Topics for URL https://ocw.mit.edu/courses/12-001-introduction-to-geology-fall-2013/: ['Science', 'Earth Science', 'Geology', 'Science', 'Earth Science', 'Geology']\n",
      "Topics for URL https://ocw.mit.edu/courses/12-002-physics-and-chemistry-of-the-terrestrial-planets-fall-2008/: ['Science', 'Earth Science', 'Geophysics', 'Planetary Science', 'Science', 'Earth Science', 'Geophysics', 'Planetary Science']\n",
      "Topics for URL https://ocw.mit.edu/courses/12-003-atmosphere-ocean-and-climate-dynamics-fall-2008/: ['Engineering', 'Ocean Engineering', 'Hydrodynamics', 'Science', 'Earth Science', 'Atmospheric Science', 'Climate Studies', 'Environmental Science', 'Geophysics', 'Oceanography', 'Engineering', 'Ocean Engineering', 'Hydrodynamics', 'Science', 'Earth Science', 'Atmospheric Science', 'Climate Studies', 'Environmental Science', 'Geophysics', 'Oceanography']\n",
      "Topics for URL https://ocw.mit.edu/courses/12-007-geobiology-spring-2013/: ['Science', 'Earth Science', 'Geobiology', 'Science', 'Earth Science', 'Geobiology']\n",
      "Topics for URL https://ocw.mit.edu/courses/12-086-modeling-environmental-complexity-fall-2014/: ['Engineering', 'Systems Engineering', 'Computational Modeling and Simulation', 'Science', 'Earth Science', 'Environmental Science', 'Engineering', 'Systems Engineering', 'Computational Modeling and Simulation', 'Science', 'Earth Science', 'Environmental Science']\n",
      "Topics for URL https://ocw.mit.edu/courses/12-090-the-environment-of-the-earths-surface-spring-2007/: ['Engineering', 'Environmental Engineering', 'Hydrology and Water Resource Systems', 'Science', 'Earth Science', 'Environmental Science', 'Geology', 'Geophysics', 'Planetary Science', 'Engineering', 'Environmental Engineering', 'Hydrology and Water Resource Systems', 'Science', 'Earth Science', 'Environmental Science', 'Geology', 'Geophysics', 'Planetary Science']\n",
      "Topics for URL https://ocw.mit.edu/courses/12-103-science-and-policy-of-natural-hazards-spring-2010/: ['Science', 'Earth Science', 'Social Science', 'Public Administration', 'Environmental Policy', 'Science and Technology Policy', 'Science', 'Earth Science', 'Social Science', 'Public Administration', 'Environmental Policy', 'Science and Technology Policy']\n",
      "Topics for URL https://ocw.mit.edu/courses/12-307-weather-and-climate-laboratory-spring-2009/: ['Science', 'Earth Science', 'Atmospheric Science', 'Climate Studies', 'Oceanography', 'Science', 'Earth Science', 'Atmospheric Science', 'Climate Studies', 'Oceanography']\n",
      "Topics for URL https://ocw.mit.edu/courses/12-333-atmospheric-and-ocean-circulations-spring-2004/: ['Science', 'Earth Science', 'Atmospheric Science', 'Climate Studies', 'Geophysics', 'Oceanography', 'Science', 'Earth Science', 'Atmospheric Science', 'Climate Studies', 'Geophysics', 'Oceanography']\n",
      "Topics for URL https://ocw.mit.edu/courses/12-335-experimental-atmospheric-chemistry-fall-2014/: ['Science', 'Chemistry', 'Earth Science', 'Atmospheric Science', 'Science', 'Chemistry', 'Earth Science', 'Atmospheric Science']\n",
      "Topics for URL https://ocw.mit.edu/courses/12-340-global-warming-science-spring-2012/: ['Energy', 'Climate', 'Science', 'Earth Science', 'Atmospheric Science', 'Climate Studies', 'Environmental Science', 'Energy', 'Climate', 'Science', 'Earth Science', 'Atmospheric Science', 'Climate Studies', 'Environmental Science']\n",
      "Topics for URL https://ocw.mit.edu/courses/12-740-paleoceanography-spring-2008/: ['Science', 'Earth Science', 'Climate Studies', 'Geochemistry', 'Geology', 'Oceanography', 'Science', 'Earth Science', 'Climate Studies', 'Geochemistry', 'Geology', 'Oceanography']\n",
      "Topics for URL https://ocw.mit.edu/courses/ec-719-d-lab-water-climate-change-and-health-spring-2019/: ['Health and Medicine', 'Public Health', 'Science', 'Earth Science', 'Climate Studies', 'Environmental Science', 'Sustainability', 'Health and Medicine', 'Public Health', 'Science', 'Earth Science', 'Climate Studies', 'Environmental Science', 'Sustainability']\n",
      "Topics for URL https://ocw.mit.edu/courses/20-104j-chemicals-in-the-environment-toxicology-and-public-health-be-104j-spring-2005/: ['Engineering', 'Biological Engineering', 'Biostatistics', 'Health and Medicine', 'Pharmacology and Toxicology', 'Public Health', 'Science', 'Earth Science', 'Environmental Science', 'Engineering', 'Biological Engineering', 'Biostatistics', 'Health and Medicine', 'Pharmacology and Toxicology', 'Public Health', 'Science', 'Earth Science', 'Environmental Science']\n",
      "Topics for URL https://ocw.mit.edu/courses/res-env-003-earthdnas-climate-101-fall-2019/: ['Science', 'Earth Science', 'Climate Studies', 'Environmental Science', 'Science', 'Earth Science', 'Climate Studies', 'Environmental Science']\n",
      "Topics for URL https://ocw.mit.edu/courses/res-env-005-climate-science-risk-solutions-a-climate-primer-fall-2020/: ['Energy', 'Climate', 'Technology', 'Science', 'Earth Science', 'Climate Studies', 'Sustainability', 'Energy', 'Climate', 'Technology', 'Science', 'Earth Science', 'Climate Studies', 'Sustainability']\n",
      "Topics for URL https://ocw.mit.edu/courses/1-72-groundwater-hydrology-fall-2005/: ['Engineering', 'Environmental Engineering', 'Hydrology and Water Resource Systems', 'Science', 'Earth Science', 'Geology', 'Engineering', 'Environmental Engineering', 'Hydrology and Water Resource Systems', 'Science', 'Earth Science', 'Geology']\n",
      "Topics for URL https://ocw.mit.edu/courses/12-009j-theoretical-environmental-analysis-spring-2015/: ['Science', 'Biology', 'Ecology', 'Earth Science', 'Atmospheric Science', 'Climate Studies', 'Science', 'Biology', 'Ecology', 'Earth Science', 'Atmospheric Science', 'Climate Studies']\n",
      "Topics for URL https://ocw.mit.edu/courses/12-842-climate-physics-and-chemistry-fall-2008/: ['Science', 'Earth Science', 'Atmospheric Science', 'Climate Studies', 'Geochemistry', 'Geophysics', 'Planetary Science', 'Science', 'Earth Science', 'Atmospheric Science', 'Climate Studies', 'Geochemistry', 'Geophysics', 'Planetary Science']\n"
     ]
    }
   ],
   "source": [
    "all_course_topics = extract_topic_from_multiple_links(compelte_df['Link'].values)\n",
    "for i, url in enumerate(compelte_df['Link'].values):\n",
    "    print(f\"Topics for URL {url}: {all_course_topics[i]}\")"
   ]
  },
  {
   "cell_type": "markdown",
   "metadata": {},
   "source": [
    "## Final Data for Environment & Sustainability: Earth Systems and Climate Science"
   ]
  },
  {
   "cell_type": "code",
   "execution_count": 116,
   "metadata": {},
   "outputs": [],
   "source": [
    "compelte_df['Topics'] = all_course_topics"
   ]
  },
  {
   "cell_type": "code",
   "execution_count": 119,
   "metadata": {},
   "outputs": [],
   "source": [
    "compelte_df.to_csv(\"Environment & Sustainability: Earth Systems and Climate Science.csv\", index=False)"
   ]
  },
  {
   "cell_type": "code",
   "execution_count": null,
   "metadata": {},
   "outputs": [],
   "source": []
  }
 ],
 "metadata": {
  "kernelspec": {
   "display_name": ".venv",
   "language": "python",
   "name": "python3"
  },
  "language_info": {
   "codemirror_mode": {
    "name": "ipython",
    "version": 3
   },
   "file_extension": ".py",
   "mimetype": "text/x-python",
   "name": "python",
   "nbconvert_exporter": "python",
   "pygments_lexer": "ipython3",
   "version": "3.12.7"
  }
 },
 "nbformat": 4,
 "nbformat_minor": 2
}
