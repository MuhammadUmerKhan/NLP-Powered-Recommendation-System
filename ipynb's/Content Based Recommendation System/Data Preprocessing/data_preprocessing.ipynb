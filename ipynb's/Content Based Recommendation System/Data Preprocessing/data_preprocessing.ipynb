{
 "cells": [
  {
   "cell_type": "markdown",
   "metadata": {},
   "source": [
    "# <center><b><i><h3>Data Preprocessing"
   ]
  },
  {
   "cell_type": "markdown",
   "metadata": {},
   "source": [
    "## <center><h4> Importing Libraries"
   ]
  },
  {
   "cell_type": "code",
   "execution_count": 2,
   "metadata": {},
   "outputs": [],
   "source": [
    "import pandas as pd\n",
    "import numpy as np\n",
    "import ast\n",
    "\n",
    "\n",
    "import warnings\n",
    "warnings.filterwarnings(\"ignore\")"
   ]
  },
  {
   "cell_type": "markdown",
   "metadata": {},
   "source": [
    "## <center><h4> Loading Dataset"
   ]
  },
  {
   "cell_type": "code",
   "execution_count": 30,
   "metadata": {},
   "outputs": [],
   "source": [
    "Earth_Systems_data = pd.read_csv(\"../../Data/Environment & Sustainability: Earth Systems and Climate Science.csv\")\n",
    "Engineering_data = pd.read_csv(\"../../Data/Environment & Sustainability: Engineering.csv\")"
   ]
  },
  {
   "cell_type": "code",
   "execution_count": 31,
   "metadata": {},
   "outputs": [
    {
     "data": {
      "text/html": [
       "<div>\n",
       "<style scoped>\n",
       "    .dataframe tbody tr th:only-of-type {\n",
       "        vertical-align: middle;\n",
       "    }\n",
       "\n",
       "    .dataframe tbody tr th {\n",
       "        vertical-align: top;\n",
       "    }\n",
       "\n",
       "    .dataframe thead th {\n",
       "        text-align: right;\n",
       "    }\n",
       "</style>\n",
       "<table border=\"1\" class=\"dataframe\">\n",
       "  <thead>\n",
       "    <tr style=\"text-align: right;\">\n",
       "      <th></th>\n",
       "      <th>Title</th>\n",
       "      <th>Difficult</th>\n",
       "      <th>Description</th>\n",
       "      <th>Link</th>\n",
       "      <th>Departments</th>\n",
       "      <th>Topics</th>\n",
       "    </tr>\n",
       "  </thead>\n",
       "  <tbody>\n",
       "    <tr>\n",
       "      <th>0</th>\n",
       "      <td>Ecology I: The Earth System</td>\n",
       "      <td>Undergraduate</td>\n",
       "      <td>We will cover fundamentals of ecology, conside...</td>\n",
       "      <td>https://ocw.mit.edu/courses/1-018j-ecology-i-t...</td>\n",
       "      <td>Civil and Environmental Engineering</td>\n",
       "      <td>['Science', 'Biology', 'Ecology', 'Earth Scien...</td>\n",
       "    </tr>\n",
       "    <tr>\n",
       "      <th>1</th>\n",
       "      <td>Ecology II: Engineering for Sustainability</td>\n",
       "      <td>Undergraduate</td>\n",
       "      <td>This course provides a review of physical, che...</td>\n",
       "      <td>https://ocw.mit.edu/courses/1-020-ecology-ii-e...</td>\n",
       "      <td>Civil and Environmental Engineering</td>\n",
       "      <td>['Engineering', 'Civil Engineering', 'Science'...</td>\n",
       "    </tr>\n",
       "    <tr>\n",
       "      <th>2</th>\n",
       "      <td>Transport Processes in the Environment</td>\n",
       "      <td>Undergraduate</td>\n",
       "      <td>This class serves as an introduction to mass t...</td>\n",
       "      <td>https://ocw.mit.edu/courses/1-061-transport-pr...</td>\n",
       "      <td>Civil and Environmental Engineering</td>\n",
       "      <td>['Engineering', 'Chemical Engineering', 'Trans...</td>\n",
       "    </tr>\n",
       "    <tr>\n",
       "      <th>3</th>\n",
       "      <td>Advanced Fluid Dynamics of the Environment</td>\n",
       "      <td>Graduate</td>\n",
       "      <td>Designed to familiarize students with theories...</td>\n",
       "      <td>https://ocw.mit.edu/courses/1-63-advanced-flui...</td>\n",
       "      <td>Civil and Environmental Engineering</td>\n",
       "      <td>['Engineering', 'Environmental Engineering', '...</td>\n",
       "    </tr>\n",
       "    <tr>\n",
       "      <th>4</th>\n",
       "      <td>Land, Water, Food, and Climate</td>\n",
       "      <td>Graduate</td>\n",
       "      <td>This reading seminar examines land, water, foo...</td>\n",
       "      <td>https://ocw.mit.edu/courses/1-74-land-water-fo...</td>\n",
       "      <td>Civil and Environmental Engineering</td>\n",
       "      <td>['Energy', 'Climate', 'Renewables', 'Science',...</td>\n",
       "    </tr>\n",
       "  </tbody>\n",
       "</table>\n",
       "</div>"
      ],
      "text/plain": [
       "                                        Title      Difficult  \\\n",
       "0                 Ecology I: The Earth System  Undergraduate   \n",
       "1  Ecology II: Engineering for Sustainability  Undergraduate   \n",
       "2      Transport Processes in the Environment  Undergraduate   \n",
       "3  Advanced Fluid Dynamics of the Environment       Graduate   \n",
       "4              Land, Water, Food, and Climate       Graduate   \n",
       "\n",
       "                                         Description  \\\n",
       "0  We will cover fundamentals of ecology, conside...   \n",
       "1  This course provides a review of physical, che...   \n",
       "2  This class serves as an introduction to mass t...   \n",
       "3  Designed to familiarize students with theories...   \n",
       "4  This reading seminar examines land, water, foo...   \n",
       "\n",
       "                                                Link  \\\n",
       "0  https://ocw.mit.edu/courses/1-018j-ecology-i-t...   \n",
       "1  https://ocw.mit.edu/courses/1-020-ecology-ii-e...   \n",
       "2  https://ocw.mit.edu/courses/1-061-transport-pr...   \n",
       "3  https://ocw.mit.edu/courses/1-63-advanced-flui...   \n",
       "4  https://ocw.mit.edu/courses/1-74-land-water-fo...   \n",
       "\n",
       "                           Departments  \\\n",
       "0  Civil and Environmental Engineering   \n",
       "1  Civil and Environmental Engineering   \n",
       "2  Civil and Environmental Engineering   \n",
       "3  Civil and Environmental Engineering   \n",
       "4  Civil and Environmental Engineering   \n",
       "\n",
       "                                              Topics  \n",
       "0  ['Science', 'Biology', 'Ecology', 'Earth Scien...  \n",
       "1  ['Engineering', 'Civil Engineering', 'Science'...  \n",
       "2  ['Engineering', 'Chemical Engineering', 'Trans...  \n",
       "3  ['Engineering', 'Environmental Engineering', '...  \n",
       "4  ['Energy', 'Climate', 'Renewables', 'Science',...  "
      ]
     },
     "execution_count": 31,
     "metadata": {},
     "output_type": "execute_result"
    }
   ],
   "source": [
    "Earth_Systems_data.head()"
   ]
  },
  {
   "cell_type": "code",
   "execution_count": 32,
   "metadata": {},
   "outputs": [
    {
     "data": {
      "text/html": [
       "<div>\n",
       "<style scoped>\n",
       "    .dataframe tbody tr th:only-of-type {\n",
       "        vertical-align: middle;\n",
       "    }\n",
       "\n",
       "    .dataframe tbody tr th {\n",
       "        vertical-align: top;\n",
       "    }\n",
       "\n",
       "    .dataframe thead th {\n",
       "        text-align: right;\n",
       "    }\n",
       "</style>\n",
       "<table border=\"1\" class=\"dataframe\">\n",
       "  <thead>\n",
       "    <tr style=\"text-align: right;\">\n",
       "      <th></th>\n",
       "      <th>Title</th>\n",
       "      <th>Difficult</th>\n",
       "      <th>Description</th>\n",
       "      <th>Link</th>\n",
       "      <th>Departments</th>\n",
       "      <th>Topics</th>\n",
       "    </tr>\n",
       "  </thead>\n",
       "  <tbody>\n",
       "    <tr>\n",
       "      <th>0</th>\n",
       "      <td>Introduction to Civil and Environmental Engine...</td>\n",
       "      <td>Undergraduate</td>\n",
       "      <td>In this sophomore design course, you will be c...</td>\n",
       "      <td>https://ocw.mit.edu/courses/1-101-introduction...</td>\n",
       "      <td>Civil and Environmental Engineering</td>\n",
       "      <td>['Engineering', 'Civil Engineering', 'Environm...</td>\n",
       "    </tr>\n",
       "    <tr>\n",
       "      <th>1</th>\n",
       "      <td>Public Transportation Systems</td>\n",
       "      <td>Graduate</td>\n",
       "      <td>This course discusses the evolution and role o...</td>\n",
       "      <td>https://ocw.mit.edu/courses/1-258j-public-tran...</td>\n",
       "      <td>Civil and Environmental Engineering</td>\n",
       "      <td>['Engineering', 'Civil Engineering', 'Transpor...</td>\n",
       "    </tr>\n",
       "    <tr>\n",
       "      <th>2</th>\n",
       "      <td>Urban Energy Systems and Policy</td>\n",
       "      <td>Undergraduate, Graduate</td>\n",
       "      <td>This class is about figuring out together what...</td>\n",
       "      <td>https://ocw.mit.edu/courses/11-165j-urban-ener...</td>\n",
       "      <td>Urban Studies and Planning</td>\n",
       "      <td>['Energy', 'Social Science', 'Urban Studies', ...</td>\n",
       "    </tr>\n",
       "    <tr>\n",
       "      <th>3</th>\n",
       "      <td>Urban Transportation Planning</td>\n",
       "      <td>Graduate</td>\n",
       "      <td>This course examines the policy, politics, pla...</td>\n",
       "      <td>https://ocw.mit.edu/courses/1-252j-urban-trans...</td>\n",
       "      <td>Civil and Environmental Engineering</td>\n",
       "      <td>['Engineering', 'Civil Engineering', 'Transpor...</td>\n",
       "    </tr>\n",
       "    <tr>\n",
       "      <th>4</th>\n",
       "      <td>Water Resource Systems</td>\n",
       "      <td>Graduate</td>\n",
       "      <td>This subject is concerned with quantitative me...</td>\n",
       "      <td>https://ocw.mit.edu/courses/1-731-water-resour...</td>\n",
       "      <td>Civil and Environmental Engineering</td>\n",
       "      <td>['Engineering', 'Environmental Engineering', '...</td>\n",
       "    </tr>\n",
       "  </tbody>\n",
       "</table>\n",
       "</div>"
      ],
      "text/plain": [
       "                                               Title                Difficult  \\\n",
       "0  Introduction to Civil and Environmental Engine...            Undergraduate   \n",
       "1                      Public Transportation Systems                 Graduate   \n",
       "2                    Urban Energy Systems and Policy  Undergraduate, Graduate   \n",
       "3                      Urban Transportation Planning                 Graduate   \n",
       "4                             Water Resource Systems                 Graduate   \n",
       "\n",
       "                                         Description  \\\n",
       "0  In this sophomore design course, you will be c...   \n",
       "1  This course discusses the evolution and role o...   \n",
       "2  This class is about figuring out together what...   \n",
       "3  This course examines the policy, politics, pla...   \n",
       "4  This subject is concerned with quantitative me...   \n",
       "\n",
       "                                                Link  \\\n",
       "0  https://ocw.mit.edu/courses/1-101-introduction...   \n",
       "1  https://ocw.mit.edu/courses/1-258j-public-tran...   \n",
       "2  https://ocw.mit.edu/courses/11-165j-urban-ener...   \n",
       "3  https://ocw.mit.edu/courses/1-252j-urban-trans...   \n",
       "4  https://ocw.mit.edu/courses/1-731-water-resour...   \n",
       "\n",
       "                           Departments  \\\n",
       "0  Civil and Environmental Engineering   \n",
       "1  Civil and Environmental Engineering   \n",
       "2           Urban Studies and Planning   \n",
       "3  Civil and Environmental Engineering   \n",
       "4  Civil and Environmental Engineering   \n",
       "\n",
       "                                              Topics  \n",
       "0  ['Engineering', 'Civil Engineering', 'Environm...  \n",
       "1  ['Engineering', 'Civil Engineering', 'Transpor...  \n",
       "2  ['Energy', 'Social Science', 'Urban Studies', ...  \n",
       "3  ['Engineering', 'Civil Engineering', 'Transpor...  \n",
       "4  ['Engineering', 'Environmental Engineering', '...  "
      ]
     },
     "execution_count": 32,
     "metadata": {},
     "output_type": "execute_result"
    }
   ],
   "source": [
    "Engineering_data.head()"
   ]
  },
  {
   "cell_type": "markdown",
   "metadata": {},
   "source": [
    "## <center><h4> Data Preprocessing"
   ]
  },
  {
   "cell_type": "code",
   "execution_count": 33,
   "metadata": {},
   "outputs": [
    {
     "data": {
      "text/plain": [
       "(28, 6)"
      ]
     },
     "execution_count": 33,
     "metadata": {},
     "output_type": "execute_result"
    }
   ],
   "source": [
    "Earth_Systems_data.shape"
   ]
  },
  {
   "cell_type": "code",
   "execution_count": 34,
   "metadata": {},
   "outputs": [
    {
     "data": {
      "text/plain": [
       "(27, 6)"
      ]
     },
     "execution_count": 34,
     "metadata": {},
     "output_type": "execute_result"
    }
   ],
   "source": [
    "Engineering_data.shape"
   ]
  },
  {
   "cell_type": "markdown",
   "metadata": {},
   "source": [
    "### Handle Missing Values"
   ]
  },
  {
   "cell_type": "code",
   "execution_count": 36,
   "metadata": {},
   "outputs": [
    {
     "data": {
      "text/plain": [
       "Title          0\n",
       "Difficult      0\n",
       "Description    0\n",
       "Link           0\n",
       "Departments    2\n",
       "Topics         0\n",
       "dtype: int64"
      ]
     },
     "execution_count": 36,
     "metadata": {},
     "output_type": "execute_result"
    }
   ],
   "source": [
    "Earth_Systems_data.isna().sum()"
   ]
  },
  {
   "cell_type": "code",
   "execution_count": 35,
   "metadata": {},
   "outputs": [
    {
     "data": {
      "text/plain": [
       "Title          0\n",
       "Difficult      0\n",
       "Description    0\n",
       "Link           0\n",
       "Departments    1\n",
       "Topics         0\n",
       "dtype: int64"
      ]
     },
     "execution_count": 35,
     "metadata": {},
     "output_type": "execute_result"
    }
   ],
   "source": [
    "Engineering_data.isna().sum()"
   ]
  },
  {
   "cell_type": "code",
   "execution_count": 37,
   "metadata": {},
   "outputs": [],
   "source": [
    "# We don't have too much data\n",
    "Engineering_data['Departments'].fillna(\"Unknown\", inplace=True)\n",
    "Earth_Systems_data['Departments'].fillna(\"Unknown\", inplace=True)"
   ]
  },
  {
   "cell_type": "code",
   "execution_count": 38,
   "metadata": {},
   "outputs": [
    {
     "data": {
      "text/plain": [
       "Index(['Title', 'Difficult', 'Description', 'Link', 'Departments', 'Topics'], dtype='object')"
      ]
     },
     "execution_count": 38,
     "metadata": {},
     "output_type": "execute_result"
    }
   ],
   "source": [
    "Engineering_data.columns"
   ]
  },
  {
   "cell_type": "code",
   "execution_count": 39,
   "metadata": {},
   "outputs": [
    {
     "data": {
      "text/plain": [
       "Index(['Title', 'Difficult', 'Description', 'Link', 'Departments', 'Topics'], dtype='object')"
      ]
     },
     "execution_count": 39,
     "metadata": {},
     "output_type": "execute_result"
    }
   ],
   "source": [
    "Earth_Systems_data.columns"
   ]
  },
  {
   "cell_type": "code",
   "execution_count": 40,
   "metadata": {},
   "outputs": [],
   "source": [
    "def preprocessor(data):\n",
    "    \n",
    "    # \"Topics\" Column (- Convert String to List)\n",
    "    data['Topics'] = data['Topics'].apply(ast.literal_eval)\n",
    "    \n",
    "    # - Flatten the Topics\n",
    "    data['Topics'] = data['Topics'].apply(lambda x: ', '.join(x))\n",
    "    \n",
    "    return data"
   ]
  },
  {
   "cell_type": "code",
   "execution_count": null,
   "metadata": {},
   "outputs": [],
   "source": [
    "Engineering_data = preprocessor(Engineering_data)\n",
    "Earth_Systems_data = preprocessor(Earth_Systems_data)"
   ]
  },
  {
   "cell_type": "code",
   "execution_count": 42,
   "metadata": {},
   "outputs": [
    {
     "data": {
      "text/plain": [
       "array(['Undergraduate', 'Graduate', 'Undergraduate, Graduate',\n",
       "       'Non-Credit'], dtype=object)"
      ]
     },
     "execution_count": 42,
     "metadata": {},
     "output_type": "execute_result"
    }
   ],
   "source": [
    "Engineering_data['Difficult'].unique() # Good"
   ]
  },
  {
   "cell_type": "code",
   "execution_count": 43,
   "metadata": {},
   "outputs": [
    {
     "data": {
      "text/plain": [
       "array(['Undergraduate', 'Graduate', 'Undergraduate, Graduate',\n",
       "       'Non-Credit'], dtype=object)"
      ]
     },
     "execution_count": 43,
     "metadata": {},
     "output_type": "execute_result"
    }
   ],
   "source": [
    "Earth_Systems_data['Difficult'].unique() # Good"
   ]
  },
  {
   "cell_type": "code",
   "execution_count": 45,
   "metadata": {},
   "outputs": [
    {
     "data": {
      "text/plain": [
       "array(['Civil and Environmental Engineering', 'Chemistry', 'Physics',\n",
       "       'Earth, Atmospheric, and Planetary Sciences', 'Edgerton Center',\n",
       "       'Biological Engineering', 'Unknown'], dtype=object)"
      ]
     },
     "execution_count": 45,
     "metadata": {},
     "output_type": "execute_result"
    }
   ],
   "source": [
    "Earth_Systems_data['Departments'].unique() # Good"
   ]
  },
  {
   "cell_type": "code",
   "execution_count": 46,
   "metadata": {},
   "outputs": [
    {
     "data": {
      "text/plain": [
       "array(['Civil and Environmental Engineering',\n",
       "       'Urban Studies and Planning', 'Mechanical Engineering',\n",
       "       'Materials Science and Engineering', 'Architecture',\n",
       "       'Earth, Atmospheric, and Planetary Sciences',\n",
       "       'Sloan School of Management', 'Nuclear Science and Engineering',\n",
       "       'Edgerton Center', 'Unknown'], dtype=object)"
      ]
     },
     "execution_count": 46,
     "metadata": {},
     "output_type": "execute_result"
    }
   ],
   "source": [
    "Engineering_data['Departments'].unique() # Good"
   ]
  },
  {
   "cell_type": "code",
   "execution_count": 49,
   "metadata": {},
   "outputs": [],
   "source": [
    "Earth_Systems_data.drop(columns=['Link']).to_csv(\"Cleaned_Earth_Systems_data.csv\", index=False)"
   ]
  },
  {
   "cell_type": "code",
   "execution_count": 50,
   "metadata": {},
   "outputs": [],
   "source": [
    "Engineering_data.drop(columns=['Link']).to_csv(\"Cleaned_Engineering_data.csv\", index=False)"
   ]
  },
  {
   "cell_type": "code",
   "execution_count": 54,
   "metadata": {},
   "outputs": [],
   "source": [
    "pd.concat([Earth_Systems_data, Engineering_data]).reset_index().drop(columns = ['Link', 'index']).to_csv(\"Cleaned_data.csv\")"
   ]
  }
 ],
 "metadata": {
  "kernelspec": {
   "display_name": ".venv",
   "language": "python",
   "name": "python3"
  },
  "language_info": {
   "codemirror_mode": {
    "name": "ipython",
    "version": 3
   },
   "file_extension": ".py",
   "mimetype": "text/x-python",
   "name": "python",
   "nbconvert_exporter": "python",
   "pygments_lexer": "ipython3",
   "version": "3.12.7"
  }
 },
 "nbformat": 4,
 "nbformat_minor": 2
}
