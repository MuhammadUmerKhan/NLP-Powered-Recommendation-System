{
 "cells": [
  {
   "cell_type": "markdown",
   "metadata": {},
   "source": [
    "# <center><b><i><h3>Content-based recommendation system using combined course dataset"
   ]
  },
  {
   "cell_type": "markdown",
   "metadata": {},
   "source": [
    "## <center><h4> Importing Libraries"
   ]
  },
  {
   "cell_type": "code",
   "execution_count": 96,
   "metadata": {},
   "outputs": [],
   "source": [
    "import pandas as pd\n",
    "\n",
    "import spacy\n",
    "\n",
    "from sklearn.feature_extraction.text import TfidfVectorizer\n",
    "from sklearn.metrics.pairwise import cosine_similarity\n",
    "\n",
    "import warnings\n",
    "warnings.filterwarnings(\"ignore\")"
   ]
  },
  {
   "cell_type": "markdown",
   "metadata": {},
   "source": [
    "## <center><h4> Loading Dataset"
   ]
  },
  {
   "cell_type": "code",
   "execution_count": 109,
   "metadata": {},
   "outputs": [
    {
     "data": {
      "text/html": [
       "<div>\n",
       "<style scoped>\n",
       "    .dataframe tbody tr th:only-of-type {\n",
       "        vertical-align: middle;\n",
       "    }\n",
       "\n",
       "    .dataframe tbody tr th {\n",
       "        vertical-align: top;\n",
       "    }\n",
       "\n",
       "    .dataframe thead th {\n",
       "        text-align: right;\n",
       "    }\n",
       "</style>\n",
       "<table border=\"1\" class=\"dataframe\">\n",
       "  <thead>\n",
       "    <tr style=\"text-align: right;\">\n",
       "      <th></th>\n",
       "      <th>Title</th>\n",
       "      <th>Difficult</th>\n",
       "      <th>Description</th>\n",
       "      <th>Departments</th>\n",
       "      <th>Topics</th>\n",
       "    </tr>\n",
       "  </thead>\n",
       "  <tbody>\n",
       "    <tr>\n",
       "      <th>0</th>\n",
       "      <td>Ecology I: The Earth System</td>\n",
       "      <td>Undergraduate</td>\n",
       "      <td>We will cover fundamentals of ecology, conside...</td>\n",
       "      <td>Civil and Environmental Engineering</td>\n",
       "      <td>Science, Biology, Ecology, Earth Science, Scie...</td>\n",
       "    </tr>\n",
       "    <tr>\n",
       "      <th>1</th>\n",
       "      <td>Ecology II: Engineering for Sustainability</td>\n",
       "      <td>Undergraduate</td>\n",
       "      <td>This course provides a review of physical, che...</td>\n",
       "      <td>Civil and Environmental Engineering</td>\n",
       "      <td>Engineering, Civil Engineering, Science, Biolo...</td>\n",
       "    </tr>\n",
       "    <tr>\n",
       "      <th>2</th>\n",
       "      <td>Transport Processes in the Environment</td>\n",
       "      <td>Undergraduate</td>\n",
       "      <td>This class serves as an introduction to mass t...</td>\n",
       "      <td>Civil and Environmental Engineering</td>\n",
       "      <td>Engineering, Chemical Engineering, Transport P...</td>\n",
       "    </tr>\n",
       "    <tr>\n",
       "      <th>3</th>\n",
       "      <td>Advanced Fluid Dynamics of the Environment</td>\n",
       "      <td>Graduate</td>\n",
       "      <td>Designed to familiarize students with theories...</td>\n",
       "      <td>Civil and Environmental Engineering</td>\n",
       "      <td>Engineering, Environmental Engineering, Hydrod...</td>\n",
       "    </tr>\n",
       "    <tr>\n",
       "      <th>4</th>\n",
       "      <td>Land, Water, Food, and Climate</td>\n",
       "      <td>Graduate</td>\n",
       "      <td>This reading seminar examines land, water, foo...</td>\n",
       "      <td>Civil and Environmental Engineering</td>\n",
       "      <td>Energy, Climate, Renewables, Science, Earth Sc...</td>\n",
       "    </tr>\n",
       "  </tbody>\n",
       "</table>\n",
       "</div>"
      ],
      "text/plain": [
       "                                        Title      Difficult  \\\n",
       "0                 Ecology I: The Earth System  Undergraduate   \n",
       "1  Ecology II: Engineering for Sustainability  Undergraduate   \n",
       "2      Transport Processes in the Environment  Undergraduate   \n",
       "3  Advanced Fluid Dynamics of the Environment       Graduate   \n",
       "4              Land, Water, Food, and Climate       Graduate   \n",
       "\n",
       "                                         Description  \\\n",
       "0  We will cover fundamentals of ecology, conside...   \n",
       "1  This course provides a review of physical, che...   \n",
       "2  This class serves as an introduction to mass t...   \n",
       "3  Designed to familiarize students with theories...   \n",
       "4  This reading seminar examines land, water, foo...   \n",
       "\n",
       "                           Departments  \\\n",
       "0  Civil and Environmental Engineering   \n",
       "1  Civil and Environmental Engineering   \n",
       "2  Civil and Environmental Engineering   \n",
       "3  Civil and Environmental Engineering   \n",
       "4  Civil and Environmental Engineering   \n",
       "\n",
       "                                              Topics  \n",
       "0  Science, Biology, Ecology, Earth Science, Scie...  \n",
       "1  Engineering, Civil Engineering, Science, Biolo...  \n",
       "2  Engineering, Chemical Engineering, Transport P...  \n",
       "3  Engineering, Environmental Engineering, Hydrod...  \n",
       "4  Energy, Climate, Renewables, Science, Earth Sc...  "
      ]
     },
     "execution_count": 109,
     "metadata": {},
     "output_type": "execute_result"
    }
   ],
   "source": [
    "data = pd.read_csv(\"../../Data/Cleaned_data.csv\").drop(columns='Unnamed: 0')\n",
    "data.head()"
   ]
  },
  {
   "cell_type": "code",
   "execution_count": 110,
   "metadata": {},
   "outputs": [
    {
     "data": {
      "text/plain": [
       "Index(['Title', 'Difficult', 'Description', 'Departments', 'Topics'], dtype='object')"
      ]
     },
     "execution_count": 110,
     "metadata": {},
     "output_type": "execute_result"
    }
   ],
   "source": [
    "data.columns"
   ]
  },
  {
   "cell_type": "markdown",
   "metadata": {},
   "source": [
    "## Feature Engineering"
   ]
  },
  {
   "cell_type": "markdown",
   "metadata": {},
   "source": [
    "- Combine Relevant Textual Fields"
   ]
  },
  {
   "cell_type": "code",
   "execution_count": 111,
   "metadata": {},
   "outputs": [],
   "source": [
    "data['Tags'] = data['Description'] + data['Departments'] + data['Topics']"
   ]
  },
  {
   "cell_type": "markdown",
   "metadata": {},
   "source": [
    "- Preprocess Text"
   ]
  },
  {
   "cell_type": "code",
   "execution_count": 112,
   "metadata": {},
   "outputs": [],
   "source": [
    "nlp = spacy.load(\"en_core_web_sm\")"
   ]
  },
  {
   "cell_type": "code",
   "execution_count": 113,
   "metadata": {},
   "outputs": [
    {
     "data": {
      "text/plain": [
       "'We will cover fundamentals of ecology, considering Earth as an integrated dynamic system. Topics include coevolution of the biosphere, geosphere, atmosphere and oceans; photosynthesis and respiration; the hydrologic, carbon and nitrogen cycles. We will examine the flow of energy and materials through ecosystems; regulation of the distribution and abundance of organisms; structure and function of ecosystems, including evolution and natural selection; metabolic diversity; productivity; trophic dynamics; models of population growth, competition, mutualism and predation. This course is designated as Communication-Intensive; instruction and practice in oral and written communication provided. Biology is a recommended prerequisite.Show lessCivil and Environmental EngineeringScience, Biology, Ecology, Earth Science, Science, Biology, Ecology, Earth Science'"
      ]
     },
     "execution_count": 113,
     "metadata": {},
     "output_type": "execute_result"
    }
   ],
   "source": [
    "str(data['Tags'][0])"
   ]
  },
  {
   "cell_type": "markdown",
   "metadata": {},
   "source": [
    "- Text Preprocessor Function"
   ]
  },
  {
   "cell_type": "code",
   "execution_count": 114,
   "metadata": {},
   "outputs": [],
   "source": [
    "def text_preprocessor(text):\n",
    "    doc = nlp(text=str(text).lower())\n",
    "    filtered_tokens = [\n",
    "            token.lemma_ for token in doc \n",
    "            if not token.is_stop and not token.is_punct and token.pos_ in [\"NOUN\", \"ADJ\", \"VERB\"]\n",
    "        ]\n",
    "    return \" \".join(filtered_tokens)"
   ]
  },
  {
   "cell_type": "code",
   "execution_count": 115,
   "metadata": {},
   "outputs": [],
   "source": [
    "data['Preprocessed_Tags'] = data['Tags'].apply(text_preprocessor)"
   ]
  },
  {
   "cell_type": "markdown",
   "metadata": {},
   "source": [
    "<b><h4><center>Vectorize the Processed Text"
   ]
  },
  {
   "cell_type": "markdown",
   "metadata": {},
   "source": [
    " - Applying TF-IDF (Term Frequency-Inverse Document Frequency) in a content-based recommendation system is a widely accepted and effective approach."
   ]
  },
  {
   "cell_type": "code",
   "execution_count": 116,
   "metadata": {},
   "outputs": [],
   "source": [
    "vectorizer = TfidfVectorizer(\n",
    "    max_features=1500,  \n",
    "    ngram_range=(1, 2),  \n",
    "    stop_words='english',\n",
    "    max_df=0.8,          \n",
    "    min_df=2             \n",
    ")\n",
    "tfidf_matrix = vectorizer.fit_transform(data['Preprocessed_Tags'])"
   ]
  },
  {
   "cell_type": "markdown",
   "metadata": {},
   "source": [
    "<b><h4><center>Calculate Similarity Matrix"
   ]
  },
  {
   "cell_type": "code",
   "execution_count": 117,
   "metadata": {},
   "outputs": [],
   "source": [
    "cosine_matrix = cosine_similarity(tfidf_matrix, tfidf_matrix)"
   ]
  },
  {
   "cell_type": "markdown",
   "metadata": {},
   "source": [
    "<b><h4><center>Build the Recommendation Function"
   ]
  },
  {
   "cell_type": "code",
   "execution_count": 118,
   "metadata": {},
   "outputs": [],
   "source": [
    "def get_recommendations(title, cosine_sim=cosine_matrix, data=data, top_n=5):\n",
    "    \n",
    "    idx = data[data['Title'] == title].index[0]\n",
    "\n",
    "    sim_scores = list(enumerate(cosine_sim[idx]))\n",
    "\n",
    "    sim_scores = sorted(sim_scores, key=lambda x: x[1], reverse=True)\n",
    "\n",
    "    sim_scores = sim_scores[1:top_n + 1]\n",
    "\n",
    "    course_indices = [i[0] for i in sim_scores]\n",
    "\n",
    "    return data.iloc[course_indices][['Title', 'Description']]\n"
   ]
  },
  {
   "cell_type": "code",
   "execution_count": 121,
   "metadata": {},
   "outputs": [
    {
     "data": {
      "text/plain": [
       "26            Theoretical Environmental Analysis\n",
       "1     Ecology II: Engineering for Sustainability\n",
       "16                Weather and Climate Laboratory\n",
       "25                         Groundwater Hydrology\n",
       "5                          Atmospheric Chemistry\n",
       "Name: Title, dtype: object"
      ]
     },
     "execution_count": 121,
     "metadata": {},
     "output_type": "execute_result"
    }
   ],
   "source": [
    "get_recommendations('Ecology I: The Earth System')['Title']"
   ]
  },
  {
   "cell_type": "code",
   "execution_count": 108,
   "metadata": {},
   "outputs": [
    {
     "data": {
      "text/html": [
       "<div>\n",
       "<style scoped>\n",
       "    .dataframe tbody tr th:only-of-type {\n",
       "        vertical-align: middle;\n",
       "    }\n",
       "\n",
       "    .dataframe tbody tr th {\n",
       "        vertical-align: top;\n",
       "    }\n",
       "\n",
       "    .dataframe thead th {\n",
       "        text-align: right;\n",
       "    }\n",
       "</style>\n",
       "<table border=\"1\" class=\"dataframe\">\n",
       "  <thead>\n",
       "    <tr style=\"text-align: right;\">\n",
       "      <th></th>\n",
       "      <th>Unnamed: 0</th>\n",
       "      <th>Title</th>\n",
       "      <th>Difficult</th>\n",
       "      <th>Description</th>\n",
       "      <th>Departments</th>\n",
       "      <th>Topics</th>\n",
       "      <th>Tags</th>\n",
       "      <th>Preprocessed_Tags</th>\n",
       "    </tr>\n",
       "  </thead>\n",
       "  <tbody>\n",
       "    <tr>\n",
       "      <th>0</th>\n",
       "      <td>0</td>\n",
       "      <td>Ecology I: The Earth System</td>\n",
       "      <td>Undergraduate</td>\n",
       "      <td>We will cover fundamentals of ecology, conside...</td>\n",
       "      <td>Civil and Environmental Engineering</td>\n",
       "      <td>Science, Biology, Ecology, Earth Science, Scie...</td>\n",
       "      <td>We will cover fundamentals of ecology, conside...</td>\n",
       "      <td>cover fundamental ecology consider earth integ...</td>\n",
       "    </tr>\n",
       "  </tbody>\n",
       "</table>\n",
       "</div>"
      ],
      "text/plain": [
       "   Unnamed: 0                        Title      Difficult  \\\n",
       "0           0  Ecology I: The Earth System  Undergraduate   \n",
       "\n",
       "                                         Description  \\\n",
       "0  We will cover fundamentals of ecology, conside...   \n",
       "\n",
       "                           Departments  \\\n",
       "0  Civil and Environmental Engineering   \n",
       "\n",
       "                                              Topics  \\\n",
       "0  Science, Biology, Ecology, Earth Science, Scie...   \n",
       "\n",
       "                                                Tags  \\\n",
       "0  We will cover fundamentals of ecology, conside...   \n",
       "\n",
       "                                   Preprocessed_Tags  \n",
       "0  cover fundamental ecology consider earth integ...  "
      ]
     },
     "execution_count": 108,
     "metadata": {},
     "output_type": "execute_result"
    }
   ],
   "source": [
    "data[data['Title'] == 'Ecology I: The Earth System']"
   ]
  }
 ],
 "metadata": {
  "kernelspec": {
   "display_name": ".venv",
   "language": "python",
   "name": "python3"
  },
  "language_info": {
   "codemirror_mode": {
    "name": "ipython",
    "version": 3
   },
   "file_extension": ".py",
   "mimetype": "text/x-python",
   "name": "python",
   "nbconvert_exporter": "python",
   "pygments_lexer": "ipython3",
   "version": "3.12.7"
  }
 },
 "nbformat": 4,
 "nbformat_minor": 2
}
