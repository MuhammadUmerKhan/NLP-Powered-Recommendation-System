{
 "cells": [
  {
   "cell_type": "markdown",
   "metadata": {},
   "source": [
    "# <center><b><i><h3>Content-based recommendation system using combined course dataset"
   ]
  },
  {
   "cell_type": "markdown",
   "metadata": {},
   "source": [
    "## <center><h4> Importing Libraries"
   ]
  },
  {
   "cell_type": "code",
   "execution_count": 1,
   "metadata": {},
   "outputs": [],
   "source": [
    "import pandas as pd\n",
    "\n",
    "import spacy\n",
    "\n",
    "from sklearn.feature_extraction.text import TfidfVectorizer\n",
    "from sklearn.metrics.pairwise import cosine_similarity\n",
    "\n",
    "import warnings\n",
    "warnings.filterwarnings(\"ignore\")"
   ]
  },
  {
   "cell_type": "markdown",
   "metadata": {},
   "source": [
    "## <center><h4> Loading Dataset"
   ]
  },
  {
   "cell_type": "code",
   "execution_count": 21,
   "metadata": {},
   "outputs": [
    {
     "data": {
      "text/html": [
       "<div>\n",
       "<style scoped>\n",
       "    .dataframe tbody tr th:only-of-type {\n",
       "        vertical-align: middle;\n",
       "    }\n",
       "\n",
       "    .dataframe tbody tr th {\n",
       "        vertical-align: top;\n",
       "    }\n",
       "\n",
       "    .dataframe thead th {\n",
       "        text-align: right;\n",
       "    }\n",
       "</style>\n",
       "<table border=\"1\" class=\"dataframe\">\n",
       "  <thead>\n",
       "    <tr style=\"text-align: right;\">\n",
       "      <th></th>\n",
       "      <th>Title</th>\n",
       "      <th>Difficult</th>\n",
       "      <th>Description</th>\n",
       "      <th>Link</th>\n",
       "      <th>Departments</th>\n",
       "      <th>Topics</th>\n",
       "      <th>urls</th>\n",
       "    </tr>\n",
       "  </thead>\n",
       "  <tbody>\n",
       "    <tr>\n",
       "      <th>0</th>\n",
       "      <td>Ecology I: The Earth System</td>\n",
       "      <td>Undergraduate</td>\n",
       "      <td>We will cover fundamentals of ecology, conside...</td>\n",
       "      <td>https://ocw.mit.edu/courses/1-018j-ecology-i-t...</td>\n",
       "      <td>Civil and Environmental Engineering</td>\n",
       "      <td>Science, Biology, Ecology, Earth Science, Scie...</td>\n",
       "      <td>https://ocw.mit.edu/courses/1-018j-ecology-i-t...</td>\n",
       "    </tr>\n",
       "    <tr>\n",
       "      <th>1</th>\n",
       "      <td>Ecology II: Engineering for Sustainability</td>\n",
       "      <td>Undergraduate</td>\n",
       "      <td>This course provides a review of physical, che...</td>\n",
       "      <td>https://ocw.mit.edu/courses/1-020-ecology-ii-e...</td>\n",
       "      <td>Civil and Environmental Engineering</td>\n",
       "      <td>Engineering, Civil Engineering, Science, Biolo...</td>\n",
       "      <td>https://ocw.mit.edu/courses/1-020-ecology-ii-e...</td>\n",
       "    </tr>\n",
       "    <tr>\n",
       "      <th>2</th>\n",
       "      <td>Transport Processes in the Environment</td>\n",
       "      <td>Undergraduate</td>\n",
       "      <td>This class serves as an introduction to mass t...</td>\n",
       "      <td>https://ocw.mit.edu/courses/1-061-transport-pr...</td>\n",
       "      <td>Civil and Environmental Engineering</td>\n",
       "      <td>Engineering, Chemical Engineering, Transport P...</td>\n",
       "      <td>https://ocw.mit.edu/courses/1-061-transport-pr...</td>\n",
       "    </tr>\n",
       "    <tr>\n",
       "      <th>3</th>\n",
       "      <td>Advanced Fluid Dynamics of the Environment</td>\n",
       "      <td>Graduate</td>\n",
       "      <td>Designed to familiarize students with theories...</td>\n",
       "      <td>https://ocw.mit.edu/courses/1-63-advanced-flui...</td>\n",
       "      <td>Civil and Environmental Engineering</td>\n",
       "      <td>Engineering, Environmental Engineering, Hydrod...</td>\n",
       "      <td>https://ocw.mit.edu/courses/1-63-advanced-flui...</td>\n",
       "    </tr>\n",
       "    <tr>\n",
       "      <th>4</th>\n",
       "      <td>Land, Water, Food, and Climate</td>\n",
       "      <td>Graduate</td>\n",
       "      <td>This reading seminar examines land, water, foo...</td>\n",
       "      <td>https://ocw.mit.edu/courses/1-74-land-water-fo...</td>\n",
       "      <td>Civil and Environmental Engineering</td>\n",
       "      <td>Energy, Climate, Renewables, Science, Earth Sc...</td>\n",
       "      <td>https://ocw.mit.edu/courses/1-74-land-water-fo...</td>\n",
       "    </tr>\n",
       "  </tbody>\n",
       "</table>\n",
       "</div>"
      ],
      "text/plain": [
       "                                        Title      Difficult  \\\n",
       "0                 Ecology I: The Earth System  Undergraduate   \n",
       "1  Ecology II: Engineering for Sustainability  Undergraduate   \n",
       "2      Transport Processes in the Environment  Undergraduate   \n",
       "3  Advanced Fluid Dynamics of the Environment       Graduate   \n",
       "4              Land, Water, Food, and Climate       Graduate   \n",
       "\n",
       "                                         Description  \\\n",
       "0  We will cover fundamentals of ecology, conside...   \n",
       "1  This course provides a review of physical, che...   \n",
       "2  This class serves as an introduction to mass t...   \n",
       "3  Designed to familiarize students with theories...   \n",
       "4  This reading seminar examines land, water, foo...   \n",
       "\n",
       "                                                Link  \\\n",
       "0  https://ocw.mit.edu/courses/1-018j-ecology-i-t...   \n",
       "1  https://ocw.mit.edu/courses/1-020-ecology-ii-e...   \n",
       "2  https://ocw.mit.edu/courses/1-061-transport-pr...   \n",
       "3  https://ocw.mit.edu/courses/1-63-advanced-flui...   \n",
       "4  https://ocw.mit.edu/courses/1-74-land-water-fo...   \n",
       "\n",
       "                           Departments  \\\n",
       "0  Civil and Environmental Engineering   \n",
       "1  Civil and Environmental Engineering   \n",
       "2  Civil and Environmental Engineering   \n",
       "3  Civil and Environmental Engineering   \n",
       "4  Civil and Environmental Engineering   \n",
       "\n",
       "                                              Topics  \\\n",
       "0  Science, Biology, Ecology, Earth Science, Scie...   \n",
       "1  Engineering, Civil Engineering, Science, Biolo...   \n",
       "2  Engineering, Chemical Engineering, Transport P...   \n",
       "3  Engineering, Environmental Engineering, Hydrod...   \n",
       "4  Energy, Climate, Renewables, Science, Earth Sc...   \n",
       "\n",
       "                                                urls  \n",
       "0  https://ocw.mit.edu/courses/1-018j-ecology-i-t...  \n",
       "1  https://ocw.mit.edu/courses/1-020-ecology-ii-e...  \n",
       "2  https://ocw.mit.edu/courses/1-061-transport-pr...  \n",
       "3  https://ocw.mit.edu/courses/1-63-advanced-flui...  \n",
       "4  https://ocw.mit.edu/courses/1-74-land-water-fo...  "
      ]
     },
     "execution_count": 21,
     "metadata": {},
     "output_type": "execute_result"
    }
   ],
   "source": [
    "data = pd.read_csv(\"../../Data/Cleaned_data.csv\").drop(columns='Unnamed: 0')\n",
    "data.head()"
   ]
  },
  {
   "cell_type": "code",
   "execution_count": 22,
   "metadata": {},
   "outputs": [
    {
     "data": {
      "text/plain": [
       "Index(['Title', 'Difficult', 'Description', 'Link', 'Departments', 'Topics',\n",
       "       'urls'],\n",
       "      dtype='object')"
      ]
     },
     "execution_count": 22,
     "metadata": {},
     "output_type": "execute_result"
    }
   ],
   "source": [
    "data.columns"
   ]
  },
  {
   "cell_type": "markdown",
   "metadata": {},
   "source": [
    "## Feature Engineering"
   ]
  },
  {
   "cell_type": "markdown",
   "metadata": {},
   "source": [
    "- Combine Relevant Textual Fields"
   ]
  },
  {
   "cell_type": "code",
   "execution_count": 23,
   "metadata": {},
   "outputs": [],
   "source": [
    "data['Tags'] = data['Description'] + data['Departments'] + data['Topics']"
   ]
  },
  {
   "cell_type": "markdown",
   "metadata": {},
   "source": [
    "- Preprocess Text"
   ]
  },
  {
   "cell_type": "code",
   "execution_count": 24,
   "metadata": {},
   "outputs": [],
   "source": [
    "nlp = spacy.load(\"en_core_web_sm\")"
   ]
  },
  {
   "cell_type": "code",
   "execution_count": 25,
   "metadata": {},
   "outputs": [
    {
     "data": {
      "text/plain": [
       "'We will cover fundamentals of ecology, considering Earth as an integrated dynamic system. Topics include coevolution of the biosphere, geosphere, atmosphere and oceans; photosynthesis and respiration; the hydrologic, carbon and nitrogen cycles. We will examine the flow of energy and materials through ecosystems; regulation of the distribution and abundance of organisms; structure and function of ecosystems, including evolution and natural selection; metabolic diversity; productivity; trophic dynamics; models of population growth, competition, mutualism and predation. This course is designated as Communication-Intensive; instruction and practice in oral and written communication provided. Biology is a recommended prerequisite.Show lessCivil and Environmental EngineeringScience, Biology, Ecology, Earth Science, Science, Biology, Ecology, Earth Science'"
      ]
     },
     "execution_count": 25,
     "metadata": {},
     "output_type": "execute_result"
    }
   ],
   "source": [
    "str(data['Tags'][0])"
   ]
  },
  {
   "cell_type": "markdown",
   "metadata": {},
   "source": [
    "- Text Preprocessor Function"
   ]
  },
  {
   "cell_type": "code",
   "execution_count": 26,
   "metadata": {},
   "outputs": [],
   "source": [
    "def text_preprocessor(text):\n",
    "    doc = nlp(text=str(text).lower())\n",
    "    filtered_tokens = [\n",
    "            token.lemma_ for token in doc \n",
    "            if not token.is_stop and not token.is_punct and token.pos_ in [\"NOUN\", \"ADJ\", \"VERB\"]\n",
    "        ]\n",
    "    return \" \".join(filtered_tokens)"
   ]
  },
  {
   "cell_type": "code",
   "execution_count": 27,
   "metadata": {},
   "outputs": [],
   "source": [
    "data['Preprocessed_Tags'] = data['Tags'].apply(text_preprocessor)"
   ]
  },
  {
   "cell_type": "markdown",
   "metadata": {},
   "source": [
    "<b><h4><center>Vectorize the Processed Text"
   ]
  },
  {
   "cell_type": "markdown",
   "metadata": {},
   "source": [
    " - Applying TF-IDF (Term Frequency-Inverse Document Frequency) in a content-based recommendation system is a widely accepted and effective approach."
   ]
  },
  {
   "cell_type": "code",
   "execution_count": 28,
   "metadata": {},
   "outputs": [],
   "source": [
    "vectorizer = TfidfVectorizer(\n",
    "    max_features=1500,  \n",
    "    ngram_range=(1, 2),  \n",
    "    stop_words='english',\n",
    "    max_df=0.8,          \n",
    "    min_df=2             \n",
    ")\n",
    "tfidf_matrix = vectorizer.fit_transform(data['Preprocessed_Tags'])"
   ]
  },
  {
   "cell_type": "markdown",
   "metadata": {},
   "source": [
    "<b><h4><center>Calculate Similarity Matrix"
   ]
  },
  {
   "cell_type": "code",
   "execution_count": 29,
   "metadata": {},
   "outputs": [],
   "source": [
    "cosine_matrix = cosine_similarity(tfidf_matrix, tfidf_matrix)"
   ]
  },
  {
   "cell_type": "markdown",
   "metadata": {},
   "source": [
    "<b><h4><center>Build the Recommendation Function"
   ]
  },
  {
   "cell_type": "code",
   "execution_count": 30,
   "metadata": {},
   "outputs": [],
   "source": [
    "def get_recommendations(title, cosine_sim=cosine_matrix, data=data, top_n=5):\n",
    "    \n",
    "    idx = data[data['Title'] == title].index[0]\n",
    "\n",
    "    sim_scores = list(enumerate(cosine_sim[idx]))\n",
    "\n",
    "    sim_scores = sorted(sim_scores, key=lambda x: x[1], reverse=True)\n",
    "\n",
    "    sim_scores = sim_scores[1:top_n + 1]\n",
    "\n",
    "    course_indices = [i[0] for i in sim_scores]\n",
    "\n",
    "    return data.iloc[course_indices][['Title', 'Description']]\n"
   ]
  },
  {
   "cell_type": "code",
   "execution_count": 36,
   "metadata": {},
   "outputs": [],
   "source": [
    "recommendations = get_recommendations('Ecology I: The Earth System')"
   ]
  },
  {
   "cell_type": "code",
   "execution_count": 33,
   "metadata": {},
   "outputs": [
    {
     "data": {
      "text/html": [
       "<div>\n",
       "<style scoped>\n",
       "    .dataframe tbody tr th:only-of-type {\n",
       "        vertical-align: middle;\n",
       "    }\n",
       "\n",
       "    .dataframe tbody tr th {\n",
       "        vertical-align: top;\n",
       "    }\n",
       "\n",
       "    .dataframe thead th {\n",
       "        text-align: right;\n",
       "    }\n",
       "</style>\n",
       "<table border=\"1\" class=\"dataframe\">\n",
       "  <thead>\n",
       "    <tr style=\"text-align: right;\">\n",
       "      <th></th>\n",
       "      <th>Title</th>\n",
       "      <th>Difficult</th>\n",
       "      <th>Description</th>\n",
       "      <th>Link</th>\n",
       "      <th>Departments</th>\n",
       "      <th>Topics</th>\n",
       "      <th>urls</th>\n",
       "      <th>Tags</th>\n",
       "      <th>Preprocessed_Tags</th>\n",
       "    </tr>\n",
       "  </thead>\n",
       "  <tbody>\n",
       "    <tr>\n",
       "      <th>0</th>\n",
       "      <td>Ecology I: The Earth System</td>\n",
       "      <td>Undergraduate</td>\n",
       "      <td>We will cover fundamentals of ecology, conside...</td>\n",
       "      <td>https://ocw.mit.edu/courses/1-018j-ecology-i-t...</td>\n",
       "      <td>Civil and Environmental Engineering</td>\n",
       "      <td>Science, Biology, Ecology, Earth Science, Scie...</td>\n",
       "      <td>https://ocw.mit.edu/courses/1-018j-ecology-i-t...</td>\n",
       "      <td>We will cover fundamentals of ecology, conside...</td>\n",
       "      <td>cover fundamental ecology consider earth integ...</td>\n",
       "    </tr>\n",
       "  </tbody>\n",
       "</table>\n",
       "</div>"
      ],
      "text/plain": [
       "                         Title      Difficult  \\\n",
       "0  Ecology I: The Earth System  Undergraduate   \n",
       "\n",
       "                                         Description  \\\n",
       "0  We will cover fundamentals of ecology, conside...   \n",
       "\n",
       "                                                Link  \\\n",
       "0  https://ocw.mit.edu/courses/1-018j-ecology-i-t...   \n",
       "\n",
       "                           Departments  \\\n",
       "0  Civil and Environmental Engineering   \n",
       "\n",
       "                                              Topics  \\\n",
       "0  Science, Biology, Ecology, Earth Science, Scie...   \n",
       "\n",
       "                                                urls  \\\n",
       "0  https://ocw.mit.edu/courses/1-018j-ecology-i-t...   \n",
       "\n",
       "                                                Tags  \\\n",
       "0  We will cover fundamentals of ecology, conside...   \n",
       "\n",
       "                                   Preprocessed_Tags  \n",
       "0  cover fundamental ecology consider earth integ...  "
      ]
     },
     "execution_count": 33,
     "metadata": {},
     "output_type": "execute_result"
    }
   ],
   "source": [
    "data[data['Title'] == 'Ecology I: The Earth System']"
   ]
  },
  {
   "cell_type": "code",
   "execution_count": 50,
   "metadata": {},
   "outputs": [
    {
     "data": {
      "text/html": [
       "<div>\n",
       "<style scoped>\n",
       "    .dataframe tbody tr th:only-of-type {\n",
       "        vertical-align: middle;\n",
       "    }\n",
       "\n",
       "    .dataframe tbody tr th {\n",
       "        vertical-align: top;\n",
       "    }\n",
       "\n",
       "    .dataframe thead th {\n",
       "        text-align: right;\n",
       "    }\n",
       "</style>\n",
       "<table border=\"1\" class=\"dataframe\">\n",
       "  <thead>\n",
       "    <tr style=\"text-align: right;\">\n",
       "      <th></th>\n",
       "      <th>Title</th>\n",
       "      <th>Description</th>\n",
       "    </tr>\n",
       "  </thead>\n",
       "  <tbody>\n",
       "    <tr>\n",
       "      <th>26</th>\n",
       "      <td>Theoretical Environmental Analysis</td>\n",
       "      <td>This course analyzes cooperative processes tha...</td>\n",
       "    </tr>\n",
       "    <tr>\n",
       "      <th>1</th>\n",
       "      <td>Ecology II: Engineering for Sustainability</td>\n",
       "      <td>This course provides a review of physical, che...</td>\n",
       "    </tr>\n",
       "    <tr>\n",
       "      <th>16</th>\n",
       "      <td>Weather and Climate Laboratory</td>\n",
       "      <td>Course 12.307 is an undergraduate course inten...</td>\n",
       "    </tr>\n",
       "    <tr>\n",
       "      <th>25</th>\n",
       "      <td>Groundwater Hydrology</td>\n",
       "      <td>This course covers fundamentals of subsurface ...</td>\n",
       "    </tr>\n",
       "    <tr>\n",
       "      <th>5</th>\n",
       "      <td>Atmospheric Chemistry</td>\n",
       "      <td>This course provides a detailed overview of th...</td>\n",
       "    </tr>\n",
       "  </tbody>\n",
       "</table>\n",
       "</div>"
      ],
      "text/plain": [
       "                                         Title  \\\n",
       "26          Theoretical Environmental Analysis   \n",
       "1   Ecology II: Engineering for Sustainability   \n",
       "16              Weather and Climate Laboratory   \n",
       "25                       Groundwater Hydrology   \n",
       "5                        Atmospheric Chemistry   \n",
       "\n",
       "                                          Description  \n",
       "26  This course analyzes cooperative processes tha...  \n",
       "1   This course provides a review of physical, che...  \n",
       "16  Course 12.307 is an undergraduate course inten...  \n",
       "25  This course covers fundamentals of subsurface ...  \n",
       "5   This course provides a detailed overview of th...  "
      ]
     },
     "execution_count": 50,
     "metadata": {},
     "output_type": "execute_result"
    }
   ],
   "source": [
    "recommendations"
   ]
  },
  {
   "cell_type": "code",
   "execution_count": 52,
   "metadata": {},
   "outputs": [
    {
     "data": {
      "text/html": [
       "<div>\n",
       "<style scoped>\n",
       "    .dataframe tbody tr th:only-of-type {\n",
       "        vertical-align: middle;\n",
       "    }\n",
       "\n",
       "    .dataframe tbody tr th {\n",
       "        vertical-align: top;\n",
       "    }\n",
       "\n",
       "    .dataframe thead th {\n",
       "        text-align: right;\n",
       "    }\n",
       "</style>\n",
       "<table border=\"1\" class=\"dataframe\">\n",
       "  <thead>\n",
       "    <tr style=\"text-align: right;\">\n",
       "      <th></th>\n",
       "      <th>Title</th>\n",
       "      <th>Link</th>\n",
       "      <th>urls</th>\n",
       "    </tr>\n",
       "  </thead>\n",
       "  <tbody>\n",
       "    <tr>\n",
       "      <th>0</th>\n",
       "      <td>Theoretical Environmental Analysis</td>\n",
       "      <td>https://ocw.mit.edu/courses/12-009j-theoretica...</td>\n",
       "      <td>https://ocw.mit.edu/courses/12-009j-theoretica...</td>\n",
       "    </tr>\n",
       "    <tr>\n",
       "      <th>1</th>\n",
       "      <td>Ecology II: Engineering for Sustainability</td>\n",
       "      <td>https://ocw.mit.edu/courses/1-020-ecology-ii-e...</td>\n",
       "      <td>https://ocw.mit.edu/courses/1-020-ecology-ii-e...</td>\n",
       "    </tr>\n",
       "    <tr>\n",
       "      <th>2</th>\n",
       "      <td>Weather and Climate Laboratory</td>\n",
       "      <td>https://ocw.mit.edu/courses/12-307-weather-and...</td>\n",
       "      <td>https://ocw.mit.edu/courses/12-307-weather-and...</td>\n",
       "    </tr>\n",
       "    <tr>\n",
       "      <th>3</th>\n",
       "      <td>Groundwater Hydrology</td>\n",
       "      <td>https://ocw.mit.edu/courses/1-72-groundwater-h...</td>\n",
       "      <td>https://ocw.mit.edu/courses/1-72-groundwater-h...</td>\n",
       "    </tr>\n",
       "    <tr>\n",
       "      <th>4</th>\n",
       "      <td>Atmospheric Chemistry</td>\n",
       "      <td>https://ocw.mit.edu/courses/1-84j-atmospheric-...</td>\n",
       "      <td>https://ocw.mit.edu/courses/1-84j-atmospheric-...</td>\n",
       "    </tr>\n",
       "  </tbody>\n",
       "</table>\n",
       "</div>"
      ],
      "text/plain": [
       "                                        Title  \\\n",
       "0          Theoretical Environmental Analysis   \n",
       "1  Ecology II: Engineering for Sustainability   \n",
       "2              Weather and Climate Laboratory   \n",
       "3                       Groundwater Hydrology   \n",
       "4                       Atmospheric Chemistry   \n",
       "\n",
       "                                                Link  \\\n",
       "0  https://ocw.mit.edu/courses/12-009j-theoretica...   \n",
       "1  https://ocw.mit.edu/courses/1-020-ecology-ii-e...   \n",
       "2  https://ocw.mit.edu/courses/12-307-weather-and...   \n",
       "3  https://ocw.mit.edu/courses/1-72-groundwater-h...   \n",
       "4  https://ocw.mit.edu/courses/1-84j-atmospheric-...   \n",
       "\n",
       "                                                urls  \n",
       "0  https://ocw.mit.edu/courses/12-009j-theoretica...  \n",
       "1  https://ocw.mit.edu/courses/1-020-ecology-ii-e...  \n",
       "2  https://ocw.mit.edu/courses/12-307-weather-and...  \n",
       "3  https://ocw.mit.edu/courses/1-72-groundwater-h...  \n",
       "4  https://ocw.mit.edu/courses/1-84j-atmospheric-...  "
      ]
     },
     "execution_count": 52,
     "metadata": {},
     "output_type": "execute_result"
    }
   ],
   "source": [
    "result = recommendations.merge(data[['Title', 'Link', 'urls']], on='Title', how='left')\n",
    "result[['Title', 'Link', 'urls']]"
   ]
  },
  {
   "cell_type": "code",
   "execution_count": null,
   "metadata": {},
   "outputs": [],
   "source": []
  }
 ],
 "metadata": {
  "kernelspec": {
   "display_name": ".venv",
   "language": "python",
   "name": "python3"
  },
  "language_info": {
   "codemirror_mode": {
    "name": "ipython",
    "version": 3
   },
   "file_extension": ".py",
   "mimetype": "text/x-python",
   "name": "python",
   "nbconvert_exporter": "python",
   "pygments_lexer": "ipython3",
   "version": "3.12.7"
  }
 },
 "nbformat": 4,
 "nbformat_minor": 2
}
