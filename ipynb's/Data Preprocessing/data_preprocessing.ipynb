{
 "cells": [
  {
   "cell_type": "markdown",
   "metadata": {},
   "source": [
    "# <center><b><i><h3>Content-based recommendation system using combined course dataset"
   ]
  },
  {
   "cell_type": "markdown",
   "metadata": {},
   "source": [
    "## <center><h4> Importing Libraries"
   ]
  },
  {
   "cell_type": "code",
   "execution_count": 10,
   "metadata": {},
   "outputs": [],
   "source": [
    "import pandas as pd\n",
    "import numpy as np\n",
    "import ast\n",
    "\n",
    "\n",
    "import warnings\n",
    "warnings.filterwarnings(\"ignore\")"
   ]
  },
  {
   "cell_type": "markdown",
   "metadata": {},
   "source": [
    "## <center><h4> Loading Dataset"
   ]
  },
  {
   "cell_type": "code",
   "execution_count": 2,
   "metadata": {},
   "outputs": [
    {
     "data": {
      "text/html": [
       "<div>\n",
       "<style scoped>\n",
       "    .dataframe tbody tr th:only-of-type {\n",
       "        vertical-align: middle;\n",
       "    }\n",
       "\n",
       "    .dataframe tbody tr th {\n",
       "        vertical-align: top;\n",
       "    }\n",
       "\n",
       "    .dataframe thead th {\n",
       "        text-align: right;\n",
       "    }\n",
       "</style>\n",
       "<table border=\"1\" class=\"dataframe\">\n",
       "  <thead>\n",
       "    <tr style=\"text-align: right;\">\n",
       "      <th></th>\n",
       "      <th>Title</th>\n",
       "      <th>Difficult</th>\n",
       "      <th>Description</th>\n",
       "      <th>Departments</th>\n",
       "      <th>Topics</th>\n",
       "    </tr>\n",
       "  </thead>\n",
       "  <tbody>\n",
       "    <tr>\n",
       "      <th>0</th>\n",
       "      <td>Introduction to Civil and Environmental Engine...</td>\n",
       "      <td>Undergraduate</td>\n",
       "      <td>In this sophomore design course, you will be c...</td>\n",
       "      <td>Civil and Environmental Engineering</td>\n",
       "      <td>['Engineering', 'Civil Engineering', 'Environm...</td>\n",
       "    </tr>\n",
       "    <tr>\n",
       "      <th>1</th>\n",
       "      <td>Public Transportation Systems</td>\n",
       "      <td>Graduate</td>\n",
       "      <td>This course discusses the evolution and role o...</td>\n",
       "      <td>Civil and Environmental Engineering</td>\n",
       "      <td>['Engineering', 'Civil Engineering', 'Transpor...</td>\n",
       "    </tr>\n",
       "    <tr>\n",
       "      <th>2</th>\n",
       "      <td>Urban Energy Systems and Policy</td>\n",
       "      <td>Undergraduate, Graduate</td>\n",
       "      <td>This class is about figuring out together what...</td>\n",
       "      <td>Urban Studies and Planning</td>\n",
       "      <td>['Energy', 'Social Science', 'Urban Studies', ...</td>\n",
       "    </tr>\n",
       "    <tr>\n",
       "      <th>3</th>\n",
       "      <td>Urban Transportation Planning</td>\n",
       "      <td>Graduate</td>\n",
       "      <td>This course examines the policy, politics, pla...</td>\n",
       "      <td>Civil and Environmental Engineering</td>\n",
       "      <td>['Engineering', 'Civil Engineering', 'Transpor...</td>\n",
       "    </tr>\n",
       "    <tr>\n",
       "      <th>4</th>\n",
       "      <td>Water Resource Systems</td>\n",
       "      <td>Graduate</td>\n",
       "      <td>This subject is concerned with quantitative me...</td>\n",
       "      <td>Civil and Environmental Engineering</td>\n",
       "      <td>['Engineering', 'Environmental Engineering', '...</td>\n",
       "    </tr>\n",
       "  </tbody>\n",
       "</table>\n",
       "</div>"
      ],
      "text/plain": [
       "                                               Title                Difficult  \\\n",
       "0  Introduction to Civil and Environmental Engine...            Undergraduate   \n",
       "1                      Public Transportation Systems                 Graduate   \n",
       "2                    Urban Energy Systems and Policy  Undergraduate, Graduate   \n",
       "3                      Urban Transportation Planning                 Graduate   \n",
       "4                             Water Resource Systems                 Graduate   \n",
       "\n",
       "                                         Description  \\\n",
       "0  In this sophomore design course, you will be c...   \n",
       "1  This course discusses the evolution and role o...   \n",
       "2  This class is about figuring out together what...   \n",
       "3  This course examines the policy, politics, pla...   \n",
       "4  This subject is concerned with quantitative me...   \n",
       "\n",
       "                           Departments  \\\n",
       "0  Civil and Environmental Engineering   \n",
       "1  Civil and Environmental Engineering   \n",
       "2           Urban Studies and Planning   \n",
       "3  Civil and Environmental Engineering   \n",
       "4  Civil and Environmental Engineering   \n",
       "\n",
       "                                              Topics  \n",
       "0  ['Engineering', 'Civil Engineering', 'Environm...  \n",
       "1  ['Engineering', 'Civil Engineering', 'Transpor...  \n",
       "2  ['Energy', 'Social Science', 'Urban Studies', ...  \n",
       "3  ['Engineering', 'Civil Engineering', 'Transpor...  \n",
       "4  ['Engineering', 'Environmental Engineering', '...  "
      ]
     },
     "execution_count": 2,
     "metadata": {},
     "output_type": "execute_result"
    }
   ],
   "source": [
    "data = pd.read_csv(\"../../../Data/Engineering && Earth Systems and Climate Science.csv\")\n",
    "data.head()"
   ]
  },
  {
   "cell_type": "markdown",
   "metadata": {},
   "source": [
    "## <center><h4> Data Preprocessing"
   ]
  },
  {
   "cell_type": "code",
   "execution_count": 4,
   "metadata": {},
   "outputs": [
    {
     "data": {
      "text/plain": [
       "(55, 5)"
      ]
     },
     "execution_count": 4,
     "metadata": {},
     "output_type": "execute_result"
    }
   ],
   "source": [
    "data.shape"
   ]
  },
  {
   "cell_type": "markdown",
   "metadata": {},
   "source": [
    "### Handle Missing Values"
   ]
  },
  {
   "cell_type": "code",
   "execution_count": 3,
   "metadata": {},
   "outputs": [
    {
     "data": {
      "text/plain": [
       "Title          0\n",
       "Difficult      0\n",
       "Description    0\n",
       "Departments    3\n",
       "Topics         0\n",
       "dtype: int64"
      ]
     },
     "execution_count": 3,
     "metadata": {},
     "output_type": "execute_result"
    }
   ],
   "source": [
    "data.isna().sum()"
   ]
  },
  {
   "cell_type": "code",
   "execution_count": null,
   "metadata": {},
   "outputs": [],
   "source": [
    "# We don't have too much data\n",
    "data['Departments'].fillna(\"Unknown\", inplace=True)"
   ]
  },
  {
   "cell_type": "code",
   "execution_count": 8,
   "metadata": {},
   "outputs": [
    {
     "data": {
      "text/plain": [
       "Index(['Title', 'Difficult', 'Description', 'Departments', 'Topics'], dtype='object')"
      ]
     },
     "execution_count": 8,
     "metadata": {},
     "output_type": "execute_result"
    }
   ],
   "source": [
    "data.columns"
   ]
  },
  {
   "cell_type": "markdown",
   "metadata": {},
   "source": [
    "### \"Topics\" Column"
   ]
  },
  {
   "cell_type": "markdown",
   "metadata": {},
   "source": [
    "- Convert String to List"
   ]
  },
  {
   "cell_type": "code",
   "execution_count": 12,
   "metadata": {},
   "outputs": [],
   "source": [
    "data['Topics'] = data['Topics'].apply(ast.literal_eval)"
   ]
  },
  {
   "cell_type": "markdown",
   "metadata": {},
   "source": [
    "- Flatten the Topics"
   ]
  },
  {
   "cell_type": "code",
   "execution_count": 14,
   "metadata": {},
   "outputs": [],
   "source": [
    "data['Topics'] = data['Topics'].apply(lambda x: ', '.join(x))"
   ]
  },
  {
   "cell_type": "markdown",
   "metadata": {},
   "source": [
    "### \"Difficult\" Column"
   ]
  },
  {
   "cell_type": "code",
   "execution_count": null,
   "metadata": {},
   "outputs": [
    {
     "data": {
      "text/plain": [
       "array(['Undergraduate', 'Graduate', 'Undergraduate, Graduate',\n",
       "       'Non-Credit'], dtype=object)"
      ]
     },
     "execution_count": 19,
     "metadata": {},
     "output_type": "execute_result"
    }
   ],
   "source": [
    "data['Difficult'].unique() # Good"
   ]
  },
  {
   "cell_type": "code",
   "execution_count": null,
   "metadata": {},
   "outputs": [
    {
     "data": {
      "text/plain": [
       "array(['Civil and Environmental Engineering',\n",
       "       'Urban Studies and Planning', 'Mechanical Engineering',\n",
       "       'Materials Science and Engineering', 'Architecture',\n",
       "       'Earth, Atmospheric, and Planetary Sciences',\n",
       "       'Sloan School of Management', 'Nuclear Science and Engineering',\n",
       "       'Edgerton Center', 'Unknown', 'Chemistry', 'Physics',\n",
       "       'Biological Engineering'], dtype=object)"
      ]
     },
     "execution_count": 20,
     "metadata": {},
     "output_type": "execute_result"
    }
   ],
   "source": [
    "data['Departments'].unique() # Good"
   ]
  },
  {
   "cell_type": "code",
   "execution_count": null,
   "metadata": {},
   "outputs": [],
   "source": [
    "data.to_csv(\"Cleaned_data.csv\", index=False)"
   ]
  },
  {
   "cell_type": "code",
   "execution_count": null,
   "metadata": {},
   "outputs": [],
   "source": []
  }
 ],
 "metadata": {
  "kernelspec": {
   "display_name": ".venv",
   "language": "python",
   "name": "python3"
  },
  "language_info": {
   "codemirror_mode": {
    "name": "ipython",
    "version": 3
   },
   "file_extension": ".py",
   "mimetype": "text/x-python",
   "name": "python",
   "nbconvert_exporter": "python",
   "pygments_lexer": "ipython3",
   "version": "3.12.7"
  }
 },
 "nbformat": 4,
 "nbformat_minor": 2
}
