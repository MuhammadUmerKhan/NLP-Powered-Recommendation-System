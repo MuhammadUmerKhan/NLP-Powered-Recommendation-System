{
 "cells": [
  {
   "cell_type": "markdown",
   "metadata": {},
   "source": [
    "# Import Libraries:"
   ]
  },
  {
   "cell_type": "code",
   "execution_count": 1,
   "metadata": {},
   "outputs": [],
   "source": [
    "import pandas as pd\n",
    "import numpy as np\n",
    "\n",
    "from selenium import webdriver\n",
    "from selenium.webdriver.common.by import By\n",
    "from selenium.webdriver.chrome.service import Service\n",
    "from selenium.webdriver.common.keys import Keys\n",
    "from selenium.webdriver.support.ui import WebDriverWait\n",
    "from selenium.webdriver.support import expected_conditions as EC\n",
    "from bs4 import BeautifulSoup\n",
    "import requests"
   ]
  },
  {
   "cell_type": "markdown",
   "metadata": {},
   "source": [
    "# <center><i><b>Environment & Sustainability"
   ]
  },
  {
   "cell_type": "markdown",
   "metadata": {},
   "source": [
    "### <center><b> Web Scraping the Data (Environment & Sustainability: Earth Systems and Climate Science)"
   ]
  },
  {
   "cell_type": "markdown",
   "metadata": {},
   "source": [
    "## Extracting Course Title, Course Level, Course Description"
   ]
  },
  {
   "cell_type": "code",
   "execution_count": 5,
   "metadata": {},
   "outputs": [
    {
     "name": "stdout",
     "output_type": "stream",
     "text": [
      "Error scraping data for: https://ocw.mit.edu/courses/1-72-groundwater-hydrology-fall-2005/\n",
      "Error scraping data for: https://ocw.mit.edu/courses/12-009j-theoretical-environmental-analysis-spring-2015/\n",
      "Error scraping data for: https://ocw.mit.edu/courses/12-842-climate-physics-and-chemistry-fall-2008/\n"
     ]
    }
   ],
   "source": [
    "driver = webdriver.Chrome() \n",
    "\n",
    "# Load the webpage\n",
    "url = \"https://ocw.mit.edu/course-lists/environment-earth-systems-and-climate-science-5/\" \n",
    "driver.get(url)\n",
    "\n",
    "# Find all course cards\n",
    "course_cards = driver.find_elements(By.CSS_SELECTOR, \".card.course-collection-row.mb-1\")\n",
    "courses_data = []\n",
    "for card in course_cards:\n",
    "    # Extract information from each card\n",
    "    course_title = card.find_element(By.CSS_SELECTOR, \".course-title h4\").text\n",
    "    course_number = card.find_element(By.CSS_SELECTOR, \".coursenum\").text\n",
    "    course_level = card.find_element(By.CSS_SELECTOR, \".level\").text\n",
    "    course_link = card.find_element(By.CSS_SELECTOR, \"a\").get_attribute(\"href\")\n",
    "    \n",
    "    driver.execute_script(f\"window.open('{course_link}', '_blank');\")\n",
    "    driver.switch_to.window(driver.window_handles[-1])\n",
    "\n",
    "    try:\n",
    "        \n",
    "        show_more_button = driver.find_element(By.ID, \"expand-description\")\n",
    "        if show_more_button:\n",
    "            show_more_button.click()\n",
    "            WebDriverWait(driver, 10).until(\n",
    "                EC.presence_of_element_located((By.CSS_SELECTOR, \"#expanded-description\"))\n",
    "            )\n",
    "            course_description = driver.find_element(By.CSS_SELECTOR, \"#expanded-description\").text\n",
    "            courses_data.append({\n",
    "                'Title':course_title, \n",
    "                'Difficult':course_level, \n",
    "                'Description':course_description,\n",
    "                'Link': course_link\n",
    "            })\n",
    "        else:\n",
    "            course_description = driver.find_element(By.CSS_SELECTOR, \"#full-description\").text\n",
    "            \n",
    "            courses_data.append({'Description': np.nan})\n",
    "        \n",
    "        # print(f\"Course Title: {course_title}\")\n",
    "        # print(f\"Course Description: {course_description}\")\n",
    "    except:\n",
    "        print(f\"Error scraping data for: {course_link}\")\n",
    "\n",
    "\n",
    "    driver.close()\n",
    "    driver.switch_to.window(driver.window_handles[0])\n",
    "\n",
    "driver.quit()"
   ]
  },
  {
   "cell_type": "code",
   "execution_count": 6,
   "metadata": {},
   "outputs": [],
   "source": [
    "courses_data_df = pd.DataFrame(courses_data)"
   ]
  },
  {
   "cell_type": "code",
   "execution_count": 7,
   "metadata": {},
   "outputs": [
    {
     "data": {
      "text/html": [
       "<div>\n",
       "<style scoped>\n",
       "    .dataframe tbody tr th:only-of-type {\n",
       "        vertical-align: middle;\n",
       "    }\n",
       "\n",
       "    .dataframe tbody tr th {\n",
       "        vertical-align: top;\n",
       "    }\n",
       "\n",
       "    .dataframe thead th {\n",
       "        text-align: right;\n",
       "    }\n",
       "</style>\n",
       "<table border=\"1\" class=\"dataframe\">\n",
       "  <thead>\n",
       "    <tr style=\"text-align: right;\">\n",
       "      <th></th>\n",
       "      <th>Title</th>\n",
       "      <th>Difficult</th>\n",
       "      <th>Description</th>\n",
       "      <th>Link</th>\n",
       "    </tr>\n",
       "  </thead>\n",
       "  <tbody>\n",
       "    <tr>\n",
       "      <th>0</th>\n",
       "      <td>Ecology I: The Earth System</td>\n",
       "      <td>Undergraduate</td>\n",
       "      <td>We will cover fundamentals of ecology, conside...</td>\n",
       "      <td>https://ocw.mit.edu/courses/1-018j-ecology-i-t...</td>\n",
       "    </tr>\n",
       "    <tr>\n",
       "      <th>1</th>\n",
       "      <td>Ecology II: Engineering for Sustainability</td>\n",
       "      <td>Undergraduate</td>\n",
       "      <td>This course provides a review of physical, che...</td>\n",
       "      <td>https://ocw.mit.edu/courses/1-020-ecology-ii-e...</td>\n",
       "    </tr>\n",
       "    <tr>\n",
       "      <th>2</th>\n",
       "      <td>Transport Processes in the Environment</td>\n",
       "      <td>Undergraduate</td>\n",
       "      <td>This class serves as an introduction to mass t...</td>\n",
       "      <td>https://ocw.mit.edu/courses/1-061-transport-pr...</td>\n",
       "    </tr>\n",
       "    <tr>\n",
       "      <th>3</th>\n",
       "      <td>Advanced Fluid Dynamics of the Environment</td>\n",
       "      <td>Graduate</td>\n",
       "      <td>Designed to familiarize students with theories...</td>\n",
       "      <td>https://ocw.mit.edu/courses/1-63-advanced-flui...</td>\n",
       "    </tr>\n",
       "    <tr>\n",
       "      <th>4</th>\n",
       "      <td>Land, Water, Food, and Climate</td>\n",
       "      <td>Graduate</td>\n",
       "      <td>This reading seminar examines land, water, foo...</td>\n",
       "      <td>https://ocw.mit.edu/courses/1-74-land-water-fo...</td>\n",
       "    </tr>\n",
       "  </tbody>\n",
       "</table>\n",
       "</div>"
      ],
      "text/plain": [
       "                                        Title      Difficult  \\\n",
       "0                 Ecology I: The Earth System  Undergraduate   \n",
       "1  Ecology II: Engineering for Sustainability  Undergraduate   \n",
       "2      Transport Processes in the Environment  Undergraduate   \n",
       "3  Advanced Fluid Dynamics of the Environment       Graduate   \n",
       "4              Land, Water, Food, and Climate       Graduate   \n",
       "\n",
       "                                         Description  \\\n",
       "0  We will cover fundamentals of ecology, conside...   \n",
       "1  This course provides a review of physical, che...   \n",
       "2  This class serves as an introduction to mass t...   \n",
       "3  Designed to familiarize students with theories...   \n",
       "4  This reading seminar examines land, water, foo...   \n",
       "\n",
       "                                                Link  \n",
       "0  https://ocw.mit.edu/courses/1-018j-ecology-i-t...  \n",
       "1  https://ocw.mit.edu/courses/1-020-ecology-ii-e...  \n",
       "2  https://ocw.mit.edu/courses/1-061-transport-pr...  \n",
       "3  https://ocw.mit.edu/courses/1-63-advanced-flui...  \n",
       "4  https://ocw.mit.edu/courses/1-74-land-water-fo...  "
      ]
     },
     "execution_count": 7,
     "metadata": {},
     "output_type": "execute_result"
    }
   ],
   "source": [
    "courses_data_df.head()"
   ]
  },
  {
   "cell_type": "markdown",
   "metadata": {},
   "source": [
    "## Extracting Course Title, Course Level, Course Description For Links facing Error"
   ]
  },
  {
   "cell_type": "code",
   "execution_count": 8,
   "metadata": {},
   "outputs": [
    {
     "name": "stdout",
     "output_type": "stream",
     "text": [
      "Error scraping data for: https://ocw.mit.edu/courses/1-018j-ecology-i-the-earth-system-fall-2009/\n",
      "Error scraping data for: https://ocw.mit.edu/courses/1-020-ecology-ii-engineering-for-sustainability-spring-2008/\n",
      "Error scraping data for: https://ocw.mit.edu/courses/1-061-transport-processes-in-the-environment-fall-2008/\n",
      "Error scraping data for: https://ocw.mit.edu/courses/1-63-advanced-fluid-dynamics-of-the-environment-fall-2002/\n",
      "Error scraping data for: https://ocw.mit.edu/courses/1-74-land-water-food-and-climate-fall-2020/\n",
      "Error scraping data for: https://ocw.mit.edu/courses/1-84j-atmospheric-chemistry-fall-2013/\n",
      "Error scraping data for: https://ocw.mit.edu/courses/5-60-thermodynamics-kinetics-spring-2008/\n",
      "Error scraping data for: https://ocw.mit.edu/courses/8-21-the-physics-of-energy-fall-2009/\n",
      "Error scraping data for: https://ocw.mit.edu/courses/12-000-solving-complex-problems-fall-2009/\n",
      "Error scraping data for: https://ocw.mit.edu/courses/12-001-introduction-to-geology-fall-2013/\n",
      "Error scraping data for: https://ocw.mit.edu/courses/12-002-physics-and-chemistry-of-the-terrestrial-planets-fall-2008/\n",
      "Error scraping data for: https://ocw.mit.edu/courses/12-003-atmosphere-ocean-and-climate-dynamics-fall-2008/\n",
      "Error scraping data for: https://ocw.mit.edu/courses/12-007-geobiology-spring-2013/\n",
      "Error scraping data for: https://ocw.mit.edu/courses/12-086-modeling-environmental-complexity-fall-2014/\n",
      "Error scraping data for: https://ocw.mit.edu/courses/12-090-the-environment-of-the-earths-surface-spring-2007/\n",
      "Error scraping data for: https://ocw.mit.edu/courses/12-103-science-and-policy-of-natural-hazards-spring-2010/\n",
      "Error scraping data for: https://ocw.mit.edu/courses/12-307-weather-and-climate-laboratory-spring-2009/\n",
      "Error scraping data for: https://ocw.mit.edu/courses/12-333-atmospheric-and-ocean-circulations-spring-2004/\n",
      "Error scraping data for: https://ocw.mit.edu/courses/12-335-experimental-atmospheric-chemistry-fall-2014/\n",
      "Error scraping data for: https://ocw.mit.edu/courses/12-340-global-warming-science-spring-2012/\n",
      "Error scraping data for: https://ocw.mit.edu/courses/12-740-paleoceanography-spring-2008/\n",
      "Error scraping data for: https://ocw.mit.edu/courses/ec-719-d-lab-water-climate-change-and-health-spring-2019/\n",
      "Error scraping data for: https://ocw.mit.edu/courses/20-104j-chemicals-in-the-environment-toxicology-and-public-health-be-104j-spring-2005/\n",
      "Error scraping data for: https://ocw.mit.edu/courses/res-env-003-earthdnas-climate-101-fall-2019/\n",
      "Error scraping data for: https://ocw.mit.edu/courses/res-env-005-climate-science-risk-solutions-a-climate-primer-fall-2020/\n"
     ]
    }
   ],
   "source": [
    "driver = webdriver.Chrome() \n",
    "\n",
    "url = \"https://ocw.mit.edu/course-lists/environment-earth-systems-and-climate-science-5/\"\n",
    "\n",
    "driver.get(url)\n",
    "\n",
    "course_cards = driver.find_elements(By.CSS_SELECTOR, \".card.course-collection-row.mb-1\")\n",
    "courses_data_1 = []\n",
    "for card in course_cards:\n",
    "\n",
    "    \n",
    "    course_title = card.find_element(By.CSS_SELECTOR, \".course-title h4\").text\n",
    "    course_number = card.find_element(By.CSS_SELECTOR, \".coursenum\").text\n",
    "    course_level = card.find_element(By.CSS_SELECTOR, \".level\").text\n",
    "    course_link = card.find_element(By.CSS_SELECTOR, \"a\").get_attribute(\"href\")\n",
    "\n",
    "    driver.execute_script(f\"window.open('{course_link}', '_blank');\")\n",
    "    driver.switch_to.window(driver.window_handles[-1])\n",
    "\n",
    "    try:\n",
    "\n",
    "        course_description = driver.find_element(By.ID, \"full-description\").text\n",
    "        courses_data_1.append({\n",
    "                'Title':course_title, \n",
    "                'Difficult':course_level, \n",
    "                'Description':course_description,\n",
    "                'Link':course_link\n",
    "            })\n",
    "        # print(f\"Course Title: {course_title}\")\n",
    "        # print(f\"Course Description: {course_description}\")\n",
    "    except:\n",
    "        print(f\"Error scraping data for: {course_link}\")\n",
    "    \n",
    "    driver.close()\n",
    "    \n",
    "    driver.switch_to.window(driver.window_handles[0])\n",
    "    \n",
    "driver.quit()"
   ]
  },
  {
   "cell_type": "code",
   "execution_count": 9,
   "metadata": {},
   "outputs": [],
   "source": [
    "courses_data_df_1 = pd.DataFrame(courses_data_1)"
   ]
  },
  {
   "cell_type": "code",
   "execution_count": 10,
   "metadata": {},
   "outputs": [
    {
     "data": {
      "text/html": [
       "<div>\n",
       "<style scoped>\n",
       "    .dataframe tbody tr th:only-of-type {\n",
       "        vertical-align: middle;\n",
       "    }\n",
       "\n",
       "    .dataframe tbody tr th {\n",
       "        vertical-align: top;\n",
       "    }\n",
       "\n",
       "    .dataframe thead th {\n",
       "        text-align: right;\n",
       "    }\n",
       "</style>\n",
       "<table border=\"1\" class=\"dataframe\">\n",
       "  <thead>\n",
       "    <tr style=\"text-align: right;\">\n",
       "      <th></th>\n",
       "      <th>Title</th>\n",
       "      <th>Difficult</th>\n",
       "      <th>Description</th>\n",
       "      <th>Link</th>\n",
       "    </tr>\n",
       "  </thead>\n",
       "  <tbody>\n",
       "    <tr>\n",
       "      <th>0</th>\n",
       "      <td>Groundwater Hydrology</td>\n",
       "      <td>Graduate</td>\n",
       "      <td>This course covers fundamentals of subsurface ...</td>\n",
       "      <td>https://ocw.mit.edu/courses/1-72-groundwater-h...</td>\n",
       "    </tr>\n",
       "    <tr>\n",
       "      <th>1</th>\n",
       "      <td>Theoretical Environmental Analysis</td>\n",
       "      <td>Undergraduate</td>\n",
       "      <td>This course analyzes cooperative processes tha...</td>\n",
       "      <td>https://ocw.mit.edu/courses/12-009j-theoretica...</td>\n",
       "    </tr>\n",
       "    <tr>\n",
       "      <th>2</th>\n",
       "      <td>Climate Physics and Chemistry</td>\n",
       "      <td>Graduate</td>\n",
       "      <td>This course introduces students to climate stu...</td>\n",
       "      <td>https://ocw.mit.edu/courses/12-842-climate-phy...</td>\n",
       "    </tr>\n",
       "  </tbody>\n",
       "</table>\n",
       "</div>"
      ],
      "text/plain": [
       "                                Title      Difficult  \\\n",
       "0               Groundwater Hydrology       Graduate   \n",
       "1  Theoretical Environmental Analysis  Undergraduate   \n",
       "2       Climate Physics and Chemistry       Graduate   \n",
       "\n",
       "                                         Description  \\\n",
       "0  This course covers fundamentals of subsurface ...   \n",
       "1  This course analyzes cooperative processes tha...   \n",
       "2  This course introduces students to climate stu...   \n",
       "\n",
       "                                                Link  \n",
       "0  https://ocw.mit.edu/courses/1-72-groundwater-h...  \n",
       "1  https://ocw.mit.edu/courses/12-009j-theoretica...  \n",
       "2  https://ocw.mit.edu/courses/12-842-climate-phy...  "
      ]
     },
     "execution_count": 10,
     "metadata": {},
     "output_type": "execute_result"
    }
   ],
   "source": [
    "courses_data_df_1"
   ]
  },
  {
   "cell_type": "markdown",
   "metadata": {},
   "source": [
    "## Concatinating both DataFrame consist of Title, Difficult, Description, Link"
   ]
  },
  {
   "cell_type": "code",
   "execution_count": 11,
   "metadata": {},
   "outputs": [
    {
     "data": {
      "text/html": [
       "<div>\n",
       "<style scoped>\n",
       "    .dataframe tbody tr th:only-of-type {\n",
       "        vertical-align: middle;\n",
       "    }\n",
       "\n",
       "    .dataframe tbody tr th {\n",
       "        vertical-align: top;\n",
       "    }\n",
       "\n",
       "    .dataframe thead th {\n",
       "        text-align: right;\n",
       "    }\n",
       "</style>\n",
       "<table border=\"1\" class=\"dataframe\">\n",
       "  <thead>\n",
       "    <tr style=\"text-align: right;\">\n",
       "      <th></th>\n",
       "      <th>Title</th>\n",
       "      <th>Difficult</th>\n",
       "      <th>Description</th>\n",
       "      <th>Link</th>\n",
       "    </tr>\n",
       "  </thead>\n",
       "  <tbody>\n",
       "    <tr>\n",
       "      <th>0</th>\n",
       "      <td>Ecology I: The Earth System</td>\n",
       "      <td>Undergraduate</td>\n",
       "      <td>We will cover fundamentals of ecology, conside...</td>\n",
       "      <td>https://ocw.mit.edu/courses/1-018j-ecology-i-t...</td>\n",
       "    </tr>\n",
       "    <tr>\n",
       "      <th>1</th>\n",
       "      <td>Ecology II: Engineering for Sustainability</td>\n",
       "      <td>Undergraduate</td>\n",
       "      <td>This course provides a review of physical, che...</td>\n",
       "      <td>https://ocw.mit.edu/courses/1-020-ecology-ii-e...</td>\n",
       "    </tr>\n",
       "    <tr>\n",
       "      <th>2</th>\n",
       "      <td>Transport Processes in the Environment</td>\n",
       "      <td>Undergraduate</td>\n",
       "      <td>This class serves as an introduction to mass t...</td>\n",
       "      <td>https://ocw.mit.edu/courses/1-061-transport-pr...</td>\n",
       "    </tr>\n",
       "    <tr>\n",
       "      <th>3</th>\n",
       "      <td>Advanced Fluid Dynamics of the Environment</td>\n",
       "      <td>Graduate</td>\n",
       "      <td>Designed to familiarize students with theories...</td>\n",
       "      <td>https://ocw.mit.edu/courses/1-63-advanced-flui...</td>\n",
       "    </tr>\n",
       "    <tr>\n",
       "      <th>4</th>\n",
       "      <td>Land, Water, Food, and Climate</td>\n",
       "      <td>Graduate</td>\n",
       "      <td>This reading seminar examines land, water, foo...</td>\n",
       "      <td>https://ocw.mit.edu/courses/1-74-land-water-fo...</td>\n",
       "    </tr>\n",
       "  </tbody>\n",
       "</table>\n",
       "</div>"
      ],
      "text/plain": [
       "                                        Title      Difficult  \\\n",
       "0                 Ecology I: The Earth System  Undergraduate   \n",
       "1  Ecology II: Engineering for Sustainability  Undergraduate   \n",
       "2      Transport Processes in the Environment  Undergraduate   \n",
       "3  Advanced Fluid Dynamics of the Environment       Graduate   \n",
       "4              Land, Water, Food, and Climate       Graduate   \n",
       "\n",
       "                                         Description  \\\n",
       "0  We will cover fundamentals of ecology, conside...   \n",
       "1  This course provides a review of physical, che...   \n",
       "2  This class serves as an introduction to mass t...   \n",
       "3  Designed to familiarize students with theories...   \n",
       "4  This reading seminar examines land, water, foo...   \n",
       "\n",
       "                                                Link  \n",
       "0  https://ocw.mit.edu/courses/1-018j-ecology-i-t...  \n",
       "1  https://ocw.mit.edu/courses/1-020-ecology-ii-e...  \n",
       "2  https://ocw.mit.edu/courses/1-061-transport-pr...  \n",
       "3  https://ocw.mit.edu/courses/1-63-advanced-flui...  \n",
       "4  https://ocw.mit.edu/courses/1-74-land-water-fo...  "
      ]
     },
     "execution_count": 11,
     "metadata": {},
     "output_type": "execute_result"
    }
   ],
   "source": [
    "compelte_df = pd.concat([courses_data_df, courses_data_df_1])\n",
    "compelte_df.head()"
   ]
  },
  {
   "cell_type": "markdown",
   "metadata": {},
   "source": [
    "## Extracting Course Department"
   ]
  },
  {
   "cell_type": "code",
   "execution_count": 12,
   "metadata": {},
   "outputs": [
    {
     "name": "stdout",
     "output_type": "stream",
     "text": [
      "Department for https://ocw.mit.edu/courses/1-018j-ecology-i-the-earth-system-fall-2009/: ['Civil and Environmental Engineering']\n",
      "Department for https://ocw.mit.edu/courses/1-020-ecology-ii-engineering-for-sustainability-spring-2008/: ['Civil and Environmental Engineering', 'Civil and Environmental Engineering']\n",
      "Department for https://ocw.mit.edu/courses/1-061-transport-processes-in-the-environment-fall-2008/: ['Civil and Environmental Engineering', 'Civil and Environmental Engineering', 'Civil and Environmental Engineering']\n",
      "Department for https://ocw.mit.edu/courses/1-63-advanced-fluid-dynamics-of-the-environment-fall-2002/: ['Civil and Environmental Engineering', 'Civil and Environmental Engineering', 'Civil and Environmental Engineering', 'Civil and Environmental Engineering']\n",
      "Department for https://ocw.mit.edu/courses/1-74-land-water-food-and-climate-fall-2020/: ['Civil and Environmental Engineering', 'Civil and Environmental Engineering', 'Civil and Environmental Engineering', 'Civil and Environmental Engineering', 'Civil and Environmental Engineering']\n",
      "Department for https://ocw.mit.edu/courses/1-84j-atmospheric-chemistry-fall-2013/: ['Civil and Environmental Engineering', 'Civil and Environmental Engineering', 'Civil and Environmental Engineering', 'Civil and Environmental Engineering', 'Civil and Environmental Engineering', 'Civil and Environmental Engineering']\n",
      "Department for https://ocw.mit.edu/courses/5-60-thermodynamics-kinetics-spring-2008/: ['Civil and Environmental Engineering', 'Civil and Environmental Engineering', 'Civil and Environmental Engineering', 'Civil and Environmental Engineering', 'Civil and Environmental Engineering', 'Civil and Environmental Engineering', 'Chemistry']\n",
      "Department for https://ocw.mit.edu/courses/8-21-the-physics-of-energy-fall-2009/: ['Civil and Environmental Engineering', 'Civil and Environmental Engineering', 'Civil and Environmental Engineering', 'Civil and Environmental Engineering', 'Civil and Environmental Engineering', 'Civil and Environmental Engineering', 'Chemistry', 'Physics']\n",
      "Department for https://ocw.mit.edu/courses/12-000-solving-complex-problems-fall-2009/: ['Civil and Environmental Engineering', 'Civil and Environmental Engineering', 'Civil and Environmental Engineering', 'Civil and Environmental Engineering', 'Civil and Environmental Engineering', 'Civil and Environmental Engineering', 'Chemistry', 'Physics', 'Earth, Atmospheric, and Planetary Sciences']\n",
      "Department for https://ocw.mit.edu/courses/12-001-introduction-to-geology-fall-2013/: ['Civil and Environmental Engineering', 'Civil and Environmental Engineering', 'Civil and Environmental Engineering', 'Civil and Environmental Engineering', 'Civil and Environmental Engineering', 'Civil and Environmental Engineering', 'Chemistry', 'Physics', 'Earth, Atmospheric, and Planetary Sciences', 'Earth, Atmospheric, and Planetary Sciences']\n",
      "Department for https://ocw.mit.edu/courses/12-002-physics-and-chemistry-of-the-terrestrial-planets-fall-2008/: ['Civil and Environmental Engineering', 'Civil and Environmental Engineering', 'Civil and Environmental Engineering', 'Civil and Environmental Engineering', 'Civil and Environmental Engineering', 'Civil and Environmental Engineering', 'Chemistry', 'Physics', 'Earth, Atmospheric, and Planetary Sciences', 'Earth, Atmospheric, and Planetary Sciences', 'Earth, Atmospheric, and Planetary Sciences']\n",
      "Department for https://ocw.mit.edu/courses/12-003-atmosphere-ocean-and-climate-dynamics-fall-2008/: ['Civil and Environmental Engineering', 'Civil and Environmental Engineering', 'Civil and Environmental Engineering', 'Civil and Environmental Engineering', 'Civil and Environmental Engineering', 'Civil and Environmental Engineering', 'Chemistry', 'Physics', 'Earth, Atmospheric, and Planetary Sciences', 'Earth, Atmospheric, and Planetary Sciences', 'Earth, Atmospheric, and Planetary Sciences', 'Earth, Atmospheric, and Planetary Sciences']\n",
      "Department for https://ocw.mit.edu/courses/12-007-geobiology-spring-2013/: ['Civil and Environmental Engineering', 'Civil and Environmental Engineering', 'Civil and Environmental Engineering', 'Civil and Environmental Engineering', 'Civil and Environmental Engineering', 'Civil and Environmental Engineering', 'Chemistry', 'Physics', 'Earth, Atmospheric, and Planetary Sciences', 'Earth, Atmospheric, and Planetary Sciences', 'Earth, Atmospheric, and Planetary Sciences', 'Earth, Atmospheric, and Planetary Sciences', 'Earth, Atmospheric, and Planetary Sciences']\n",
      "Department for https://ocw.mit.edu/courses/12-086-modeling-environmental-complexity-fall-2014/: ['Civil and Environmental Engineering', 'Civil and Environmental Engineering', 'Civil and Environmental Engineering', 'Civil and Environmental Engineering', 'Civil and Environmental Engineering', 'Civil and Environmental Engineering', 'Chemistry', 'Physics', 'Earth, Atmospheric, and Planetary Sciences', 'Earth, Atmospheric, and Planetary Sciences', 'Earth, Atmospheric, and Planetary Sciences', 'Earth, Atmospheric, and Planetary Sciences', 'Earth, Atmospheric, and Planetary Sciences', 'Earth, Atmospheric, and Planetary Sciences']\n",
      "Department for https://ocw.mit.edu/courses/12-090-the-environment-of-the-earths-surface-spring-2007/: ['Civil and Environmental Engineering', 'Civil and Environmental Engineering', 'Civil and Environmental Engineering', 'Civil and Environmental Engineering', 'Civil and Environmental Engineering', 'Civil and Environmental Engineering', 'Chemistry', 'Physics', 'Earth, Atmospheric, and Planetary Sciences', 'Earth, Atmospheric, and Planetary Sciences', 'Earth, Atmospheric, and Planetary Sciences', 'Earth, Atmospheric, and Planetary Sciences', 'Earth, Atmospheric, and Planetary Sciences', 'Earth, Atmospheric, and Planetary Sciences', 'Earth, Atmospheric, and Planetary Sciences']\n",
      "Department for https://ocw.mit.edu/courses/12-103-science-and-policy-of-natural-hazards-spring-2010/: ['Civil and Environmental Engineering', 'Civil and Environmental Engineering', 'Civil and Environmental Engineering', 'Civil and Environmental Engineering', 'Civil and Environmental Engineering', 'Civil and Environmental Engineering', 'Chemistry', 'Physics', 'Earth, Atmospheric, and Planetary Sciences', 'Earth, Atmospheric, and Planetary Sciences', 'Earth, Atmospheric, and Planetary Sciences', 'Earth, Atmospheric, and Planetary Sciences', 'Earth, Atmospheric, and Planetary Sciences', 'Earth, Atmospheric, and Planetary Sciences', 'Earth, Atmospheric, and Planetary Sciences', 'Earth, Atmospheric, and Planetary Sciences']\n",
      "Department for https://ocw.mit.edu/courses/12-307-weather-and-climate-laboratory-spring-2009/: ['Civil and Environmental Engineering', 'Civil and Environmental Engineering', 'Civil and Environmental Engineering', 'Civil and Environmental Engineering', 'Civil and Environmental Engineering', 'Civil and Environmental Engineering', 'Chemistry', 'Physics', 'Earth, Atmospheric, and Planetary Sciences', 'Earth, Atmospheric, and Planetary Sciences', 'Earth, Atmospheric, and Planetary Sciences', 'Earth, Atmospheric, and Planetary Sciences', 'Earth, Atmospheric, and Planetary Sciences', 'Earth, Atmospheric, and Planetary Sciences', 'Earth, Atmospheric, and Planetary Sciences', 'Earth, Atmospheric, and Planetary Sciences', 'Earth, Atmospheric, and Planetary Sciences']\n",
      "Department for https://ocw.mit.edu/courses/12-333-atmospheric-and-ocean-circulations-spring-2004/: ['Civil and Environmental Engineering', 'Civil and Environmental Engineering', 'Civil and Environmental Engineering', 'Civil and Environmental Engineering', 'Civil and Environmental Engineering', 'Civil and Environmental Engineering', 'Chemistry', 'Physics', 'Earth, Atmospheric, and Planetary Sciences', 'Earth, Atmospheric, and Planetary Sciences', 'Earth, Atmospheric, and Planetary Sciences', 'Earth, Atmospheric, and Planetary Sciences', 'Earth, Atmospheric, and Planetary Sciences', 'Earth, Atmospheric, and Planetary Sciences', 'Earth, Atmospheric, and Planetary Sciences', 'Earth, Atmospheric, and Planetary Sciences', 'Earth, Atmospheric, and Planetary Sciences', 'Earth, Atmospheric, and Planetary Sciences']\n",
      "Department for https://ocw.mit.edu/courses/12-335-experimental-atmospheric-chemistry-fall-2014/: ['Civil and Environmental Engineering', 'Civil and Environmental Engineering', 'Civil and Environmental Engineering', 'Civil and Environmental Engineering', 'Civil and Environmental Engineering', 'Civil and Environmental Engineering', 'Chemistry', 'Physics', 'Earth, Atmospheric, and Planetary Sciences', 'Earth, Atmospheric, and Planetary Sciences', 'Earth, Atmospheric, and Planetary Sciences', 'Earth, Atmospheric, and Planetary Sciences', 'Earth, Atmospheric, and Planetary Sciences', 'Earth, Atmospheric, and Planetary Sciences', 'Earth, Atmospheric, and Planetary Sciences', 'Earth, Atmospheric, and Planetary Sciences', 'Earth, Atmospheric, and Planetary Sciences', 'Earth, Atmospheric, and Planetary Sciences', 'Earth, Atmospheric, and Planetary Sciences']\n",
      "Department for https://ocw.mit.edu/courses/12-340-global-warming-science-spring-2012/: ['Civil and Environmental Engineering', 'Civil and Environmental Engineering', 'Civil and Environmental Engineering', 'Civil and Environmental Engineering', 'Civil and Environmental Engineering', 'Civil and Environmental Engineering', 'Chemistry', 'Physics', 'Earth, Atmospheric, and Planetary Sciences', 'Earth, Atmospheric, and Planetary Sciences', 'Earth, Atmospheric, and Planetary Sciences', 'Earth, Atmospheric, and Planetary Sciences', 'Earth, Atmospheric, and Planetary Sciences', 'Earth, Atmospheric, and Planetary Sciences', 'Earth, Atmospheric, and Planetary Sciences', 'Earth, Atmospheric, and Planetary Sciences', 'Earth, Atmospheric, and Planetary Sciences', 'Earth, Atmospheric, and Planetary Sciences', 'Earth, Atmospheric, and Planetary Sciences', 'Earth, Atmospheric, and Planetary Sciences']\n",
      "Department for https://ocw.mit.edu/courses/12-740-paleoceanography-spring-2008/: ['Civil and Environmental Engineering', 'Civil and Environmental Engineering', 'Civil and Environmental Engineering', 'Civil and Environmental Engineering', 'Civil and Environmental Engineering', 'Civil and Environmental Engineering', 'Chemistry', 'Physics', 'Earth, Atmospheric, and Planetary Sciences', 'Earth, Atmospheric, and Planetary Sciences', 'Earth, Atmospheric, and Planetary Sciences', 'Earth, Atmospheric, and Planetary Sciences', 'Earth, Atmospheric, and Planetary Sciences', 'Earth, Atmospheric, and Planetary Sciences', 'Earth, Atmospheric, and Planetary Sciences', 'Earth, Atmospheric, and Planetary Sciences', 'Earth, Atmospheric, and Planetary Sciences', 'Earth, Atmospheric, and Planetary Sciences', 'Earth, Atmospheric, and Planetary Sciences', 'Earth, Atmospheric, and Planetary Sciences', 'Earth, Atmospheric, and Planetary Sciences']\n",
      "Department for https://ocw.mit.edu/courses/ec-719-d-lab-water-climate-change-and-health-spring-2019/: ['Civil and Environmental Engineering', 'Civil and Environmental Engineering', 'Civil and Environmental Engineering', 'Civil and Environmental Engineering', 'Civil and Environmental Engineering', 'Civil and Environmental Engineering', 'Chemistry', 'Physics', 'Earth, Atmospheric, and Planetary Sciences', 'Earth, Atmospheric, and Planetary Sciences', 'Earth, Atmospheric, and Planetary Sciences', 'Earth, Atmospheric, and Planetary Sciences', 'Earth, Atmospheric, and Planetary Sciences', 'Earth, Atmospheric, and Planetary Sciences', 'Earth, Atmospheric, and Planetary Sciences', 'Earth, Atmospheric, and Planetary Sciences', 'Earth, Atmospheric, and Planetary Sciences', 'Earth, Atmospheric, and Planetary Sciences', 'Earth, Atmospheric, and Planetary Sciences', 'Earth, Atmospheric, and Planetary Sciences', 'Earth, Atmospheric, and Planetary Sciences', 'Edgerton Center']\n",
      "Department for https://ocw.mit.edu/courses/20-104j-chemicals-in-the-environment-toxicology-and-public-health-be-104j-spring-2005/: ['Civil and Environmental Engineering', 'Civil and Environmental Engineering', 'Civil and Environmental Engineering', 'Civil and Environmental Engineering', 'Civil and Environmental Engineering', 'Civil and Environmental Engineering', 'Chemistry', 'Physics', 'Earth, Atmospheric, and Planetary Sciences', 'Earth, Atmospheric, and Planetary Sciences', 'Earth, Atmospheric, and Planetary Sciences', 'Earth, Atmospheric, and Planetary Sciences', 'Earth, Atmospheric, and Planetary Sciences', 'Earth, Atmospheric, and Planetary Sciences', 'Earth, Atmospheric, and Planetary Sciences', 'Earth, Atmospheric, and Planetary Sciences', 'Earth, Atmospheric, and Planetary Sciences', 'Earth, Atmospheric, and Planetary Sciences', 'Earth, Atmospheric, and Planetary Sciences', 'Earth, Atmospheric, and Planetary Sciences', 'Earth, Atmospheric, and Planetary Sciences', 'Edgerton Center', 'Biological Engineering']\n",
      "Department for https://ocw.mit.edu/courses/res-env-003-earthdnas-climate-101-fall-2019/: ['Civil and Environmental Engineering', 'Civil and Environmental Engineering', 'Civil and Environmental Engineering', 'Civil and Environmental Engineering', 'Civil and Environmental Engineering', 'Civil and Environmental Engineering', 'Chemistry', 'Physics', 'Earth, Atmospheric, and Planetary Sciences', 'Earth, Atmospheric, and Planetary Sciences', 'Earth, Atmospheric, and Planetary Sciences', 'Earth, Atmospheric, and Planetary Sciences', 'Earth, Atmospheric, and Planetary Sciences', 'Earth, Atmospheric, and Planetary Sciences', 'Earth, Atmospheric, and Planetary Sciences', 'Earth, Atmospheric, and Planetary Sciences', 'Earth, Atmospheric, and Planetary Sciences', 'Earth, Atmospheric, and Planetary Sciences', 'Earth, Atmospheric, and Planetary Sciences', 'Earth, Atmospheric, and Planetary Sciences', 'Earth, Atmospheric, and Planetary Sciences', 'Edgerton Center', 'Biological Engineering', nan]\n",
      "Department for https://ocw.mit.edu/courses/res-env-005-climate-science-risk-solutions-a-climate-primer-fall-2020/: ['Civil and Environmental Engineering', 'Civil and Environmental Engineering', 'Civil and Environmental Engineering', 'Civil and Environmental Engineering', 'Civil and Environmental Engineering', 'Civil and Environmental Engineering', 'Chemistry', 'Physics', 'Earth, Atmospheric, and Planetary Sciences', 'Earth, Atmospheric, and Planetary Sciences', 'Earth, Atmospheric, and Planetary Sciences', 'Earth, Atmospheric, and Planetary Sciences', 'Earth, Atmospheric, and Planetary Sciences', 'Earth, Atmospheric, and Planetary Sciences', 'Earth, Atmospheric, and Planetary Sciences', 'Earth, Atmospheric, and Planetary Sciences', 'Earth, Atmospheric, and Planetary Sciences', 'Earth, Atmospheric, and Planetary Sciences', 'Earth, Atmospheric, and Planetary Sciences', 'Earth, Atmospheric, and Planetary Sciences', 'Earth, Atmospheric, and Planetary Sciences', 'Edgerton Center', 'Biological Engineering', nan, nan]\n",
      "Department for https://ocw.mit.edu/courses/1-72-groundwater-hydrology-fall-2005/: ['Civil and Environmental Engineering', 'Civil and Environmental Engineering', 'Civil and Environmental Engineering', 'Civil and Environmental Engineering', 'Civil and Environmental Engineering', 'Civil and Environmental Engineering', 'Chemistry', 'Physics', 'Earth, Atmospheric, and Planetary Sciences', 'Earth, Atmospheric, and Planetary Sciences', 'Earth, Atmospheric, and Planetary Sciences', 'Earth, Atmospheric, and Planetary Sciences', 'Earth, Atmospheric, and Planetary Sciences', 'Earth, Atmospheric, and Planetary Sciences', 'Earth, Atmospheric, and Planetary Sciences', 'Earth, Atmospheric, and Planetary Sciences', 'Earth, Atmospheric, and Planetary Sciences', 'Earth, Atmospheric, and Planetary Sciences', 'Earth, Atmospheric, and Planetary Sciences', 'Earth, Atmospheric, and Planetary Sciences', 'Earth, Atmospheric, and Planetary Sciences', 'Edgerton Center', 'Biological Engineering', nan, nan, 'Civil and Environmental Engineering']\n",
      "Department for https://ocw.mit.edu/courses/12-009j-theoretical-environmental-analysis-spring-2015/: ['Civil and Environmental Engineering', 'Civil and Environmental Engineering', 'Civil and Environmental Engineering', 'Civil and Environmental Engineering', 'Civil and Environmental Engineering', 'Civil and Environmental Engineering', 'Chemistry', 'Physics', 'Earth, Atmospheric, and Planetary Sciences', 'Earth, Atmospheric, and Planetary Sciences', 'Earth, Atmospheric, and Planetary Sciences', 'Earth, Atmospheric, and Planetary Sciences', 'Earth, Atmospheric, and Planetary Sciences', 'Earth, Atmospheric, and Planetary Sciences', 'Earth, Atmospheric, and Planetary Sciences', 'Earth, Atmospheric, and Planetary Sciences', 'Earth, Atmospheric, and Planetary Sciences', 'Earth, Atmospheric, and Planetary Sciences', 'Earth, Atmospheric, and Planetary Sciences', 'Earth, Atmospheric, and Planetary Sciences', 'Earth, Atmospheric, and Planetary Sciences', 'Edgerton Center', 'Biological Engineering', nan, nan, 'Civil and Environmental Engineering', 'Earth, Atmospheric, and Planetary Sciences']\n",
      "Department for https://ocw.mit.edu/courses/12-842-climate-physics-and-chemistry-fall-2008/: ['Civil and Environmental Engineering', 'Civil and Environmental Engineering', 'Civil and Environmental Engineering', 'Civil and Environmental Engineering', 'Civil and Environmental Engineering', 'Civil and Environmental Engineering', 'Chemistry', 'Physics', 'Earth, Atmospheric, and Planetary Sciences', 'Earth, Atmospheric, and Planetary Sciences', 'Earth, Atmospheric, and Planetary Sciences', 'Earth, Atmospheric, and Planetary Sciences', 'Earth, Atmospheric, and Planetary Sciences', 'Earth, Atmospheric, and Planetary Sciences', 'Earth, Atmospheric, and Planetary Sciences', 'Earth, Atmospheric, and Planetary Sciences', 'Earth, Atmospheric, and Planetary Sciences', 'Earth, Atmospheric, and Planetary Sciences', 'Earth, Atmospheric, and Planetary Sciences', 'Earth, Atmospheric, and Planetary Sciences', 'Earth, Atmospheric, and Planetary Sciences', 'Edgerton Center', 'Biological Engineering', nan, nan, 'Civil and Environmental Engineering', 'Earth, Atmospheric, and Planetary Sciences', 'Earth, Atmospheric, and Planetary Sciences']\n"
     ]
    }
   ],
   "source": [
    "def extract_department_name(url):\n",
    "    \n",
    "    response = requests.get(url)\n",
    "    soup = BeautifulSoup(response.content, 'html.parser')\n",
    "\n",
    "    try:\n",
    "        department_element = soup.find('a', class_='course-info-department')\n",
    "        department_name = department_element.text.strip()\n",
    "        dep_names.append(department_name)\n",
    "    except AttributeError:\n",
    "        dep_names.append(np.nan)\n",
    "\n",
    "    return dep_names\n",
    "\n",
    "course_urls = compelte_df['Link'].values\n",
    "dep_names = []\n",
    "for url in course_urls:\n",
    "    department_names = extract_department_name(url)\n",
    "    print(f\"Department for {url}: {department_names}\")"
   ]
  },
  {
   "cell_type": "code",
   "execution_count": 13,
   "metadata": {},
   "outputs": [],
   "source": [
    "compelte_df['Departments'] = dep_names"
   ]
  },
  {
   "cell_type": "code",
   "execution_count": 14,
   "metadata": {},
   "outputs": [
    {
     "data": {
      "text/html": [
       "<div>\n",
       "<style scoped>\n",
       "    .dataframe tbody tr th:only-of-type {\n",
       "        vertical-align: middle;\n",
       "    }\n",
       "\n",
       "    .dataframe tbody tr th {\n",
       "        vertical-align: top;\n",
       "    }\n",
       "\n",
       "    .dataframe thead th {\n",
       "        text-align: right;\n",
       "    }\n",
       "</style>\n",
       "<table border=\"1\" class=\"dataframe\">\n",
       "  <thead>\n",
       "    <tr style=\"text-align: right;\">\n",
       "      <th></th>\n",
       "      <th>Title</th>\n",
       "      <th>Difficult</th>\n",
       "      <th>Description</th>\n",
       "      <th>Link</th>\n",
       "      <th>Departments</th>\n",
       "    </tr>\n",
       "  </thead>\n",
       "  <tbody>\n",
       "    <tr>\n",
       "      <th>0</th>\n",
       "      <td>Ecology I: The Earth System</td>\n",
       "      <td>Undergraduate</td>\n",
       "      <td>We will cover fundamentals of ecology, conside...</td>\n",
       "      <td>https://ocw.mit.edu/courses/1-018j-ecology-i-t...</td>\n",
       "      <td>Civil and Environmental Engineering</td>\n",
       "    </tr>\n",
       "    <tr>\n",
       "      <th>1</th>\n",
       "      <td>Ecology II: Engineering for Sustainability</td>\n",
       "      <td>Undergraduate</td>\n",
       "      <td>This course provides a review of physical, che...</td>\n",
       "      <td>https://ocw.mit.edu/courses/1-020-ecology-ii-e...</td>\n",
       "      <td>Civil and Environmental Engineering</td>\n",
       "    </tr>\n",
       "    <tr>\n",
       "      <th>2</th>\n",
       "      <td>Transport Processes in the Environment</td>\n",
       "      <td>Undergraduate</td>\n",
       "      <td>This class serves as an introduction to mass t...</td>\n",
       "      <td>https://ocw.mit.edu/courses/1-061-transport-pr...</td>\n",
       "      <td>Civil and Environmental Engineering</td>\n",
       "    </tr>\n",
       "  </tbody>\n",
       "</table>\n",
       "</div>"
      ],
      "text/plain": [
       "                                        Title      Difficult  \\\n",
       "0                 Ecology I: The Earth System  Undergraduate   \n",
       "1  Ecology II: Engineering for Sustainability  Undergraduate   \n",
       "2      Transport Processes in the Environment  Undergraduate   \n",
       "\n",
       "                                         Description  \\\n",
       "0  We will cover fundamentals of ecology, conside...   \n",
       "1  This course provides a review of physical, che...   \n",
       "2  This class serves as an introduction to mass t...   \n",
       "\n",
       "                                                Link  \\\n",
       "0  https://ocw.mit.edu/courses/1-018j-ecology-i-t...   \n",
       "1  https://ocw.mit.edu/courses/1-020-ecology-ii-e...   \n",
       "2  https://ocw.mit.edu/courses/1-061-transport-pr...   \n",
       "\n",
       "                           Departments  \n",
       "0  Civil and Environmental Engineering  \n",
       "1  Civil and Environmental Engineering  \n",
       "2  Civil and Environmental Engineering  "
      ]
     },
     "execution_count": 14,
     "metadata": {},
     "output_type": "execute_result"
    }
   ],
   "source": [
    "compelte_df.head(3)"
   ]
  },
  {
   "cell_type": "markdown",
   "metadata": {},
   "source": [
    "## Extracting Course Topics"
   ]
  },
  {
   "cell_type": "code",
   "execution_count": null,
   "metadata": {},
   "outputs": [],
   "source": [
    "def extract_course_topics(url):\n",
    "    response = requests.get(url=url)\n",
    "    soup = BeautifulSoup(response.content, 'html.parser')\n",
    "\n",
    "    topics = []\n",
    "    \n",
    "    try:\n",
    "        topic_element = soup.find_all('span', class_ = \"topic-text-wrapper\")\n",
    "        for topic in topic_element:\n",
    "\n",
    "            course_topic = topic.find('a', class_ = \"text-black course-info-topic strip-link-offline\").text.strip()\n",
    "            topics.append(course_topic)\n",
    "    except:\n",
    "        topics.append(np.nan)\n",
    "        print(f\"No course topic elements found for URL: {url}\")\n",
    "        \n",
    "    return topics\n",
    "\n",
    "def extract_topic_from_multiple_links(urls):\n",
    "    all_course_topics = []\n",
    "    for url in urls:\n",
    "        course_topics = extract_course_topics(url)\n",
    "        all_course_topics.append(course_topics)\n",
    "    return all_course_topics"
   ]
  },
  {
   "cell_type": "code",
   "execution_count": 16,
   "metadata": {},
   "outputs": [
    {
     "name": "stdout",
     "output_type": "stream",
     "text": [
      "Topics for URL https://ocw.mit.edu/courses/1-018j-ecology-i-the-earth-system-fall-2009/: ['Science', 'Biology', 'Ecology', 'Earth Science', 'Science', 'Biology', 'Ecology', 'Earth Science']\n",
      "Topics for URL https://ocw.mit.edu/courses/1-020-ecology-ii-engineering-for-sustainability-spring-2008/: ['Engineering', 'Civil Engineering', 'Science', 'Biology', 'Ecology', 'Earth Science', 'Environmental Science', 'Sustainability', 'Engineering', 'Civil Engineering', 'Science', 'Biology', 'Ecology', 'Earth Science', 'Environmental Science', 'Sustainability']\n",
      "Topics for URL https://ocw.mit.edu/courses/1-061-transport-processes-in-the-environment-fall-2008/: ['Engineering', 'Chemical Engineering', 'Transport Processes', 'Environmental Engineering', 'Aquatic Sciences and Water Quality Control', 'Hydrology and Water Resource Systems', 'Engineering', 'Chemical Engineering', 'Transport Processes', 'Environmental Engineering', 'Aquatic Sciences and Water Quality Control', 'Hydrology and Water Resource Systems']\n",
      "Topics for URL https://ocw.mit.edu/courses/1-63-advanced-fluid-dynamics-of-the-environment-fall-2002/: ['Engineering', 'Environmental Engineering', 'Hydrodynamics and Coastal Engineering', 'Mechanical Engineering', 'Fluid Mechanics', 'Ocean Engineering', 'Hydrodynamics', 'Engineering', 'Environmental Engineering', 'Hydrodynamics and Coastal Engineering', 'Mechanical Engineering', 'Fluid Mechanics', 'Ocean Engineering', 'Hydrodynamics']\n",
      "Topics for URL https://ocw.mit.edu/courses/1-74-land-water-food-and-climate-fall-2020/: ['Energy', 'Climate', 'Renewables', 'Science', 'Earth Science', 'Climate Studies', 'Environmental Science', 'Sustainability', 'Energy', 'Climate', 'Renewables', 'Science', 'Earth Science', 'Climate Studies', 'Environmental Science', 'Sustainability']\n",
      "Topics for URL https://ocw.mit.edu/courses/1-84j-atmospheric-chemistry-fall-2013/: ['Energy', 'Climate', 'Science', 'Earth Science', 'Atmospheric Science', 'Energy', 'Climate', 'Science', 'Earth Science', 'Atmospheric Science']\n",
      "Topics for URL https://ocw.mit.edu/courses/5-60-thermodynamics-kinetics-spring-2008/: ['Science', 'Chemistry', 'Physical Chemistry', 'Physics', 'Classical Mechanics', 'Thermodynamics', 'Science', 'Chemistry', 'Physical Chemistry', 'Physics', 'Classical Mechanics', 'Thermodynamics']\n",
      "Topics for URL https://ocw.mit.edu/courses/8-21-the-physics-of-energy-fall-2009/: ['Energy', 'Buildings', 'Climate', 'Combustion', 'Electricity', 'Fossil Fuels', 'Fuel Cells', 'Hydrogen and Alternatives', 'Nuclear', 'Renewables', 'Technology', 'Science', 'Physics', 'Energy', 'Buildings', 'Climate', 'Combustion', 'Electricity', 'Fossil Fuels', 'Fuel Cells', 'Hydrogen and Alternatives', 'Nuclear', 'Renewables', 'Technology', 'Science', 'Physics']\n",
      "Topics for URL https://ocw.mit.edu/courses/12-000-solving-complex-problems-fall-2009/: ['Engineering', 'Environmental Engineering', 'Environmental Management', 'Science', 'Earth Science', 'Atmospheric Science', 'Environmental Science', 'Social Science', 'Public Administration', 'Environmental Policy', 'Engineering', 'Environmental Engineering', 'Environmental Management', 'Science', 'Earth Science', 'Atmospheric Science', 'Environmental Science', 'Social Science', 'Public Administration', 'Environmental Policy']\n",
      "Topics for URL https://ocw.mit.edu/courses/12-001-introduction-to-geology-fall-2013/: ['Science', 'Earth Science', 'Geology', 'Science', 'Earth Science', 'Geology']\n",
      "Topics for URL https://ocw.mit.edu/courses/12-002-physics-and-chemistry-of-the-terrestrial-planets-fall-2008/: ['Science', 'Earth Science', 'Geophysics', 'Planetary Science', 'Science', 'Earth Science', 'Geophysics', 'Planetary Science']\n",
      "Topics for URL https://ocw.mit.edu/courses/12-003-atmosphere-ocean-and-climate-dynamics-fall-2008/: ['Engineering', 'Ocean Engineering', 'Hydrodynamics', 'Science', 'Earth Science', 'Atmospheric Science', 'Climate Studies', 'Environmental Science', 'Geophysics', 'Oceanography', 'Engineering', 'Ocean Engineering', 'Hydrodynamics', 'Science', 'Earth Science', 'Atmospheric Science', 'Climate Studies', 'Environmental Science', 'Geophysics', 'Oceanography']\n",
      "Topics for URL https://ocw.mit.edu/courses/12-007-geobiology-spring-2013/: ['Science', 'Earth Science', 'Geobiology', 'Science', 'Earth Science', 'Geobiology']\n",
      "Topics for URL https://ocw.mit.edu/courses/12-086-modeling-environmental-complexity-fall-2014/: ['Engineering', 'Systems Engineering', 'Computational Modeling and Simulation', 'Science', 'Earth Science', 'Environmental Science', 'Engineering', 'Systems Engineering', 'Computational Modeling and Simulation', 'Science', 'Earth Science', 'Environmental Science']\n",
      "Topics for URL https://ocw.mit.edu/courses/12-090-the-environment-of-the-earths-surface-spring-2007/: ['Engineering', 'Environmental Engineering', 'Hydrology and Water Resource Systems', 'Science', 'Earth Science', 'Environmental Science', 'Geology', 'Geophysics', 'Planetary Science', 'Engineering', 'Environmental Engineering', 'Hydrology and Water Resource Systems', 'Science', 'Earth Science', 'Environmental Science', 'Geology', 'Geophysics', 'Planetary Science']\n",
      "Topics for URL https://ocw.mit.edu/courses/12-103-science-and-policy-of-natural-hazards-spring-2010/: ['Science', 'Earth Science', 'Social Science', 'Public Administration', 'Environmental Policy', 'Science and Technology Policy', 'Science', 'Earth Science', 'Social Science', 'Public Administration', 'Environmental Policy', 'Science and Technology Policy']\n",
      "Topics for URL https://ocw.mit.edu/courses/12-307-weather-and-climate-laboratory-spring-2009/: ['Science', 'Earth Science', 'Atmospheric Science', 'Climate Studies', 'Oceanography', 'Science', 'Earth Science', 'Atmospheric Science', 'Climate Studies', 'Oceanography']\n",
      "Topics for URL https://ocw.mit.edu/courses/12-333-atmospheric-and-ocean-circulations-spring-2004/: ['Science', 'Earth Science', 'Atmospheric Science', 'Climate Studies', 'Geophysics', 'Oceanography', 'Science', 'Earth Science', 'Atmospheric Science', 'Climate Studies', 'Geophysics', 'Oceanography']\n",
      "Topics for URL https://ocw.mit.edu/courses/12-335-experimental-atmospheric-chemistry-fall-2014/: ['Science', 'Chemistry', 'Earth Science', 'Atmospheric Science', 'Science', 'Chemistry', 'Earth Science', 'Atmospheric Science']\n",
      "Topics for URL https://ocw.mit.edu/courses/12-340-global-warming-science-spring-2012/: ['Energy', 'Climate', 'Science', 'Earth Science', 'Atmospheric Science', 'Climate Studies', 'Environmental Science', 'Energy', 'Climate', 'Science', 'Earth Science', 'Atmospheric Science', 'Climate Studies', 'Environmental Science']\n",
      "Topics for URL https://ocw.mit.edu/courses/12-740-paleoceanography-spring-2008/: ['Science', 'Earth Science', 'Climate Studies', 'Geochemistry', 'Geology', 'Oceanography', 'Science', 'Earth Science', 'Climate Studies', 'Geochemistry', 'Geology', 'Oceanography']\n",
      "Topics for URL https://ocw.mit.edu/courses/ec-719-d-lab-water-climate-change-and-health-spring-2019/: ['Health and Medicine', 'Public Health', 'Science', 'Earth Science', 'Climate Studies', 'Environmental Science', 'Sustainability', 'Health and Medicine', 'Public Health', 'Science', 'Earth Science', 'Climate Studies', 'Environmental Science', 'Sustainability']\n",
      "Topics for URL https://ocw.mit.edu/courses/20-104j-chemicals-in-the-environment-toxicology-and-public-health-be-104j-spring-2005/: ['Engineering', 'Biological Engineering', 'Biostatistics', 'Health and Medicine', 'Pharmacology and Toxicology', 'Public Health', 'Science', 'Earth Science', 'Environmental Science', 'Engineering', 'Biological Engineering', 'Biostatistics', 'Health and Medicine', 'Pharmacology and Toxicology', 'Public Health', 'Science', 'Earth Science', 'Environmental Science']\n",
      "Topics for URL https://ocw.mit.edu/courses/res-env-003-earthdnas-climate-101-fall-2019/: ['Science', 'Earth Science', 'Climate Studies', 'Environmental Science', 'Science', 'Earth Science', 'Climate Studies', 'Environmental Science']\n",
      "Topics for URL https://ocw.mit.edu/courses/res-env-005-climate-science-risk-solutions-a-climate-primer-fall-2020/: ['Energy', 'Climate', 'Technology', 'Science', 'Earth Science', 'Climate Studies', 'Sustainability', 'Energy', 'Climate', 'Technology', 'Science', 'Earth Science', 'Climate Studies', 'Sustainability']\n",
      "Topics for URL https://ocw.mit.edu/courses/1-72-groundwater-hydrology-fall-2005/: ['Engineering', 'Environmental Engineering', 'Hydrology and Water Resource Systems', 'Science', 'Earth Science', 'Geology', 'Engineering', 'Environmental Engineering', 'Hydrology and Water Resource Systems', 'Science', 'Earth Science', 'Geology']\n",
      "Topics for URL https://ocw.mit.edu/courses/12-009j-theoretical-environmental-analysis-spring-2015/: ['Science', 'Biology', 'Ecology', 'Earth Science', 'Atmospheric Science', 'Climate Studies', 'Science', 'Biology', 'Ecology', 'Earth Science', 'Atmospheric Science', 'Climate Studies']\n",
      "Topics for URL https://ocw.mit.edu/courses/12-842-climate-physics-and-chemistry-fall-2008/: ['Science', 'Earth Science', 'Atmospheric Science', 'Climate Studies', 'Geochemistry', 'Geophysics', 'Planetary Science', 'Science', 'Earth Science', 'Atmospheric Science', 'Climate Studies', 'Geochemistry', 'Geophysics', 'Planetary Science']\n"
     ]
    }
   ],
   "source": [
    "all_course_topics = extract_topic_from_multiple_links(compelte_df['Link'].values)\n",
    "for i, url in enumerate(compelte_df['Link'].values):\n",
    "    print(f\"Topics for URL {url}: {all_course_topics[i]}\")"
   ]
  },
  {
   "cell_type": "markdown",
   "metadata": {},
   "source": [
    "## Final Data for Environment & Sustainability: Earth Systems and Climate Science"
   ]
  },
  {
   "cell_type": "code",
   "execution_count": 37,
   "metadata": {},
   "outputs": [],
   "source": [
    "## Final Data for Environment & Sustainability: Earth Systems and Climate Science\n",
    "compelte_df['Topics'] = all_course_topics"
   ]
  },
  {
   "cell_type": "code",
   "execution_count": 18,
   "metadata": {},
   "outputs": [],
   "source": [
    "compelte_df.to_csv(\"Environment & Sustainability: Earth Systems and Climate Science.csv\", index=False)"
   ]
  },
  {
   "cell_type": "markdown",
   "metadata": {},
   "source": [
    "### <center><b> Web Scraping the Data (Environment & Sustainability: Engineering)"
   ]
  },
  {
   "cell_type": "markdown",
   "metadata": {},
   "source": [
    "## Extracting Course Title, Course Level, Course Description"
   ]
  },
  {
   "cell_type": "code",
   "execution_count": 20,
   "metadata": {},
   "outputs": [
    {
     "name": "stdout",
     "output_type": "stream",
     "text": [
      "Error scraping data for: https://ocw.mit.edu/courses/4-406-ecologies-of-construction-spring-2007/\n"
     ]
    }
   ],
   "source": [
    "driver = webdriver.Chrome() \n",
    "\n",
    "# Load the webpage\n",
    "url = \"https://ocw.mit.edu/course-lists/environment-engineering-for-sustainability-5/\" \n",
    "driver.get(url)\n",
    "\n",
    "# Find all course cards\n",
    "course_cards = driver.find_elements(By.CSS_SELECTOR, \".card.course-collection-row.mb-1\")\n",
    "courses_data = []\n",
    "for card in course_cards:\n",
    "    # Extract information from each card\n",
    "    course_title = card.find_element(By.CSS_SELECTOR, \".course-title h4\").text\n",
    "    course_number = card.find_element(By.CSS_SELECTOR, \".coursenum\").text\n",
    "    course_level = card.find_element(By.CSS_SELECTOR, \".level\").text\n",
    "    course_link = card.find_element(By.CSS_SELECTOR, \"a\").get_attribute(\"href\")\n",
    "    \n",
    "    driver.execute_script(f\"window.open('{course_link}', '_blank');\")\n",
    "    driver.switch_to.window(driver.window_handles[-1])\n",
    "\n",
    "    try:\n",
    "        show_more_button = driver.find_element(By.ID, \"expand-description\")\n",
    "        if show_more_button:\n",
    "            show_more_button.click()\n",
    "            WebDriverWait(driver, 10).until(\n",
    "                EC.presence_of_element_located((By.CSS_SELECTOR, \"#expanded-description\"))\n",
    "            )\n",
    "            course_description = driver.find_element(By.CSS_SELECTOR, \"#expanded-description\").text\n",
    "            courses_data.append({\n",
    "                'Title':course_title, \n",
    "                'Difficult':course_level, \n",
    "                'Description':course_description,\n",
    "                'Link': course_link\n",
    "            })\n",
    "        else:\n",
    "            course_description = driver.find_element(By.ID, \"full-description\").text\n",
    "            \n",
    "            courses_data.append({'Description': np.nan})\n",
    "        \n",
    "        # print(f\"Course Title: {course_title}\")\n",
    "        # print(f\"Course Description: {course_description}\")\n",
    "    except:\n",
    "        print(f\"Error scraping data for: {course_link}\")\n",
    "\n",
    "\n",
    "    driver.close()\n",
    "    driver.switch_to.window(driver.window_handles[0])\n",
    "\n",
    "driver.quit()"
   ]
  },
  {
   "cell_type": "code",
   "execution_count": 21,
   "metadata": {},
   "outputs": [],
   "source": [
    "courses_data_df = pd.DataFrame(courses_data)"
   ]
  },
  {
   "cell_type": "code",
   "execution_count": 23,
   "metadata": {},
   "outputs": [
    {
     "data": {
      "text/html": [
       "<div>\n",
       "<style scoped>\n",
       "    .dataframe tbody tr th:only-of-type {\n",
       "        vertical-align: middle;\n",
       "    }\n",
       "\n",
       "    .dataframe tbody tr th {\n",
       "        vertical-align: top;\n",
       "    }\n",
       "\n",
       "    .dataframe thead th {\n",
       "        text-align: right;\n",
       "    }\n",
       "</style>\n",
       "<table border=\"1\" class=\"dataframe\">\n",
       "  <thead>\n",
       "    <tr style=\"text-align: right;\">\n",
       "      <th></th>\n",
       "      <th>Title</th>\n",
       "      <th>Difficult</th>\n",
       "      <th>Description</th>\n",
       "      <th>Link</th>\n",
       "    </tr>\n",
       "  </thead>\n",
       "  <tbody>\n",
       "    <tr>\n",
       "      <th>0</th>\n",
       "      <td>Introduction to Civil and Environmental Engine...</td>\n",
       "      <td>Undergraduate</td>\n",
       "      <td>In this sophomore design course, you will be c...</td>\n",
       "      <td>https://ocw.mit.edu/courses/1-101-introduction...</td>\n",
       "    </tr>\n",
       "    <tr>\n",
       "      <th>1</th>\n",
       "      <td>Public Transportation Systems</td>\n",
       "      <td>Graduate</td>\n",
       "      <td>This course discusses the evolution and role o...</td>\n",
       "      <td>https://ocw.mit.edu/courses/1-258j-public-tran...</td>\n",
       "    </tr>\n",
       "    <tr>\n",
       "      <th>2</th>\n",
       "      <td>Urban Energy Systems and Policy</td>\n",
       "      <td>Undergraduate, Graduate</td>\n",
       "      <td>This class is about figuring out together what...</td>\n",
       "      <td>https://ocw.mit.edu/courses/11-165j-urban-ener...</td>\n",
       "    </tr>\n",
       "    <tr>\n",
       "      <th>3</th>\n",
       "      <td>Urban Transportation Planning</td>\n",
       "      <td>Graduate</td>\n",
       "      <td>This course examines the policy, politics, pla...</td>\n",
       "      <td>https://ocw.mit.edu/courses/1-252j-urban-trans...</td>\n",
       "    </tr>\n",
       "    <tr>\n",
       "      <th>4</th>\n",
       "      <td>Water Resource Systems</td>\n",
       "      <td>Graduate</td>\n",
       "      <td>This subject is concerned with quantitative me...</td>\n",
       "      <td>https://ocw.mit.edu/courses/1-731-water-resour...</td>\n",
       "    </tr>\n",
       "  </tbody>\n",
       "</table>\n",
       "</div>"
      ],
      "text/plain": [
       "                                               Title                Difficult  \\\n",
       "0  Introduction to Civil and Environmental Engine...            Undergraduate   \n",
       "1                      Public Transportation Systems                 Graduate   \n",
       "2                    Urban Energy Systems and Policy  Undergraduate, Graduate   \n",
       "3                      Urban Transportation Planning                 Graduate   \n",
       "4                             Water Resource Systems                 Graduate   \n",
       "\n",
       "                                         Description  \\\n",
       "0  In this sophomore design course, you will be c...   \n",
       "1  This course discusses the evolution and role o...   \n",
       "2  This class is about figuring out together what...   \n",
       "3  This course examines the policy, politics, pla...   \n",
       "4  This subject is concerned with quantitative me...   \n",
       "\n",
       "                                                Link  \n",
       "0  https://ocw.mit.edu/courses/1-101-introduction...  \n",
       "1  https://ocw.mit.edu/courses/1-258j-public-tran...  \n",
       "2  https://ocw.mit.edu/courses/11-165j-urban-ener...  \n",
       "3  https://ocw.mit.edu/courses/1-252j-urban-trans...  \n",
       "4  https://ocw.mit.edu/courses/1-731-water-resour...  "
      ]
     },
     "execution_count": 23,
     "metadata": {},
     "output_type": "execute_result"
    }
   ],
   "source": [
    "courses_data_df.head()"
   ]
  },
  {
   "cell_type": "markdown",
   "metadata": {},
   "source": [
    "## Extracting Course Title, Course Level, Course Description For Links facing Error"
   ]
  },
  {
   "cell_type": "code",
   "execution_count": 24,
   "metadata": {},
   "outputs": [
    {
     "name": "stdout",
     "output_type": "stream",
     "text": [
      "Error scraping data for: https://ocw.mit.edu/courses/1-101-introduction-to-civil-and-environmental-engineering-design-i-fall-2006/\n",
      "Error scraping data for: https://ocw.mit.edu/courses/1-258j-public-transportation-systems-spring-2017/\n",
      "Error scraping data for: https://ocw.mit.edu/courses/11-165j-urban-energy-systems-and-policy-fall-2022/\n",
      "Error scraping data for: https://ocw.mit.edu/courses/1-252j-urban-transportation-planning-fall-2016/\n",
      "Error scraping data for: https://ocw.mit.edu/courses/1-731-water-resource-systems-fall-2006/\n",
      "Error scraping data for: https://ocw.mit.edu/courses/1-85-water-and-wastewater-treatment-engineering-spring-2006/\n",
      "Error scraping data for: https://ocw.mit.edu/courses/2-00aj-exploring-sea-space-earth-fundamentals-of-engineering-design-spring-2009/\n",
      "Error scraping data for: https://ocw.mit.edu/courses/2-500-desalination-and-water-purification-spring-2009/\n",
      "Error scraping data for: https://ocw.mit.edu/courses/2-60j-fundamentals-of-advanced-energy-conversion-spring-2020/\n",
      "Error scraping data for: https://ocw.mit.edu/courses/3-003-principles-of-engineering-practice-spring-2010/\n",
      "Error scraping data for: https://ocw.mit.edu/courses/3-080-economic-environmental-issues-in-materials-selection-fall-2005/\n",
      "Error scraping data for: https://ocw.mit.edu/courses/4-401-environmental-technologies-in-buildings-fall-2018/\n",
      "Error scraping data for: https://ocw.mit.edu/courses/4-42j-fundamentals-of-energy-in-buildings-fall-2010/\n",
      "Error scraping data for: https://ocw.mit.edu/courses/11-308j-advanced-seminar-urban-nature-and-city-design-fall-2012/\n",
      "Error scraping data for: https://ocw.mit.edu/courses/11-479j-water-and-sanitation-infrastructure-in-developing-countries-spring-2007/\n",
      "Error scraping data for: https://ocw.mit.edu/courses/11-s196-global-freshwater-crisis-spring-2011/\n",
      "Error scraping data for: https://ocw.mit.edu/courses/11-s955-the-sustainability-response-to-covid-19-january-iap-2021/\n",
      "Error scraping data for: https://ocw.mit.edu/courses/12-000-solving-complex-problems-fall-2009/\n",
      "Error scraping data for: https://ocw.mit.edu/courses/15-772j-d-lab-supply-chains-fall-2014/\n",
      "Error scraping data for: https://ocw.mit.edu/courses/22-033-nuclear-systems-design-project-fall-2011/\n",
      "Error scraping data for: https://ocw.mit.edu/courses/22-081j-introduction-to-sustainable-energy-fall-2010/\n",
      "Error scraping data for: https://ocw.mit.edu/courses/ec-701j-d-lab-i-development-fall-2009/\n",
      "Error scraping data for: https://ocw.mit.edu/courses/ec-720j-d-lab-ii-design-spring-2010/\n",
      "Error scraping data for: https://ocw.mit.edu/courses/ec-711-d-lab-energy-spring-2011/\n",
      "Error scraping data for: https://ocw.mit.edu/courses/ec-715-d-lab-water-sanitation-and-hygiene-fall-2019/\n",
      "Error scraping data for: https://ocw.mit.edu/courses/res-env-001-climate-action-hands-on-harnessing-science-with-communities-to-cut-carbon-january-iap-2017/\n"
     ]
    }
   ],
   "source": [
    "driver = webdriver.Chrome() \n",
    "\n",
    "url = \"https://ocw.mit.edu/course-lists/environment-engineering-for-sustainability-5/\"\n",
    "\n",
    "driver.get(url)\n",
    "\n",
    "course_cards = driver.find_elements(By.CSS_SELECTOR, \".card.course-collection-row.mb-1\")\n",
    "courses_data_1 = []\n",
    "for card in course_cards:\n",
    "\n",
    "    \n",
    "    course_title = card.find_element(By.CSS_SELECTOR, \".course-title h4\").text\n",
    "    course_number = card.find_element(By.CSS_SELECTOR, \".coursenum\").text\n",
    "    course_level = card.find_element(By.CSS_SELECTOR, \".level\").text\n",
    "    course_link = card.find_element(By.CSS_SELECTOR, \"a\").get_attribute(\"href\")\n",
    "\n",
    "    driver.execute_script(f\"window.open('{course_link}', '_blank');\")\n",
    "    driver.switch_to.window(driver.window_handles[-1])\n",
    "\n",
    "    try:\n",
    "\n",
    "        course_description = driver.find_element(By.ID, \"full-description\").text\n",
    "        courses_data_1.append({\n",
    "                'Title':course_title, \n",
    "                'Difficult':course_level, \n",
    "                'Description':course_description,\n",
    "                'Link':course_link\n",
    "            })\n",
    "        # print(f\"Course Title: {course_title}\")\n",
    "        # print(f\"Course Description: {course_description}\")\n",
    "    except:\n",
    "        print(f\"Error scraping data for: {course_link}\")\n",
    "    \n",
    "    driver.close()\n",
    "    \n",
    "    driver.switch_to.window(driver.window_handles[0])\n",
    "    \n",
    "driver.quit()"
   ]
  },
  {
   "cell_type": "code",
   "execution_count": 27,
   "metadata": {},
   "outputs": [],
   "source": [
    "courses_data_df_1 = pd.DataFrame(courses_data_1)"
   ]
  },
  {
   "cell_type": "code",
   "execution_count": 28,
   "metadata": {},
   "outputs": [
    {
     "data": {
      "text/html": [
       "<div>\n",
       "<style scoped>\n",
       "    .dataframe tbody tr th:only-of-type {\n",
       "        vertical-align: middle;\n",
       "    }\n",
       "\n",
       "    .dataframe tbody tr th {\n",
       "        vertical-align: top;\n",
       "    }\n",
       "\n",
       "    .dataframe thead th {\n",
       "        text-align: right;\n",
       "    }\n",
       "</style>\n",
       "<table border=\"1\" class=\"dataframe\">\n",
       "  <thead>\n",
       "    <tr style=\"text-align: right;\">\n",
       "      <th></th>\n",
       "      <th>Title</th>\n",
       "      <th>Difficult</th>\n",
       "      <th>Description</th>\n",
       "      <th>Link</th>\n",
       "    </tr>\n",
       "  </thead>\n",
       "  <tbody>\n",
       "    <tr>\n",
       "      <th>0</th>\n",
       "      <td>Ecologies of Construction</td>\n",
       "      <td>Graduate</td>\n",
       "      <td>Ecologies of Construction examines the resourc...</td>\n",
       "      <td>https://ocw.mit.edu/courses/4-406-ecologies-of...</td>\n",
       "    </tr>\n",
       "  </tbody>\n",
       "</table>\n",
       "</div>"
      ],
      "text/plain": [
       "                       Title Difficult  \\\n",
       "0  Ecologies of Construction  Graduate   \n",
       "\n",
       "                                         Description  \\\n",
       "0  Ecologies of Construction examines the resourc...   \n",
       "\n",
       "                                                Link  \n",
       "0  https://ocw.mit.edu/courses/4-406-ecologies-of...  "
      ]
     },
     "execution_count": 28,
     "metadata": {},
     "output_type": "execute_result"
    }
   ],
   "source": [
    "courses_data_df_1"
   ]
  },
  {
   "cell_type": "markdown",
   "metadata": {},
   "source": [
    "## Concatinating both DataFrame consist of Title, Difficult, Description, Link"
   ]
  },
  {
   "cell_type": "code",
   "execution_count": 29,
   "metadata": {},
   "outputs": [
    {
     "data": {
      "text/html": [
       "<div>\n",
       "<style scoped>\n",
       "    .dataframe tbody tr th:only-of-type {\n",
       "        vertical-align: middle;\n",
       "    }\n",
       "\n",
       "    .dataframe tbody tr th {\n",
       "        vertical-align: top;\n",
       "    }\n",
       "\n",
       "    .dataframe thead th {\n",
       "        text-align: right;\n",
       "    }\n",
       "</style>\n",
       "<table border=\"1\" class=\"dataframe\">\n",
       "  <thead>\n",
       "    <tr style=\"text-align: right;\">\n",
       "      <th></th>\n",
       "      <th>Title</th>\n",
       "      <th>Difficult</th>\n",
       "      <th>Description</th>\n",
       "      <th>Link</th>\n",
       "    </tr>\n",
       "  </thead>\n",
       "  <tbody>\n",
       "    <tr>\n",
       "      <th>0</th>\n",
       "      <td>Introduction to Civil and Environmental Engine...</td>\n",
       "      <td>Undergraduate</td>\n",
       "      <td>In this sophomore design course, you will be c...</td>\n",
       "      <td>https://ocw.mit.edu/courses/1-101-introduction...</td>\n",
       "    </tr>\n",
       "    <tr>\n",
       "      <th>1</th>\n",
       "      <td>Public Transportation Systems</td>\n",
       "      <td>Graduate</td>\n",
       "      <td>This course discusses the evolution and role o...</td>\n",
       "      <td>https://ocw.mit.edu/courses/1-258j-public-tran...</td>\n",
       "    </tr>\n",
       "    <tr>\n",
       "      <th>2</th>\n",
       "      <td>Urban Energy Systems and Policy</td>\n",
       "      <td>Undergraduate, Graduate</td>\n",
       "      <td>This class is about figuring out together what...</td>\n",
       "      <td>https://ocw.mit.edu/courses/11-165j-urban-ener...</td>\n",
       "    </tr>\n",
       "    <tr>\n",
       "      <th>3</th>\n",
       "      <td>Urban Transportation Planning</td>\n",
       "      <td>Graduate</td>\n",
       "      <td>This course examines the policy, politics, pla...</td>\n",
       "      <td>https://ocw.mit.edu/courses/1-252j-urban-trans...</td>\n",
       "    </tr>\n",
       "    <tr>\n",
       "      <th>4</th>\n",
       "      <td>Water Resource Systems</td>\n",
       "      <td>Graduate</td>\n",
       "      <td>This subject is concerned with quantitative me...</td>\n",
       "      <td>https://ocw.mit.edu/courses/1-731-water-resour...</td>\n",
       "    </tr>\n",
       "  </tbody>\n",
       "</table>\n",
       "</div>"
      ],
      "text/plain": [
       "                                               Title                Difficult  \\\n",
       "0  Introduction to Civil and Environmental Engine...            Undergraduate   \n",
       "1                      Public Transportation Systems                 Graduate   \n",
       "2                    Urban Energy Systems and Policy  Undergraduate, Graduate   \n",
       "3                      Urban Transportation Planning                 Graduate   \n",
       "4                             Water Resource Systems                 Graduate   \n",
       "\n",
       "                                         Description  \\\n",
       "0  In this sophomore design course, you will be c...   \n",
       "1  This course discusses the evolution and role o...   \n",
       "2  This class is about figuring out together what...   \n",
       "3  This course examines the policy, politics, pla...   \n",
       "4  This subject is concerned with quantitative me...   \n",
       "\n",
       "                                                Link  \n",
       "0  https://ocw.mit.edu/courses/1-101-introduction...  \n",
       "1  https://ocw.mit.edu/courses/1-258j-public-tran...  \n",
       "2  https://ocw.mit.edu/courses/11-165j-urban-ener...  \n",
       "3  https://ocw.mit.edu/courses/1-252j-urban-trans...  \n",
       "4  https://ocw.mit.edu/courses/1-731-water-resour...  "
      ]
     },
     "execution_count": 29,
     "metadata": {},
     "output_type": "execute_result"
    }
   ],
   "source": [
    "compelte_df = pd.concat([courses_data_df, courses_data_df_1])\n",
    "compelte_df.head()"
   ]
  },
  {
   "cell_type": "code",
   "execution_count": 30,
   "metadata": {},
   "outputs": [
    {
     "data": {
      "text/plain": [
       "(27, 4)"
      ]
     },
     "execution_count": 30,
     "metadata": {},
     "output_type": "execute_result"
    }
   ],
   "source": [
    "compelte_df.shape"
   ]
  },
  {
   "cell_type": "markdown",
   "metadata": {},
   "source": [
    "## Extracting Course Department"
   ]
  },
  {
   "cell_type": "code",
   "execution_count": 31,
   "metadata": {},
   "outputs": [
    {
     "name": "stdout",
     "output_type": "stream",
     "text": [
      "Department for https://ocw.mit.edu/courses/1-101-introduction-to-civil-and-environmental-engineering-design-i-fall-2006/: ['Civil and Environmental Engineering']\n",
      "Department for https://ocw.mit.edu/courses/1-258j-public-transportation-systems-spring-2017/: ['Civil and Environmental Engineering', 'Civil and Environmental Engineering']\n",
      "Department for https://ocw.mit.edu/courses/11-165j-urban-energy-systems-and-policy-fall-2022/: ['Civil and Environmental Engineering', 'Civil and Environmental Engineering', 'Urban Studies and Planning']\n",
      "Department for https://ocw.mit.edu/courses/1-252j-urban-transportation-planning-fall-2016/: ['Civil and Environmental Engineering', 'Civil and Environmental Engineering', 'Urban Studies and Planning', 'Civil and Environmental Engineering']\n",
      "Department for https://ocw.mit.edu/courses/1-731-water-resource-systems-fall-2006/: ['Civil and Environmental Engineering', 'Civil and Environmental Engineering', 'Urban Studies and Planning', 'Civil and Environmental Engineering', 'Civil and Environmental Engineering']\n",
      "Department for https://ocw.mit.edu/courses/1-85-water-and-wastewater-treatment-engineering-spring-2006/: ['Civil and Environmental Engineering', 'Civil and Environmental Engineering', 'Urban Studies and Planning', 'Civil and Environmental Engineering', 'Civil and Environmental Engineering', 'Civil and Environmental Engineering']\n",
      "Department for https://ocw.mit.edu/courses/2-00aj-exploring-sea-space-earth-fundamentals-of-engineering-design-spring-2009/: ['Civil and Environmental Engineering', 'Civil and Environmental Engineering', 'Urban Studies and Planning', 'Civil and Environmental Engineering', 'Civil and Environmental Engineering', 'Civil and Environmental Engineering', 'Mechanical Engineering']\n",
      "Department for https://ocw.mit.edu/courses/2-500-desalination-and-water-purification-spring-2009/: ['Civil and Environmental Engineering', 'Civil and Environmental Engineering', 'Urban Studies and Planning', 'Civil and Environmental Engineering', 'Civil and Environmental Engineering', 'Civil and Environmental Engineering', 'Mechanical Engineering', 'Mechanical Engineering']\n",
      "Department for https://ocw.mit.edu/courses/2-60j-fundamentals-of-advanced-energy-conversion-spring-2020/: ['Civil and Environmental Engineering', 'Civil and Environmental Engineering', 'Urban Studies and Planning', 'Civil and Environmental Engineering', 'Civil and Environmental Engineering', 'Civil and Environmental Engineering', 'Mechanical Engineering', 'Mechanical Engineering', 'Mechanical Engineering']\n",
      "Department for https://ocw.mit.edu/courses/3-003-principles-of-engineering-practice-spring-2010/: ['Civil and Environmental Engineering', 'Civil and Environmental Engineering', 'Urban Studies and Planning', 'Civil and Environmental Engineering', 'Civil and Environmental Engineering', 'Civil and Environmental Engineering', 'Mechanical Engineering', 'Mechanical Engineering', 'Mechanical Engineering', 'Materials Science and Engineering']\n",
      "Department for https://ocw.mit.edu/courses/3-080-economic-environmental-issues-in-materials-selection-fall-2005/: ['Civil and Environmental Engineering', 'Civil and Environmental Engineering', 'Urban Studies and Planning', 'Civil and Environmental Engineering', 'Civil and Environmental Engineering', 'Civil and Environmental Engineering', 'Mechanical Engineering', 'Mechanical Engineering', 'Mechanical Engineering', 'Materials Science and Engineering', 'Materials Science and Engineering']\n",
      "Department for https://ocw.mit.edu/courses/4-401-environmental-technologies-in-buildings-fall-2018/: ['Civil and Environmental Engineering', 'Civil and Environmental Engineering', 'Urban Studies and Planning', 'Civil and Environmental Engineering', 'Civil and Environmental Engineering', 'Civil and Environmental Engineering', 'Mechanical Engineering', 'Mechanical Engineering', 'Mechanical Engineering', 'Materials Science and Engineering', 'Materials Science and Engineering', 'Architecture']\n",
      "Department for https://ocw.mit.edu/courses/4-42j-fundamentals-of-energy-in-buildings-fall-2010/: ['Civil and Environmental Engineering', 'Civil and Environmental Engineering', 'Urban Studies and Planning', 'Civil and Environmental Engineering', 'Civil and Environmental Engineering', 'Civil and Environmental Engineering', 'Mechanical Engineering', 'Mechanical Engineering', 'Mechanical Engineering', 'Materials Science and Engineering', 'Materials Science and Engineering', 'Architecture', 'Architecture']\n",
      "Department for https://ocw.mit.edu/courses/11-308j-advanced-seminar-urban-nature-and-city-design-fall-2012/: ['Civil and Environmental Engineering', 'Civil and Environmental Engineering', 'Urban Studies and Planning', 'Civil and Environmental Engineering', 'Civil and Environmental Engineering', 'Civil and Environmental Engineering', 'Mechanical Engineering', 'Mechanical Engineering', 'Mechanical Engineering', 'Materials Science and Engineering', 'Materials Science and Engineering', 'Architecture', 'Architecture', 'Urban Studies and Planning']\n",
      "Department for https://ocw.mit.edu/courses/11-479j-water-and-sanitation-infrastructure-in-developing-countries-spring-2007/: ['Civil and Environmental Engineering', 'Civil and Environmental Engineering', 'Urban Studies and Planning', 'Civil and Environmental Engineering', 'Civil and Environmental Engineering', 'Civil and Environmental Engineering', 'Mechanical Engineering', 'Mechanical Engineering', 'Mechanical Engineering', 'Materials Science and Engineering', 'Materials Science and Engineering', 'Architecture', 'Architecture', 'Urban Studies and Planning', 'Urban Studies and Planning']\n",
      "Department for https://ocw.mit.edu/courses/11-s196-global-freshwater-crisis-spring-2011/: ['Civil and Environmental Engineering', 'Civil and Environmental Engineering', 'Urban Studies and Planning', 'Civil and Environmental Engineering', 'Civil and Environmental Engineering', 'Civil and Environmental Engineering', 'Mechanical Engineering', 'Mechanical Engineering', 'Mechanical Engineering', 'Materials Science and Engineering', 'Materials Science and Engineering', 'Architecture', 'Architecture', 'Urban Studies and Planning', 'Urban Studies and Planning', 'Urban Studies and Planning']\n",
      "Department for https://ocw.mit.edu/courses/11-s955-the-sustainability-response-to-covid-19-january-iap-2021/: ['Civil and Environmental Engineering', 'Civil and Environmental Engineering', 'Urban Studies and Planning', 'Civil and Environmental Engineering', 'Civil and Environmental Engineering', 'Civil and Environmental Engineering', 'Mechanical Engineering', 'Mechanical Engineering', 'Mechanical Engineering', 'Materials Science and Engineering', 'Materials Science and Engineering', 'Architecture', 'Architecture', 'Urban Studies and Planning', 'Urban Studies and Planning', 'Urban Studies and Planning', 'Urban Studies and Planning']\n",
      "Department for https://ocw.mit.edu/courses/12-000-solving-complex-problems-fall-2009/: ['Civil and Environmental Engineering', 'Civil and Environmental Engineering', 'Urban Studies and Planning', 'Civil and Environmental Engineering', 'Civil and Environmental Engineering', 'Civil and Environmental Engineering', 'Mechanical Engineering', 'Mechanical Engineering', 'Mechanical Engineering', 'Materials Science and Engineering', 'Materials Science and Engineering', 'Architecture', 'Architecture', 'Urban Studies and Planning', 'Urban Studies and Planning', 'Urban Studies and Planning', 'Urban Studies and Planning', 'Earth, Atmospheric, and Planetary Sciences']\n",
      "Department for https://ocw.mit.edu/courses/15-772j-d-lab-supply-chains-fall-2014/: ['Civil and Environmental Engineering', 'Civil and Environmental Engineering', 'Urban Studies and Planning', 'Civil and Environmental Engineering', 'Civil and Environmental Engineering', 'Civil and Environmental Engineering', 'Mechanical Engineering', 'Mechanical Engineering', 'Mechanical Engineering', 'Materials Science and Engineering', 'Materials Science and Engineering', 'Architecture', 'Architecture', 'Urban Studies and Planning', 'Urban Studies and Planning', 'Urban Studies and Planning', 'Urban Studies and Planning', 'Earth, Atmospheric, and Planetary Sciences', 'Sloan School of Management']\n",
      "Department for https://ocw.mit.edu/courses/22-033-nuclear-systems-design-project-fall-2011/: ['Civil and Environmental Engineering', 'Civil and Environmental Engineering', 'Urban Studies and Planning', 'Civil and Environmental Engineering', 'Civil and Environmental Engineering', 'Civil and Environmental Engineering', 'Mechanical Engineering', 'Mechanical Engineering', 'Mechanical Engineering', 'Materials Science and Engineering', 'Materials Science and Engineering', 'Architecture', 'Architecture', 'Urban Studies and Planning', 'Urban Studies and Planning', 'Urban Studies and Planning', 'Urban Studies and Planning', 'Earth, Atmospheric, and Planetary Sciences', 'Sloan School of Management', 'Nuclear Science and Engineering']\n",
      "Department for https://ocw.mit.edu/courses/22-081j-introduction-to-sustainable-energy-fall-2010/: ['Civil and Environmental Engineering', 'Civil and Environmental Engineering', 'Urban Studies and Planning', 'Civil and Environmental Engineering', 'Civil and Environmental Engineering', 'Civil and Environmental Engineering', 'Mechanical Engineering', 'Mechanical Engineering', 'Mechanical Engineering', 'Materials Science and Engineering', 'Materials Science and Engineering', 'Architecture', 'Architecture', 'Urban Studies and Planning', 'Urban Studies and Planning', 'Urban Studies and Planning', 'Urban Studies and Planning', 'Earth, Atmospheric, and Planetary Sciences', 'Sloan School of Management', 'Nuclear Science and Engineering', 'Nuclear Science and Engineering']\n",
      "Department for https://ocw.mit.edu/courses/ec-701j-d-lab-i-development-fall-2009/: ['Civil and Environmental Engineering', 'Civil and Environmental Engineering', 'Urban Studies and Planning', 'Civil and Environmental Engineering', 'Civil and Environmental Engineering', 'Civil and Environmental Engineering', 'Mechanical Engineering', 'Mechanical Engineering', 'Mechanical Engineering', 'Materials Science and Engineering', 'Materials Science and Engineering', 'Architecture', 'Architecture', 'Urban Studies and Planning', 'Urban Studies and Planning', 'Urban Studies and Planning', 'Urban Studies and Planning', 'Earth, Atmospheric, and Planetary Sciences', 'Sloan School of Management', 'Nuclear Science and Engineering', 'Nuclear Science and Engineering', 'Edgerton Center']\n",
      "Department for https://ocw.mit.edu/courses/ec-720j-d-lab-ii-design-spring-2010/: ['Civil and Environmental Engineering', 'Civil and Environmental Engineering', 'Urban Studies and Planning', 'Civil and Environmental Engineering', 'Civil and Environmental Engineering', 'Civil and Environmental Engineering', 'Mechanical Engineering', 'Mechanical Engineering', 'Mechanical Engineering', 'Materials Science and Engineering', 'Materials Science and Engineering', 'Architecture', 'Architecture', 'Urban Studies and Planning', 'Urban Studies and Planning', 'Urban Studies and Planning', 'Urban Studies and Planning', 'Earth, Atmospheric, and Planetary Sciences', 'Sloan School of Management', 'Nuclear Science and Engineering', 'Nuclear Science and Engineering', 'Edgerton Center', 'Edgerton Center']\n",
      "Department for https://ocw.mit.edu/courses/ec-711-d-lab-energy-spring-2011/: ['Civil and Environmental Engineering', 'Civil and Environmental Engineering', 'Urban Studies and Planning', 'Civil and Environmental Engineering', 'Civil and Environmental Engineering', 'Civil and Environmental Engineering', 'Mechanical Engineering', 'Mechanical Engineering', 'Mechanical Engineering', 'Materials Science and Engineering', 'Materials Science and Engineering', 'Architecture', 'Architecture', 'Urban Studies and Planning', 'Urban Studies and Planning', 'Urban Studies and Planning', 'Urban Studies and Planning', 'Earth, Atmospheric, and Planetary Sciences', 'Sloan School of Management', 'Nuclear Science and Engineering', 'Nuclear Science and Engineering', 'Edgerton Center', 'Edgerton Center', 'Edgerton Center']\n",
      "Department for https://ocw.mit.edu/courses/ec-715-d-lab-water-sanitation-and-hygiene-fall-2019/: ['Civil and Environmental Engineering', 'Civil and Environmental Engineering', 'Urban Studies and Planning', 'Civil and Environmental Engineering', 'Civil and Environmental Engineering', 'Civil and Environmental Engineering', 'Mechanical Engineering', 'Mechanical Engineering', 'Mechanical Engineering', 'Materials Science and Engineering', 'Materials Science and Engineering', 'Architecture', 'Architecture', 'Urban Studies and Planning', 'Urban Studies and Planning', 'Urban Studies and Planning', 'Urban Studies and Planning', 'Earth, Atmospheric, and Planetary Sciences', 'Sloan School of Management', 'Nuclear Science and Engineering', 'Nuclear Science and Engineering', 'Edgerton Center', 'Edgerton Center', 'Edgerton Center', 'Edgerton Center']\n",
      "Department for https://ocw.mit.edu/courses/res-env-001-climate-action-hands-on-harnessing-science-with-communities-to-cut-carbon-january-iap-2017/: ['Civil and Environmental Engineering', 'Civil and Environmental Engineering', 'Urban Studies and Planning', 'Civil and Environmental Engineering', 'Civil and Environmental Engineering', 'Civil and Environmental Engineering', 'Mechanical Engineering', 'Mechanical Engineering', 'Mechanical Engineering', 'Materials Science and Engineering', 'Materials Science and Engineering', 'Architecture', 'Architecture', 'Urban Studies and Planning', 'Urban Studies and Planning', 'Urban Studies and Planning', 'Urban Studies and Planning', 'Earth, Atmospheric, and Planetary Sciences', 'Sloan School of Management', 'Nuclear Science and Engineering', 'Nuclear Science and Engineering', 'Edgerton Center', 'Edgerton Center', 'Edgerton Center', 'Edgerton Center', nan]\n",
      "Department for https://ocw.mit.edu/courses/4-406-ecologies-of-construction-spring-2007/: ['Civil and Environmental Engineering', 'Civil and Environmental Engineering', 'Urban Studies and Planning', 'Civil and Environmental Engineering', 'Civil and Environmental Engineering', 'Civil and Environmental Engineering', 'Mechanical Engineering', 'Mechanical Engineering', 'Mechanical Engineering', 'Materials Science and Engineering', 'Materials Science and Engineering', 'Architecture', 'Architecture', 'Urban Studies and Planning', 'Urban Studies and Planning', 'Urban Studies and Planning', 'Urban Studies and Planning', 'Earth, Atmospheric, and Planetary Sciences', 'Sloan School of Management', 'Nuclear Science and Engineering', 'Nuclear Science and Engineering', 'Edgerton Center', 'Edgerton Center', 'Edgerton Center', 'Edgerton Center', nan, 'Architecture']\n"
     ]
    }
   ],
   "source": [
    "def extract_department_name(url):\n",
    "    \n",
    "    response = requests.get(url)\n",
    "    soup = BeautifulSoup(response.content, 'html.parser')\n",
    "\n",
    "    try:\n",
    "        department_element = soup.find('a', class_='course-info-department')\n",
    "        department_name = department_element.text.strip()\n",
    "        dep_names.append(department_name)\n",
    "    except AttributeError:\n",
    "        dep_names.append(np.nan)\n",
    "\n",
    "    return dep_names\n",
    "\n",
    "course_urls = compelte_df['Link'].values\n",
    "dep_names = []\n",
    "for url in course_urls:\n",
    "    department_names = extract_department_name(url)\n",
    "    print(f\"Department for {url}: {department_names}\")"
   ]
  },
  {
   "cell_type": "code",
   "execution_count": 32,
   "metadata": {},
   "outputs": [],
   "source": [
    "compelte_df['Departments'] = dep_names"
   ]
  },
  {
   "cell_type": "code",
   "execution_count": 33,
   "metadata": {},
   "outputs": [
    {
     "data": {
      "text/html": [
       "<div>\n",
       "<style scoped>\n",
       "    .dataframe tbody tr th:only-of-type {\n",
       "        vertical-align: middle;\n",
       "    }\n",
       "\n",
       "    .dataframe tbody tr th {\n",
       "        vertical-align: top;\n",
       "    }\n",
       "\n",
       "    .dataframe thead th {\n",
       "        text-align: right;\n",
       "    }\n",
       "</style>\n",
       "<table border=\"1\" class=\"dataframe\">\n",
       "  <thead>\n",
       "    <tr style=\"text-align: right;\">\n",
       "      <th></th>\n",
       "      <th>Title</th>\n",
       "      <th>Difficult</th>\n",
       "      <th>Description</th>\n",
       "      <th>Link</th>\n",
       "      <th>Departments</th>\n",
       "    </tr>\n",
       "  </thead>\n",
       "  <tbody>\n",
       "    <tr>\n",
       "      <th>0</th>\n",
       "      <td>Introduction to Civil and Environmental Engine...</td>\n",
       "      <td>Undergraduate</td>\n",
       "      <td>In this sophomore design course, you will be c...</td>\n",
       "      <td>https://ocw.mit.edu/courses/1-101-introduction...</td>\n",
       "      <td>Civil and Environmental Engineering</td>\n",
       "    </tr>\n",
       "    <tr>\n",
       "      <th>1</th>\n",
       "      <td>Public Transportation Systems</td>\n",
       "      <td>Graduate</td>\n",
       "      <td>This course discusses the evolution and role o...</td>\n",
       "      <td>https://ocw.mit.edu/courses/1-258j-public-tran...</td>\n",
       "      <td>Civil and Environmental Engineering</td>\n",
       "    </tr>\n",
       "    <tr>\n",
       "      <th>2</th>\n",
       "      <td>Urban Energy Systems and Policy</td>\n",
       "      <td>Undergraduate, Graduate</td>\n",
       "      <td>This class is about figuring out together what...</td>\n",
       "      <td>https://ocw.mit.edu/courses/11-165j-urban-ener...</td>\n",
       "      <td>Urban Studies and Planning</td>\n",
       "    </tr>\n",
       "  </tbody>\n",
       "</table>\n",
       "</div>"
      ],
      "text/plain": [
       "                                               Title                Difficult  \\\n",
       "0  Introduction to Civil and Environmental Engine...            Undergraduate   \n",
       "1                      Public Transportation Systems                 Graduate   \n",
       "2                    Urban Energy Systems and Policy  Undergraduate, Graduate   \n",
       "\n",
       "                                         Description  \\\n",
       "0  In this sophomore design course, you will be c...   \n",
       "1  This course discusses the evolution and role o...   \n",
       "2  This class is about figuring out together what...   \n",
       "\n",
       "                                                Link  \\\n",
       "0  https://ocw.mit.edu/courses/1-101-introduction...   \n",
       "1  https://ocw.mit.edu/courses/1-258j-public-tran...   \n",
       "2  https://ocw.mit.edu/courses/11-165j-urban-ener...   \n",
       "\n",
       "                           Departments  \n",
       "0  Civil and Environmental Engineering  \n",
       "1  Civil and Environmental Engineering  \n",
       "2           Urban Studies and Planning  "
      ]
     },
     "execution_count": 33,
     "metadata": {},
     "output_type": "execute_result"
    }
   ],
   "source": [
    "compelte_df.head(3)"
   ]
  },
  {
   "cell_type": "markdown",
   "metadata": {},
   "source": [
    "## Extracting Course Topics"
   ]
  },
  {
   "cell_type": "code",
   "execution_count": 35,
   "metadata": {},
   "outputs": [],
   "source": [
    "def extract_course_topics(url):\n",
    "    response = requests.get(url=url)\n",
    "    soup = BeautifulSoup(response.content, 'html.parser')\n",
    "\n",
    "    topics = []\n",
    "    \n",
    "    try:\n",
    "        topic_element = soup.find_all('span', class_ = \"topic-text-wrapper\")\n",
    "        for topic in topic_element:\n",
    "\n",
    "            course_topic = topic.find('a', class_ = \"text-black course-info-topic strip-link-offline\").text.strip()\n",
    "            topics.append(course_topic)\n",
    "    except:\n",
    "        topics.append(np.nan)\n",
    "        print(f\"No course topic elements found for URL: {url}\")\n",
    "        \n",
    "    return topics\n",
    "\n",
    "def extract_topic_from_multiple_links(urls):\n",
    "    all_course_topics = []\n",
    "    for url in urls:\n",
    "        course_topics = extract_course_topics(url)\n",
    "        all_course_topics.append(course_topics)\n",
    "    return all_course_topics"
   ]
  },
  {
   "cell_type": "code",
   "execution_count": 36,
   "metadata": {},
   "outputs": [
    {
     "name": "stdout",
     "output_type": "stream",
     "text": [
      "Topics for URL https://ocw.mit.edu/courses/1-101-introduction-to-civil-and-environmental-engineering-design-i-fall-2006/: ['Engineering', 'Civil Engineering', 'Environmental Engineering', 'Engineering', 'Civil Engineering', 'Environmental Engineering']\n",
      "Topics for URL https://ocw.mit.edu/courses/1-258j-public-transportation-systems-spring-2017/: ['Engineering', 'Civil Engineering', 'Transportation Engineering', 'Social Science', 'Urban Studies', 'Transportation Planning', 'Engineering', 'Civil Engineering', 'Transportation Engineering', 'Social Science', 'Urban Studies', 'Transportation Planning']\n",
      "Topics for URL https://ocw.mit.edu/courses/11-165j-urban-energy-systems-and-policy-fall-2022/: ['Energy', 'Social Science', 'Urban Studies', 'Urban Planning', 'Energy', 'Social Science', 'Urban Studies', 'Urban Planning']\n",
      "Topics for URL https://ocw.mit.edu/courses/1-252j-urban-transportation-planning-fall-2016/: ['Engineering', 'Civil Engineering', 'Transportation Engineering', 'Social Science', 'Public Administration', 'Public Policy', 'Urban Studies', 'Transportation Planning', 'Urban Planning', 'Engineering', 'Civil Engineering', 'Transportation Engineering', 'Social Science', 'Public Administration', 'Public Policy', 'Urban Studies', 'Transportation Planning', 'Urban Planning']\n",
      "Topics for URL https://ocw.mit.edu/courses/1-731-water-resource-systems-fall-2006/: ['Engineering', 'Environmental Engineering', 'Aquatic Sciences and Water Quality Control', 'Hydrodynamics and Coastal Engineering', 'Hydrology and Water Resource Systems', 'Engineering', 'Environmental Engineering', 'Aquatic Sciences and Water Quality Control', 'Hydrodynamics and Coastal Engineering', 'Hydrology and Water Resource Systems']\n",
      "Topics for URL https://ocw.mit.edu/courses/1-85-water-and-wastewater-treatment-engineering-spring-2006/: ['Engineering', 'Environmental Engineering', 'Aquatic Sciences and Water Quality Control', 'Hydrology and Water Resource Systems', 'Engineering', 'Environmental Engineering', 'Aquatic Sciences and Water Quality Control', 'Hydrology and Water Resource Systems']\n",
      "Topics for URL https://ocw.mit.edu/courses/2-00aj-exploring-sea-space-earth-fundamentals-of-engineering-design-spring-2009/: ['Engineering', 'Electrical Engineering', 'Robotics and Control Systems', 'Mechanical Engineering', 'Mechanical Design', 'Ocean Engineering', 'Ocean Exploration', 'Systems Engineering', 'Systems Design', 'Engineering', 'Electrical Engineering', 'Robotics and Control Systems', 'Mechanical Engineering', 'Mechanical Design', 'Ocean Engineering', 'Ocean Exploration', 'Systems Engineering', 'Systems Design']\n",
      "Topics for URL https://ocw.mit.edu/courses/2-500-desalination-and-water-purification-spring-2009/: ['Energy', 'Climate', 'Engineering', 'Chemical Engineering', 'Separation Processes', 'Environmental Engineering', 'Aquatic Sciences and Water Quality Control', 'Hydrology and Water Resource Systems', 'Ocean Engineering', 'Oceanic Pollution Control', 'Energy', 'Climate', 'Engineering', 'Chemical Engineering', 'Separation Processes', 'Environmental Engineering', 'Aquatic Sciences and Water Quality Control', 'Hydrology and Water Resource Systems', 'Ocean Engineering', 'Oceanic Pollution Control']\n",
      "Topics for URL https://ocw.mit.edu/courses/2-60j-fundamentals-of-advanced-energy-conversion-spring-2020/: ['Energy', 'Combustion', 'Fossil Fuels', 'Fuel Cells', 'Hydrogen and Alternatives', 'Nuclear', 'Renewables', 'Engineering', 'Chemical Engineering', 'Transport Processes', 'Systems Engineering', 'Science', 'Physics', 'Thermodynamics', 'Energy', 'Combustion', 'Fossil Fuels', 'Fuel Cells', 'Hydrogen and Alternatives', 'Nuclear', 'Renewables', 'Engineering', 'Chemical Engineering', 'Transport Processes', 'Systems Engineering', 'Science', 'Physics', 'Thermodynamics']\n",
      "Topics for URL https://ocw.mit.edu/courses/3-003-principles-of-engineering-practice-spring-2010/: ['Business', 'Management', 'Engineering', 'Electrical Engineering', 'Materials Science and Engineering', 'Electronic Materials', 'Business', 'Management', 'Engineering', 'Electrical Engineering', 'Materials Science and Engineering', 'Electronic Materials']\n",
      "Topics for URL https://ocw.mit.edu/courses/3-080-economic-environmental-issues-in-materials-selection-fall-2005/: ['Engineering', 'Materials Science and Engineering', 'Science', 'Earth Science', 'Environmental Science', 'Social Science', 'Economics', 'Engineering', 'Materials Science and Engineering', 'Science', 'Earth Science', 'Environmental Science', 'Social Science', 'Economics']\n",
      "Topics for URL https://ocw.mit.edu/courses/4-401-environmental-technologies-in-buildings-fall-2018/: ['Energy', 'Buildings', 'Fine Arts', 'Architecture', 'Environmental Design', 'Energy', 'Buildings', 'Fine Arts', 'Architecture', 'Environmental Design']\n",
      "Topics for URL https://ocw.mit.edu/courses/4-42j-fundamentals-of-energy-in-buildings-fall-2010/: ['Fine Arts', 'Architecture', 'Architectural Design', 'Architectural Engineering', 'Environmental Design', 'Fine Arts', 'Architecture', 'Architectural Design', 'Architectural Engineering', 'Environmental Design']\n",
      "Topics for URL https://ocw.mit.edu/courses/11-308j-advanced-seminar-urban-nature-and-city-design-fall-2012/: ['Social Science', 'Urban Studies', 'Urban Planning', 'Social Science', 'Urban Studies', 'Urban Planning']\n",
      "Topics for URL https://ocw.mit.edu/courses/11-479j-water-and-sanitation-infrastructure-in-developing-countries-spring-2007/: ['Engineering', 'Environmental Engineering', 'Aquatic Sciences and Water Quality Control', 'Environmental Management', 'Hydrology and Water Resource Systems', 'Health and Medicine', 'Public Health', 'Social Science', 'Public Administration', 'Environmental Policy', 'Urban Studies', 'Regional Planning', 'Society', 'The Developing World', 'Engineering', 'Environmental Engineering', 'Aquatic Sciences and Water Quality Control', 'Environmental Management', 'Hydrology and Water Resource Systems', 'Health and Medicine', 'Public Health', 'Social Science', 'Public Administration', 'Environmental Policy', 'Urban Studies', 'Regional Planning', 'Society', 'The Developing World']\n",
      "Topics for URL https://ocw.mit.edu/courses/11-s196-global-freshwater-crisis-spring-2011/: ['Engineering', 'Environmental Engineering', 'Aquatic Sciences and Water Quality Control', 'Environmental Management', 'Hydrodynamics and Coastal Engineering', 'Social Science', 'Economics', 'International Development', 'Engineering', 'Environmental Engineering', 'Aquatic Sciences and Water Quality Control', 'Environmental Management', 'Hydrodynamics and Coastal Engineering', 'Social Science', 'Economics', 'International Development']\n",
      "Topics for URL https://ocw.mit.edu/courses/11-s955-the-sustainability-response-to-covid-19-january-iap-2021/: ['Energy', 'Transportation', 'Health and Medicine', 'Public Health', 'Social Science', 'Urban Studies', 'Transportation Planning', 'Energy', 'Transportation', 'Health and Medicine', 'Public Health', 'Social Science', 'Urban Studies', 'Transportation Planning']\n",
      "Topics for URL https://ocw.mit.edu/courses/12-000-solving-complex-problems-fall-2009/: ['Engineering', 'Environmental Engineering', 'Environmental Management', 'Science', 'Earth Science', 'Atmospheric Science', 'Environmental Science', 'Social Science', 'Public Administration', 'Environmental Policy', 'Engineering', 'Environmental Engineering', 'Environmental Management', 'Science', 'Earth Science', 'Atmospheric Science', 'Environmental Science', 'Social Science', 'Public Administration', 'Environmental Policy']\n",
      "Topics for URL https://ocw.mit.edu/courses/15-772j-d-lab-supply-chains-fall-2014/: ['Business', 'Supply Chain Management', 'Society', 'The Developing World', 'Business', 'Supply Chain Management', 'Society', 'The Developing World']\n",
      "Topics for URL https://ocw.mit.edu/courses/22-033-nuclear-systems-design-project-fall-2011/: ['Business', 'Project Management', 'Energy', 'Hydrogen and Alternatives', 'Nuclear', 'Renewables', 'Engineering', 'Nuclear Engineering', 'Nuclear Systems, Policy, and Economics', 'Systems Engineering', 'Systems Design', 'Science', 'Physics', 'Nuclear Physics', 'Business', 'Project Management', 'Energy', 'Hydrogen and Alternatives', 'Nuclear', 'Renewables', 'Engineering', 'Nuclear Engineering', 'Nuclear Systems, Policy, and Economics', 'Systems Engineering', 'Systems Design', 'Science', 'Physics', 'Nuclear Physics']\n",
      "Topics for URL https://ocw.mit.edu/courses/22-081j-introduction-to-sustainable-energy-fall-2010/: ['Energy', 'Combustion', 'Electricity', 'Fossil Fuels', 'Nuclear', 'Renewables', 'Technology', 'Transportation', 'Engineering', 'Electrical Engineering', 'Electric Power', 'Science', 'Earth Science', 'Sustainability', 'Social Science', 'Public Administration', 'Science and Technology Policy', 'Energy', 'Combustion', 'Electricity', 'Fossil Fuels', 'Nuclear', 'Renewables', 'Technology', 'Transportation', 'Engineering', 'Electrical Engineering', 'Electric Power', 'Science', 'Earth Science', 'Sustainability', 'Social Science', 'Public Administration', 'Science and Technology Policy']\n",
      "Topics for URL https://ocw.mit.edu/courses/ec-701j-d-lab-i-development-fall-2009/: ['Engineering', 'Science', 'Earth Science', 'Sustainability', 'Social Science', 'Economics', 'Developmental Economics', 'Society', 'The Developing World', 'Engineering', 'Science', 'Earth Science', 'Sustainability', 'Social Science', 'Economics', 'Developmental Economics', 'Society', 'The Developing World']\n",
      "Topics for URL https://ocw.mit.edu/courses/ec-720j-d-lab-ii-design-spring-2010/: ['Engineering', 'Science', 'Earth Science', 'Sustainability', 'Social Science', 'Economics', 'Developmental Economics', 'Society', 'The Developing World', 'Engineering', 'Science', 'Earth Science', 'Sustainability', 'Social Science', 'Economics', 'Developmental Economics', 'Society', 'The Developing World']\n",
      "Topics for URL https://ocw.mit.edu/courses/ec-711-d-lab-energy-spring-2011/: ['Energy', 'Engineering', 'Electrical Engineering', 'Electric Power', 'Science', 'Earth Science', 'Sustainability', 'Society', 'The Developing World', 'Energy', 'Engineering', 'Electrical Engineering', 'Electric Power', 'Science', 'Earth Science', 'Sustainability', 'Society', 'The Developing World']\n",
      "Topics for URL https://ocw.mit.edu/courses/ec-715-d-lab-water-sanitation-and-hygiene-fall-2019/: ['Engineering', 'Environmental Engineering', 'Aquatic Sciences and Water Quality Control', 'Health and Medicine', 'Public Health', 'Science', 'Earth Science', 'Sustainability', 'Society', 'The Developing World', 'Engineering', 'Environmental Engineering', 'Aquatic Sciences and Water Quality Control', 'Health and Medicine', 'Public Health', 'Science', 'Earth Science', 'Sustainability', 'Society', 'The Developing World']\n",
      "Topics for URL https://ocw.mit.edu/courses/res-env-001-climate-action-hands-on-harnessing-science-with-communities-to-cut-carbon-january-iap-2017/: ['Energy', 'Climate', 'Fossil Fuels', 'Engineering', 'Environmental Engineering', 'Environmental Management', 'Social Science', 'Public Administration', 'Environmental Policy', 'Energy', 'Climate', 'Fossil Fuels', 'Engineering', 'Environmental Engineering', 'Environmental Management', 'Social Science', 'Public Administration', 'Environmental Policy']\n",
      "Topics for URL https://ocw.mit.edu/courses/4-406-ecologies-of-construction-spring-2007/: ['Fine Arts', 'Architecture', 'Architectural Engineering', 'Environmental Design', 'Fine Arts', 'Architecture', 'Architectural Engineering', 'Environmental Design']\n"
     ]
    }
   ],
   "source": [
    "all_course_topics = extract_topic_from_multiple_links(compelte_df['Link'].values)\n",
    "for i, url in enumerate(compelte_df['Link'].values):\n",
    "    print(f\"Topics for URL {url}: {all_course_topics[i]}\")"
   ]
  },
  {
   "cell_type": "markdown",
   "metadata": {},
   "source": [
    "## Final Data for Environment & Sustainability: Engineering"
   ]
  },
  {
   "cell_type": "code",
   "execution_count": 38,
   "metadata": {},
   "outputs": [],
   "source": [
    "compelte_df['Topics'] = all_course_topics"
   ]
  },
  {
   "cell_type": "code",
   "execution_count": 41,
   "metadata": {},
   "outputs": [],
   "source": [
    "compelte_df.to_csv(\"Environment & Sustainability: Engineering.csv\", index=False)"
   ]
  },
  {
   "cell_type": "code",
   "execution_count": 42,
   "metadata": {},
   "outputs": [
    {
     "data": {
      "text/plain": [
       "Index(['Title', 'Difficult', 'Description', 'Link', 'Departments', 'Topics'], dtype='object')"
      ]
     },
     "execution_count": 42,
     "metadata": {},
     "output_type": "execute_result"
    }
   ],
   "source": [
    "compelte_df.columns"
   ]
  },
  {
   "cell_type": "code",
   "execution_count": null,
   "metadata": {},
   "outputs": [],
   "source": []
  }
 ],
 "metadata": {
  "kernelspec": {
   "display_name": ".venv",
   "language": "python",
   "name": "python3"
  },
  "language_info": {
   "codemirror_mode": {
    "name": "ipython",
    "version": 3
   },
   "file_extension": ".py",
   "mimetype": "text/x-python",
   "name": "python",
   "nbconvert_exporter": "python",
   "pygments_lexer": "ipython3",
   "version": "3.12.7"
  }
 },
 "nbformat": 4,
 "nbformat_minor": 2
}
